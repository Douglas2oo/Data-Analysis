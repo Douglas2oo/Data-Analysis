{
 "cells": [
  {
   "cell_type": "markdown",
   "metadata": {},
   "source": [
    "# 导入数据"
   ]
  },
  {
   "cell_type": "code",
   "execution_count": 1,
   "metadata": {},
   "outputs": [
    {
     "data": {
      "text/html": [
       "<div>\n",
       "<style scoped>\n",
       "    .dataframe tbody tr th:only-of-type {\n",
       "        vertical-align: middle;\n",
       "    }\n",
       "\n",
       "    .dataframe tbody tr th {\n",
       "        vertical-align: top;\n",
       "    }\n",
       "\n",
       "    .dataframe thead th {\n",
       "        text-align: right;\n",
       "    }\n",
       "</style>\n",
       "<table border=\"1\" class=\"dataframe\">\n",
       "  <thead>\n",
       "    <tr style=\"text-align: right;\">\n",
       "      <th></th>\n",
       "      <th>x</th>\n",
       "      <th>Account_Corrected</th>\n",
       "      <th>KOL_Estimated</th>\n",
       "      <th>Acquisition time</th>\n",
       "      <th>Note</th>\n",
       "      <th>Transfer_Estimated</th>\n",
       "      <th>Account_Category</th>\n",
       "    </tr>\n",
       "  </thead>\n",
       "  <tbody>\n",
       "    <tr>\n",
       "      <th>0</th>\n",
       "      <td>0,189124,554546,853325,2137391,3024944,4656365...</td>\n",
       "      <td>0,0.5468192516090232,0.6632214700887411,0.7035...</td>\n",
       "      <td>0.099</td>\n",
       "      <td>2022-06-06 16:44:23</td>\n",
       "      <td>NaN</td>\n",
       "      <td>0.10</td>\n",
       "      <td>ACC1</td>\n",
       "    </tr>\n",
       "    <tr>\n",
       "      <th>1</th>\n",
       "      <td>0,188931,554039,851768,2136506,3024346,4656015...</td>\n",
       "      <td>0,0.5462612255755186,0.6626151123017676,0.7022...</td>\n",
       "      <td>0.100</td>\n",
       "      <td>2022-06-06 16:44:02</td>\n",
       "      <td>NaN</td>\n",
       "      <td>0.10</td>\n",
       "      <td>ACC1</td>\n",
       "    </tr>\n",
       "    <tr>\n",
       "      <th>2</th>\n",
       "      <td>0,211226,597503,913885,2536325,3329575,4711930...</td>\n",
       "      <td>0,0.6107233520884052,0.7145968378501208,0.7534...</td>\n",
       "      <td>0.079</td>\n",
       "      <td>2022-06-06 16:42:09</td>\n",
       "      <td>NaN</td>\n",
       "      <td>0.08</td>\n",
       "      <td>ACC1</td>\n",
       "    </tr>\n",
       "    <tr>\n",
       "      <th>3</th>\n",
       "      <td>0,211001,597052,912784,2535538,3327894,4710049...</td>\n",
       "      <td>0,0.6100728036037495,0.7140574544932666,0.7525...</td>\n",
       "      <td>0.079</td>\n",
       "      <td>2022-06-06 16:41:48</td>\n",
       "      <td>NaN</td>\n",
       "      <td>0.08</td>\n",
       "      <td>ACC1</td>\n",
       "    </tr>\n",
       "    <tr>\n",
       "      <th>4</th>\n",
       "      <td>0,236362,645322,977921,2995910,3664520,4764677...</td>\n",
       "      <td>0,0.6833997374675449,0.7717870213122204,0.8062...</td>\n",
       "      <td>0.060</td>\n",
       "      <td>2022-06-06 16:39:53</td>\n",
       "      <td>NaN</td>\n",
       "      <td>0.06</td>\n",
       "      <td>ACC1</td>\n",
       "    </tr>\n",
       "    <tr>\n",
       "      <th>5</th>\n",
       "      <td>0,236165,644704,976729,2994967,3664517,4765892...</td>\n",
       "      <td>0,0.6828301461276463,0.7710479106369746,0.8052...</td>\n",
       "      <td>0.060</td>\n",
       "      <td>2022-06-06 16:39:33</td>\n",
       "      <td>NaN</td>\n",
       "      <td>0.06</td>\n",
       "      <td>ACC1</td>\n",
       "    </tr>\n",
       "    <tr>\n",
       "      <th>6</th>\n",
       "      <td>0,266877,701724,1047614,3553258,4055496,482317...</td>\n",
       "      <td>0,0.7716285686198542,0.8392422321620782,0.8637...</td>\n",
       "      <td>0.039</td>\n",
       "      <td>2022-06-06 16:37:24</td>\n",
       "      <td>NaN</td>\n",
       "      <td>0.04</td>\n",
       "      <td>ACC1</td>\n",
       "    </tr>\n",
       "    <tr>\n",
       "      <th>7</th>\n",
       "      <td>0,266733,701070,1046157,3553995,4056467,482449...</td>\n",
       "      <td>0,0.7712122175896745,0.8384600664960413,0.8625...</td>\n",
       "      <td>0.039</td>\n",
       "      <td>2022-06-06 16:37:03</td>\n",
       "      <td>NaN</td>\n",
       "      <td>0.04</td>\n",
       "      <td>ACC1</td>\n",
       "    </tr>\n",
       "    <tr>\n",
       "      <th>8</th>\n",
       "      <td>0,303086,767582,1121372,4223540,4503913,488867...</td>\n",
       "      <td>0,0.8763206134238511,0.918006553926376,0.92453...</td>\n",
       "      <td>0.020</td>\n",
       "      <td>2022-06-06 16:35:14</td>\n",
       "      <td>NaN</td>\n",
       "      <td>0.02</td>\n",
       "      <td>ACC1</td>\n",
       "    </tr>\n",
       "    <tr>\n",
       "      <th>9</th>\n",
       "      <td>0,302572,766242,1119155,4222559,4502478,488552...</td>\n",
       "      <td>0,0.8748344715522376,0.916403951491377,0.92270...</td>\n",
       "      <td>0.020</td>\n",
       "      <td>2022-06-06 16:34:53</td>\n",
       "      <td>NaN</td>\n",
       "      <td>0.02</td>\n",
       "      <td>ACC1</td>\n",
       "    </tr>\n",
       "    <tr>\n",
       "      <th>10</th>\n",
       "      <td>0,179633,571724,767581,2859210,2114203,4104028...</td>\n",
       "      <td>0,0.5193776708629453,0.6837658765278541,0.6328...</td>\n",
       "      <td>0.100</td>\n",
       "      <td>2022-06-06 16:12:29</td>\n",
       "      <td>NaN</td>\n",
       "      <td>0.10</td>\n",
       "      <td>ACC2</td>\n",
       "    </tr>\n",
       "    <tr>\n",
       "      <th>11</th>\n",
       "      <td>0,179637,571360,766523,2855682,2114264,4104258...</td>\n",
       "      <td>0,0.5193892361693392,0.6833305427320784,0.6319...</td>\n",
       "      <td>0.099</td>\n",
       "      <td>2022-06-06 16:12:08</td>\n",
       "      <td>NaN</td>\n",
       "      <td>0.10</td>\n",
       "      <td>ACC2</td>\n",
       "    </tr>\n",
       "    <tr>\n",
       "      <th>12</th>\n",
       "      <td>0,203330,616198,842122,3209009,2517586,4243502...</td>\n",
       "      <td>0,0.5878934372668868,0.7369555337622886,0.6943...</td>\n",
       "      <td>0.079</td>\n",
       "      <td>2022-06-06 16:10:14</td>\n",
       "      <td>NaN</td>\n",
       "      <td>0.08</td>\n",
       "      <td>ACC2</td>\n",
       "    </tr>\n",
       "    <tr>\n",
       "      <th>13</th>\n",
       "      <td>0,203337,615993,840898,3207915,2517104,4242703...</td>\n",
       "      <td>0,0.5879136765530761,0.7367103595091731,0.6932...</td>\n",
       "      <td>0.079</td>\n",
       "      <td>2022-06-06 16:09:53</td>\n",
       "      <td>NaN</td>\n",
       "      <td>0.08</td>\n",
       "      <td>ACC2</td>\n",
       "    </tr>\n",
       "    <tr>\n",
       "      <th>14</th>\n",
       "      <td>0,231034,666236,919984,3593401,2989239,4391702...</td>\n",
       "      <td>0,0.6679947493508972,0.7967995790178678,0.7584...</td>\n",
       "      <td>0.060</td>\n",
       "      <td>2022-06-06 16:07:57</td>\n",
       "      <td>NaN</td>\n",
       "      <td>0.06</td>\n",
       "      <td>ACC2</td>\n",
       "    </tr>\n",
       "    <tr>\n",
       "      <th>15</th>\n",
       "      <td>0,230669,665490,918797,3592483,2989023,4392051...</td>\n",
       "      <td>0,0.6669394151424557,0.7959073839309206,0.7575...</td>\n",
       "      <td>0.060</td>\n",
       "      <td>2022-06-06 16:07:36</td>\n",
       "      <td>NaN</td>\n",
       "      <td>0.06</td>\n",
       "      <td>ACC2</td>\n",
       "    </tr>\n",
       "    <tr>\n",
       "      <th>16</th>\n",
       "      <td>0,263538,720869,1005390,4020530,3554773,455992...</td>\n",
       "      <td>0,0.7619744291075631,0.8621391154591337,0.8289...</td>\n",
       "      <td>0.040</td>\n",
       "      <td>2022-06-06 16:05:40</td>\n",
       "      <td>NaN</td>\n",
       "      <td>0.04</td>\n",
       "      <td>ACC2</td>\n",
       "    </tr>\n",
       "    <tr>\n",
       "      <th>17</th>\n",
       "      <td>0,263349,720304,1003617,4019089,3555644,456109...</td>\n",
       "      <td>0,0.7614279683804523,0.861463391298108,0.82745...</td>\n",
       "      <td>0.039</td>\n",
       "      <td>2022-06-06 16:05:19</td>\n",
       "      <td>NaN</td>\n",
       "      <td>0.04</td>\n",
       "      <td>ACC2</td>\n",
       "    </tr>\n",
       "    <tr>\n",
       "      <th>18</th>\n",
       "      <td>0,303119,783455,1098581,4514517,4243681,476016...</td>\n",
       "      <td>0,0.8764160272016006,0.9369902169493147,0.9057...</td>\n",
       "      <td>0.020</td>\n",
       "      <td>2022-06-06 16:02:57</td>\n",
       "      <td>NaN</td>\n",
       "      <td>0.02</td>\n",
       "      <td>ACC2</td>\n",
       "    </tr>\n",
       "    <tr>\n",
       "      <th>19</th>\n",
       "      <td>0,303208,783387,1096898,4517748,4247854,476219...</td>\n",
       "      <td>0,0.8766733552688645,0.9369088908555984,0.9043...</td>\n",
       "      <td>0.019</td>\n",
       "      <td>2022-06-06 16:02:32</td>\n",
       "      <td>NaN</td>\n",
       "      <td>0.02</td>\n",
       "      <td>ACC2</td>\n",
       "    </tr>\n",
       "  </tbody>\n",
       "</table>\n",
       "</div>"
      ],
      "text/plain": [
       "                                                    x  \\\n",
       "0   0,189124,554546,853325,2137391,3024944,4656365...   \n",
       "1   0,188931,554039,851768,2136506,3024346,4656015...   \n",
       "2   0,211226,597503,913885,2536325,3329575,4711930...   \n",
       "3   0,211001,597052,912784,2535538,3327894,4710049...   \n",
       "4   0,236362,645322,977921,2995910,3664520,4764677...   \n",
       "5   0,236165,644704,976729,2994967,3664517,4765892...   \n",
       "6   0,266877,701724,1047614,3553258,4055496,482317...   \n",
       "7   0,266733,701070,1046157,3553995,4056467,482449...   \n",
       "8   0,303086,767582,1121372,4223540,4503913,488867...   \n",
       "9   0,302572,766242,1119155,4222559,4502478,488552...   \n",
       "10  0,179633,571724,767581,2859210,2114203,4104028...   \n",
       "11  0,179637,571360,766523,2855682,2114264,4104258...   \n",
       "12  0,203330,616198,842122,3209009,2517586,4243502...   \n",
       "13  0,203337,615993,840898,3207915,2517104,4242703...   \n",
       "14  0,231034,666236,919984,3593401,2989239,4391702...   \n",
       "15  0,230669,665490,918797,3592483,2989023,4392051...   \n",
       "16  0,263538,720869,1005390,4020530,3554773,455992...   \n",
       "17  0,263349,720304,1003617,4019089,3555644,456109...   \n",
       "18  0,303119,783455,1098581,4514517,4243681,476016...   \n",
       "19  0,303208,783387,1096898,4517748,4247854,476219...   \n",
       "\n",
       "                                    Account_Corrected  KOL_Estimated  \\\n",
       "0   0,0.5468192516090232,0.6632214700887411,0.7035...          0.099   \n",
       "1   0,0.5462612255755186,0.6626151123017676,0.7022...          0.100   \n",
       "2   0,0.6107233520884052,0.7145968378501208,0.7534...          0.079   \n",
       "3   0,0.6100728036037495,0.7140574544932666,0.7525...          0.079   \n",
       "4   0,0.6833997374675449,0.7717870213122204,0.8062...          0.060   \n",
       "5   0,0.6828301461276463,0.7710479106369746,0.8052...          0.060   \n",
       "6   0,0.7716285686198542,0.8392422321620782,0.8637...          0.039   \n",
       "7   0,0.7712122175896745,0.8384600664960413,0.8625...          0.039   \n",
       "8   0,0.8763206134238511,0.918006553926376,0.92453...          0.020   \n",
       "9   0,0.8748344715522376,0.916403951491377,0.92270...          0.020   \n",
       "10  0,0.5193776708629453,0.6837658765278541,0.6328...          0.100   \n",
       "11  0,0.5193892361693392,0.6833305427320784,0.6319...          0.099   \n",
       "12  0,0.5878934372668868,0.7369555337622886,0.6943...          0.079   \n",
       "13  0,0.5879136765530761,0.7367103595091731,0.6932...          0.079   \n",
       "14  0,0.6679947493508972,0.7967995790178678,0.7584...          0.060   \n",
       "15  0,0.6669394151424557,0.7959073839309206,0.7575...          0.060   \n",
       "16  0,0.7619744291075631,0.8621391154591337,0.8289...          0.040   \n",
       "17  0,0.7614279683804523,0.861463391298108,0.82745...          0.039   \n",
       "18  0,0.8764160272016006,0.9369902169493147,0.9057...          0.020   \n",
       "19  0,0.8766733552688645,0.9369088908555984,0.9043...          0.019   \n",
       "\n",
       "       Acquisition time  Note  Transfer_Estimated Account_Category  \n",
       "0   2022-06-06 16:44:23   NaN                0.10             ACC1  \n",
       "1   2022-06-06 16:44:02   NaN                0.10             ACC1  \n",
       "2   2022-06-06 16:42:09   NaN                0.08             ACC1  \n",
       "3   2022-06-06 16:41:48   NaN                0.08             ACC1  \n",
       "4   2022-06-06 16:39:53   NaN                0.06             ACC1  \n",
       "5   2022-06-06 16:39:33   NaN                0.06             ACC1  \n",
       "6   2022-06-06 16:37:24   NaN                0.04             ACC1  \n",
       "7   2022-06-06 16:37:03   NaN                0.04             ACC1  \n",
       "8   2022-06-06 16:35:14   NaN                0.02             ACC1  \n",
       "9   2022-06-06 16:34:53   NaN                0.02             ACC1  \n",
       "10  2022-06-06 16:12:29   NaN                0.10             ACC2  \n",
       "11  2022-06-06 16:12:08   NaN                0.10             ACC2  \n",
       "12  2022-06-06 16:10:14   NaN                0.08             ACC2  \n",
       "13  2022-06-06 16:09:53   NaN                0.08             ACC2  \n",
       "14  2022-06-06 16:07:57   NaN                0.06             ACC2  \n",
       "15  2022-06-06 16:07:36   NaN                0.06             ACC2  \n",
       "16  2022-06-06 16:05:40   NaN                0.04             ACC2  \n",
       "17  2022-06-06 16:05:19   NaN                0.04             ACC2  \n",
       "18  2022-06-06 16:02:57   NaN                0.02             ACC2  \n",
       "19  2022-06-06 16:02:32   NaN                0.02             ACC2  "
      ]
     },
     "execution_count": 1,
     "metadata": {},
     "output_type": "execute_result"
    }
   ],
   "source": [
    "import pandas as pd\n",
    "\n",
    "data = pd.read_excel('./任务/Account_Level_Analysis.xlsx')\n",
    "\n",
    "data"
   ]
  },
  {
   "cell_type": "markdown",
   "metadata": {},
   "source": [
    "# 数据清洗，删除缺失值所在列"
   ]
  },
  {
   "cell_type": "code",
   "execution_count": 2,
   "metadata": {},
   "outputs": [
    {
     "data": {
      "text/html": [
       "<div>\n",
       "<style scoped>\n",
       "    .dataframe tbody tr th:only-of-type {\n",
       "        vertical-align: middle;\n",
       "    }\n",
       "\n",
       "    .dataframe tbody tr th {\n",
       "        vertical-align: top;\n",
       "    }\n",
       "\n",
       "    .dataframe thead th {\n",
       "        text-align: right;\n",
       "    }\n",
       "</style>\n",
       "<table border=\"1\" class=\"dataframe\">\n",
       "  <thead>\n",
       "    <tr style=\"text-align: right;\">\n",
       "      <th></th>\n",
       "      <th>x</th>\n",
       "      <th>Account_Corrected</th>\n",
       "      <th>KOL_Estimated</th>\n",
       "      <th>Acquisition time</th>\n",
       "      <th>Transfer_Estimated</th>\n",
       "      <th>Account_Category</th>\n",
       "    </tr>\n",
       "  </thead>\n",
       "  <tbody>\n",
       "    <tr>\n",
       "      <th>0</th>\n",
       "      <td>0,189124,554546,853325,2137391,3024944,4656365...</td>\n",
       "      <td>0,0.5468192516090232,0.6632214700887411,0.7035...</td>\n",
       "      <td>0.099</td>\n",
       "      <td>2022-06-06 16:44:23</td>\n",
       "      <td>0.10</td>\n",
       "      <td>ACC1</td>\n",
       "    </tr>\n",
       "    <tr>\n",
       "      <th>1</th>\n",
       "      <td>0,188931,554039,851768,2136506,3024346,4656015...</td>\n",
       "      <td>0,0.5462612255755186,0.6626151123017676,0.7022...</td>\n",
       "      <td>0.100</td>\n",
       "      <td>2022-06-06 16:44:02</td>\n",
       "      <td>0.10</td>\n",
       "      <td>ACC1</td>\n",
       "    </tr>\n",
       "    <tr>\n",
       "      <th>2</th>\n",
       "      <td>0,211226,597503,913885,2536325,3329575,4711930...</td>\n",
       "      <td>0,0.6107233520884052,0.7145968378501208,0.7534...</td>\n",
       "      <td>0.079</td>\n",
       "      <td>2022-06-06 16:42:09</td>\n",
       "      <td>0.08</td>\n",
       "      <td>ACC1</td>\n",
       "    </tr>\n",
       "    <tr>\n",
       "      <th>3</th>\n",
       "      <td>0,211001,597052,912784,2535538,3327894,4710049...</td>\n",
       "      <td>0,0.6100728036037495,0.7140574544932666,0.7525...</td>\n",
       "      <td>0.079</td>\n",
       "      <td>2022-06-06 16:41:48</td>\n",
       "      <td>0.08</td>\n",
       "      <td>ACC1</td>\n",
       "    </tr>\n",
       "    <tr>\n",
       "      <th>4</th>\n",
       "      <td>0,236362,645322,977921,2995910,3664520,4764677...</td>\n",
       "      <td>0,0.6833997374675449,0.7717870213122204,0.8062...</td>\n",
       "      <td>0.060</td>\n",
       "      <td>2022-06-06 16:39:53</td>\n",
       "      <td>0.06</td>\n",
       "      <td>ACC1</td>\n",
       "    </tr>\n",
       "    <tr>\n",
       "      <th>5</th>\n",
       "      <td>0,236165,644704,976729,2994967,3664517,4765892...</td>\n",
       "      <td>0,0.6828301461276463,0.7710479106369746,0.8052...</td>\n",
       "      <td>0.060</td>\n",
       "      <td>2022-06-06 16:39:33</td>\n",
       "      <td>0.06</td>\n",
       "      <td>ACC1</td>\n",
       "    </tr>\n",
       "    <tr>\n",
       "      <th>6</th>\n",
       "      <td>0,266877,701724,1047614,3553258,4055496,482317...</td>\n",
       "      <td>0,0.7716285686198542,0.8392422321620782,0.8637...</td>\n",
       "      <td>0.039</td>\n",
       "      <td>2022-06-06 16:37:24</td>\n",
       "      <td>0.04</td>\n",
       "      <td>ACC1</td>\n",
       "    </tr>\n",
       "    <tr>\n",
       "      <th>7</th>\n",
       "      <td>0,266733,701070,1046157,3553995,4056467,482449...</td>\n",
       "      <td>0,0.7712122175896745,0.8384600664960413,0.8625...</td>\n",
       "      <td>0.039</td>\n",
       "      <td>2022-06-06 16:37:03</td>\n",
       "      <td>0.04</td>\n",
       "      <td>ACC1</td>\n",
       "    </tr>\n",
       "    <tr>\n",
       "      <th>8</th>\n",
       "      <td>0,303086,767582,1121372,4223540,4503913,488867...</td>\n",
       "      <td>0,0.8763206134238511,0.918006553926376,0.92453...</td>\n",
       "      <td>0.020</td>\n",
       "      <td>2022-06-06 16:35:14</td>\n",
       "      <td>0.02</td>\n",
       "      <td>ACC1</td>\n",
       "    </tr>\n",
       "    <tr>\n",
       "      <th>9</th>\n",
       "      <td>0,302572,766242,1119155,4222559,4502478,488552...</td>\n",
       "      <td>0,0.8748344715522376,0.916403951491377,0.92270...</td>\n",
       "      <td>0.020</td>\n",
       "      <td>2022-06-06 16:34:53</td>\n",
       "      <td>0.02</td>\n",
       "      <td>ACC1</td>\n",
       "    </tr>\n",
       "    <tr>\n",
       "      <th>10</th>\n",
       "      <td>0,179633,571724,767581,2859210,2114203,4104028...</td>\n",
       "      <td>0,0.5193776708629453,0.6837658765278541,0.6328...</td>\n",
       "      <td>0.100</td>\n",
       "      <td>2022-06-06 16:12:29</td>\n",
       "      <td>0.10</td>\n",
       "      <td>ACC2</td>\n",
       "    </tr>\n",
       "    <tr>\n",
       "      <th>11</th>\n",
       "      <td>0,179637,571360,766523,2855682,2114264,4104258...</td>\n",
       "      <td>0,0.5193892361693392,0.6833305427320784,0.6319...</td>\n",
       "      <td>0.099</td>\n",
       "      <td>2022-06-06 16:12:08</td>\n",
       "      <td>0.10</td>\n",
       "      <td>ACC2</td>\n",
       "    </tr>\n",
       "    <tr>\n",
       "      <th>12</th>\n",
       "      <td>0,203330,616198,842122,3209009,2517586,4243502...</td>\n",
       "      <td>0,0.5878934372668868,0.7369555337622886,0.6943...</td>\n",
       "      <td>0.079</td>\n",
       "      <td>2022-06-06 16:10:14</td>\n",
       "      <td>0.08</td>\n",
       "      <td>ACC2</td>\n",
       "    </tr>\n",
       "    <tr>\n",
       "      <th>13</th>\n",
       "      <td>0,203337,615993,840898,3207915,2517104,4242703...</td>\n",
       "      <td>0,0.5879136765530761,0.7367103595091731,0.6932...</td>\n",
       "      <td>0.079</td>\n",
       "      <td>2022-06-06 16:09:53</td>\n",
       "      <td>0.08</td>\n",
       "      <td>ACC2</td>\n",
       "    </tr>\n",
       "    <tr>\n",
       "      <th>14</th>\n",
       "      <td>0,231034,666236,919984,3593401,2989239,4391702...</td>\n",
       "      <td>0,0.6679947493508972,0.7967995790178678,0.7584...</td>\n",
       "      <td>0.060</td>\n",
       "      <td>2022-06-06 16:07:57</td>\n",
       "      <td>0.06</td>\n",
       "      <td>ACC2</td>\n",
       "    </tr>\n",
       "    <tr>\n",
       "      <th>15</th>\n",
       "      <td>0,230669,665490,918797,3592483,2989023,4392051...</td>\n",
       "      <td>0,0.6669394151424557,0.7959073839309206,0.7575...</td>\n",
       "      <td>0.060</td>\n",
       "      <td>2022-06-06 16:07:36</td>\n",
       "      <td>0.06</td>\n",
       "      <td>ACC2</td>\n",
       "    </tr>\n",
       "    <tr>\n",
       "      <th>16</th>\n",
       "      <td>0,263538,720869,1005390,4020530,3554773,455992...</td>\n",
       "      <td>0,0.7619744291075631,0.8621391154591337,0.8289...</td>\n",
       "      <td>0.040</td>\n",
       "      <td>2022-06-06 16:05:40</td>\n",
       "      <td>0.04</td>\n",
       "      <td>ACC2</td>\n",
       "    </tr>\n",
       "    <tr>\n",
       "      <th>17</th>\n",
       "      <td>0,263349,720304,1003617,4019089,3555644,456109...</td>\n",
       "      <td>0,0.7614279683804523,0.861463391298108,0.82745...</td>\n",
       "      <td>0.039</td>\n",
       "      <td>2022-06-06 16:05:19</td>\n",
       "      <td>0.04</td>\n",
       "      <td>ACC2</td>\n",
       "    </tr>\n",
       "    <tr>\n",
       "      <th>18</th>\n",
       "      <td>0,303119,783455,1098581,4514517,4243681,476016...</td>\n",
       "      <td>0,0.8764160272016006,0.9369902169493147,0.9057...</td>\n",
       "      <td>0.020</td>\n",
       "      <td>2022-06-06 16:02:57</td>\n",
       "      <td>0.02</td>\n",
       "      <td>ACC2</td>\n",
       "    </tr>\n",
       "    <tr>\n",
       "      <th>19</th>\n",
       "      <td>0,303208,783387,1096898,4517748,4247854,476219...</td>\n",
       "      <td>0,0.8766733552688645,0.9369088908555984,0.9043...</td>\n",
       "      <td>0.019</td>\n",
       "      <td>2022-06-06 16:02:32</td>\n",
       "      <td>0.02</td>\n",
       "      <td>ACC2</td>\n",
       "    </tr>\n",
       "  </tbody>\n",
       "</table>\n",
       "</div>"
      ],
      "text/plain": [
       "                                                    x  \\\n",
       "0   0,189124,554546,853325,2137391,3024944,4656365...   \n",
       "1   0,188931,554039,851768,2136506,3024346,4656015...   \n",
       "2   0,211226,597503,913885,2536325,3329575,4711930...   \n",
       "3   0,211001,597052,912784,2535538,3327894,4710049...   \n",
       "4   0,236362,645322,977921,2995910,3664520,4764677...   \n",
       "5   0,236165,644704,976729,2994967,3664517,4765892...   \n",
       "6   0,266877,701724,1047614,3553258,4055496,482317...   \n",
       "7   0,266733,701070,1046157,3553995,4056467,482449...   \n",
       "8   0,303086,767582,1121372,4223540,4503913,488867...   \n",
       "9   0,302572,766242,1119155,4222559,4502478,488552...   \n",
       "10  0,179633,571724,767581,2859210,2114203,4104028...   \n",
       "11  0,179637,571360,766523,2855682,2114264,4104258...   \n",
       "12  0,203330,616198,842122,3209009,2517586,4243502...   \n",
       "13  0,203337,615993,840898,3207915,2517104,4242703...   \n",
       "14  0,231034,666236,919984,3593401,2989239,4391702...   \n",
       "15  0,230669,665490,918797,3592483,2989023,4392051...   \n",
       "16  0,263538,720869,1005390,4020530,3554773,455992...   \n",
       "17  0,263349,720304,1003617,4019089,3555644,456109...   \n",
       "18  0,303119,783455,1098581,4514517,4243681,476016...   \n",
       "19  0,303208,783387,1096898,4517748,4247854,476219...   \n",
       "\n",
       "                                    Account_Corrected  KOL_Estimated  \\\n",
       "0   0,0.5468192516090232,0.6632214700887411,0.7035...          0.099   \n",
       "1   0,0.5462612255755186,0.6626151123017676,0.7022...          0.100   \n",
       "2   0,0.6107233520884052,0.7145968378501208,0.7534...          0.079   \n",
       "3   0,0.6100728036037495,0.7140574544932666,0.7525...          0.079   \n",
       "4   0,0.6833997374675449,0.7717870213122204,0.8062...          0.060   \n",
       "5   0,0.6828301461276463,0.7710479106369746,0.8052...          0.060   \n",
       "6   0,0.7716285686198542,0.8392422321620782,0.8637...          0.039   \n",
       "7   0,0.7712122175896745,0.8384600664960413,0.8625...          0.039   \n",
       "8   0,0.8763206134238511,0.918006553926376,0.92453...          0.020   \n",
       "9   0,0.8748344715522376,0.916403951491377,0.92270...          0.020   \n",
       "10  0,0.5193776708629453,0.6837658765278541,0.6328...          0.100   \n",
       "11  0,0.5193892361693392,0.6833305427320784,0.6319...          0.099   \n",
       "12  0,0.5878934372668868,0.7369555337622886,0.6943...          0.079   \n",
       "13  0,0.5879136765530761,0.7367103595091731,0.6932...          0.079   \n",
       "14  0,0.6679947493508972,0.7967995790178678,0.7584...          0.060   \n",
       "15  0,0.6669394151424557,0.7959073839309206,0.7575...          0.060   \n",
       "16  0,0.7619744291075631,0.8621391154591337,0.8289...          0.040   \n",
       "17  0,0.7614279683804523,0.861463391298108,0.82745...          0.039   \n",
       "18  0,0.8764160272016006,0.9369902169493147,0.9057...          0.020   \n",
       "19  0,0.8766733552688645,0.9369088908555984,0.9043...          0.019   \n",
       "\n",
       "       Acquisition time  Transfer_Estimated Account_Category  \n",
       "0   2022-06-06 16:44:23                0.10             ACC1  \n",
       "1   2022-06-06 16:44:02                0.10             ACC1  \n",
       "2   2022-06-06 16:42:09                0.08             ACC1  \n",
       "3   2022-06-06 16:41:48                0.08             ACC1  \n",
       "4   2022-06-06 16:39:53                0.06             ACC1  \n",
       "5   2022-06-06 16:39:33                0.06             ACC1  \n",
       "6   2022-06-06 16:37:24                0.04             ACC1  \n",
       "7   2022-06-06 16:37:03                0.04             ACC1  \n",
       "8   2022-06-06 16:35:14                0.02             ACC1  \n",
       "9   2022-06-06 16:34:53                0.02             ACC1  \n",
       "10  2022-06-06 16:12:29                0.10             ACC2  \n",
       "11  2022-06-06 16:12:08                0.10             ACC2  \n",
       "12  2022-06-06 16:10:14                0.08             ACC2  \n",
       "13  2022-06-06 16:09:53                0.08             ACC2  \n",
       "14  2022-06-06 16:07:57                0.06             ACC2  \n",
       "15  2022-06-06 16:07:36                0.06             ACC2  \n",
       "16  2022-06-06 16:05:40                0.04             ACC2  \n",
       "17  2022-06-06 16:05:19                0.04             ACC2  \n",
       "18  2022-06-06 16:02:57                0.02             ACC2  \n",
       "19  2022-06-06 16:02:32                0.02             ACC2  "
      ]
     },
     "execution_count": 2,
     "metadata": {},
     "output_type": "execute_result"
    }
   ],
   "source": [
    "data.dropna(axis=1, how='all', inplace=True)\n",
    "\n",
    "data"
   ]
  },
  {
   "cell_type": "markdown",
   "metadata": {},
   "source": [
    "# 画图查看关键信息分布"
   ]
  },
  {
   "cell_type": "markdown",
   "metadata": {},
   "source": [
    "* 绘制饼状图，查看Account_Category分布"
   ]
  },
  {
   "cell_type": "code",
   "execution_count": 3,
   "metadata": {},
   "outputs": [
    {
     "data": {
      "image/png": "[encoded data removed]",
      "text/plain": [
       "<Figure size 640x480 with 1 Axes>"
      ]
     },
     "metadata": {},
     "output_type": "display_data"
    }
   ],
   "source": [
    "import matplotlib.pyplot as plt\n",
    "\n",
    "Account_Category_counts = data['Account_Category'].value_counts()\n",
    "\n",
    "fig, ax = plt.subplots()\n",
    "\n",
    "ax.pie(Account_Category_counts, labels=Account_Category_counts.index, autopct='%1.1f%%', startangle=90)\n",
    "\n",
    "plt.suptitle('Account_Category Distribution')\n",
    "\n",
    "ax.axis('equal')\n",
    "\n",
    "plt.savefig('account_category_distribution.png')\n",
    "\n",
    "plt.show()"
   ]
  },
  {
   "cell_type": "markdown",
   "metadata": {},
   "source": [
    "* 绘制时序图，查看Transfer_Estimated随时间变化"
   ]
  },
  {
   "cell_type": "code",
   "execution_count": 4,
   "metadata": {},
   "outputs": [],
   "source": [
    "import matplotlib.dates as mdates\n",
    "\n",
    "data['Acquisition time'] = pd.to_datetime(data['Acquisition time'])\n",
    "data.set_index('Acquisition time', inplace=True)"
   ]
  },
  {
   "cell_type": "code",
   "execution_count": 5,
   "metadata": {},
   "outputs": [
    {
     "data": {
      "image/png": "[encoded data removed]",
      "text/plain": [
       "<Figure size 1200x600 with 1 Axes>"
      ]
     },
     "metadata": {},
     "output_type": "display_data"
    }
   ],
   "source": [
    "plt.figure(figsize=(12, 6))\n",
    "plt.plot(data.index, data['Transfer_Estimated'], marker='o', linestyle='-')\n",
    "plt.title('Transfer Estimated over Time')\n",
    "plt.xlabel('Acquisition Time')\n",
    "plt.ylabel('Transfer Estimated')\n",
    "\n",
    "plt.gca().xaxis.set_major_formatter(mdates.DateFormatter('%H:%M:%S'))\n",
    "\n",
    "plt.grid(True)\n",
    "plt.savefig('Transfer_Estimated_distribution.png')\n",
    "plt.show()"
   ]
  },
  {
   "cell_type": "markdown",
   "metadata": {},
   "source": [
    "* 绘制时序图，查看KOL_Estimated随时间变化"
   ]
  },
  {
   "cell_type": "code",
   "execution_count": 6,
   "metadata": {},
   "outputs": [
    {
     "data": {
      "image/png": "[encoded data removed]",
      "text/plain": [
       "<Figure size 1200x600 with 1 Axes>"
      ]
     },
     "metadata": {},
     "output_type": "display_data"
    }
   ],
   "source": [
    "plt.figure(figsize=(12, 6))\n",
    "plt.plot(data.index, data['KOL_Estimated'], marker='o', linestyle='-', color='r')\n",
    "plt.title('KOL Estimated over Time')\n",
    "plt.xlabel('Acquisition Time')\n",
    "plt.ylabel('KOL Estimated')\n",
    "\n",
    "plt.gca().xaxis.set_major_formatter(mdates.DateFormatter('%H:%M:%S'))\n",
    "\n",
    "plt.grid(True)\n",
    "plt.savefig('KOL_Estimated_distribution.png')\n",
    "plt.show()"
   ]
  },
  {
   "cell_type": "markdown",
   "metadata": {},
   "source": [
    "# 新建两列分别用列表储存x, Account_Corrected列的数据，对账户类型数据进行编码"
   ]
  },
  {
   "cell_type": "code",
   "execution_count": 7,
   "metadata": {},
   "outputs": [
    {
     "data": {
      "text/html": [
       "<div>\n",
       "<style scoped>\n",
       "    .dataframe tbody tr th:only-of-type {\n",
       "        vertical-align: middle;\n",
       "    }\n",
       "\n",
       "    .dataframe tbody tr th {\n",
       "        vertical-align: top;\n",
       "    }\n",
       "\n",
       "    .dataframe thead th {\n",
       "        text-align: right;\n",
       "    }\n",
       "</style>\n",
       "<table border=\"1\" class=\"dataframe\">\n",
       "  <thead>\n",
       "    <tr style=\"text-align: right;\">\n",
       "      <th></th>\n",
       "      <th>x_values</th>\n",
       "      <th>Account_Corrected_values</th>\n",
       "    </tr>\n",
       "    <tr>\n",
       "      <th>Acquisition time</th>\n",
       "      <th></th>\n",
       "      <th></th>\n",
       "    </tr>\n",
       "  </thead>\n",
       "  <tbody>\n",
       "    <tr>\n",
       "      <th>2022-06-06 16:44:23</th>\n",
       "      <td>[0.0, 189124.0, 554546.0, 853325.0, 2137391.0,...</td>\n",
       "      <td>[0.0, 0.5468192516090232, 0.6632214700887411, ...</td>\n",
       "    </tr>\n",
       "    <tr>\n",
       "      <th>2022-06-06 16:44:02</th>\n",
       "      <td>[0.0, 188931.0, 554039.0, 851768.0, 2136506.0,...</td>\n",
       "      <td>[0.0, 0.5462612255755186, 0.6626151123017676, ...</td>\n",
       "    </tr>\n",
       "    <tr>\n",
       "      <th>2022-06-06 16:42:09</th>\n",
       "      <td>[0.0, 211226.0, 597503.0, 913885.0, 2536325.0,...</td>\n",
       "      <td>[0.0, 0.6107233520884052, 0.7145968378501208, ...</td>\n",
       "    </tr>\n",
       "    <tr>\n",
       "      <th>2022-06-06 16:41:48</th>\n",
       "      <td>[0.0, 211001.0, 597052.0, 912784.0, 2535538.0,...</td>\n",
       "      <td>[0.0, 0.6100728036037495, 0.7140574544932666, ...</td>\n",
       "    </tr>\n",
       "    <tr>\n",
       "      <th>2022-06-06 16:39:53</th>\n",
       "      <td>[0.0, 236362.0, 645322.0, 977921.0, 2995910.0,...</td>\n",
       "      <td>[0.0, 0.6833997374675449, 0.7717870213122204, ...</td>\n",
       "    </tr>\n",
       "  </tbody>\n",
       "</table>\n",
       "</div>"
      ],
      "text/plain": [
       "                                                              x_values  \\\n",
       "Acquisition time                                                         \n",
       "2022-06-06 16:44:23  [0.0, 189124.0, 554546.0, 853325.0, 2137391.0,...   \n",
       "2022-06-06 16:44:02  [0.0, 188931.0, 554039.0, 851768.0, 2136506.0,...   \n",
       "2022-06-06 16:42:09  [0.0, 211226.0, 597503.0, 913885.0, 2536325.0,...   \n",
       "2022-06-06 16:41:48  [0.0, 211001.0, 597052.0, 912784.0, 2535538.0,...   \n",
       "2022-06-06 16:39:53  [0.0, 236362.0, 645322.0, 977921.0, 2995910.0,...   \n",
       "\n",
       "                                              Account_Corrected_values  \n",
       "Acquisition time                                                        \n",
       "2022-06-06 16:44:23  [0.0, 0.5468192516090232, 0.6632214700887411, ...  \n",
       "2022-06-06 16:44:02  [0.0, 0.5462612255755186, 0.6626151123017676, ...  \n",
       "2022-06-06 16:42:09  [0.0, 0.6107233520884052, 0.7145968378501208, ...  \n",
       "2022-06-06 16:41:48  [0.0, 0.6100728036037495, 0.7140574544932666, ...  \n",
       "2022-06-06 16:39:53  [0.0, 0.6833997374675449, 0.7717870213122204, ...  "
      ]
     },
     "execution_count": 7,
     "metadata": {},
     "output_type": "execute_result"
    }
   ],
   "source": [
    "import numpy as np\n",
    "\n",
    "def parse_data(column):\n",
    "    return column.apply(lambda x: np.array(x.split(','), dtype=float))\n",
    "\n",
    "data['x_values'] = parse_data(data['x'])\n",
    "data['Account_Corrected_values'] = parse_data(data['Account_Corrected'])\n",
    "\n",
    "account_category_encoded = pd.get_dummies(data['Account_Category'], prefix='Account_Category')\n",
    "\n",
    "data[['x_values', 'Account_Corrected_values']].head()"
   ]
  },
  {
   "cell_type": "markdown",
   "metadata": {},
   "source": [
    "# 切分数据集"
   ]
  },
  {
   "cell_type": "code",
   "execution_count": 8,
   "metadata": {},
   "outputs": [
    {
     "name": "stdout",
     "output_type": "stream",
     "text": [
      "Training set size: (16, 46)\n",
      "Test set size: (4, 46)\n"
     ]
    }
   ],
   "source": [
    "from sklearn.model_selection import train_test_split\n",
    "\n",
    "X_values = np.array(data['x_values'].tolist())\n",
    "\n",
    "Account_Corrected_values = np.array(data['Account_Corrected_values'].tolist())\n",
    "\n",
    "features = np.concatenate([Account_Corrected_values, X_values, account_category_encoded.values], axis=1)\n",
    "target = data[['KOL_Estimated', 'Transfer_Estimated']].values\n",
    "\n",
    "X_train, X_test, y_train, y_test = train_test_split(features, target, test_size=0.2, random_state=42)\n",
    "\n",
    "print(f\"Training set size: {X_train.shape}\")\n",
    "print(f\"Test set size: {X_test.shape}\")"
   ]
  },
  {
   "cell_type": "markdown",
   "metadata": {},
   "source": [
    "# 线性回归"
   ]
  },
  {
   "cell_type": "markdown",
   "metadata": {},
   "source": [
    "* 创建并训练模型"
   ]
  },
  {
   "cell_type": "code",
   "execution_count": 9,
   "metadata": {},
   "outputs": [
    {
     "data": {
      "text/html": [
       "<style>#sk-container-id-1 {color: black;background-color: white;}#sk-container-id-1 pre{padding: 0;}#sk-container-id-1 div.sk-toggleable {background-color: white;}#sk-container-id-1 label.sk-toggleable__label {cursor: pointer;display: block;width: 100%;margin-bottom: 0;padding: 0.3em;box-sizing: border-box;text-align: center;}#sk-container-id-1 label.sk-toggleable__label-arrow:before {content: \"▸\";float: left;margin-right: 0.25em;color: #696969;}#sk-container-id-1 label.sk-toggleable__label-arrow:hover:before {color: black;}#sk-container-id-1 div.sk-estimator:hover label.sk-toggleable__label-arrow:before {color: black;}#sk-container-id-1 div.sk-toggleable__content {max-height: 0;max-width: 0;overflow: hidden;text-align: left;background-color: #f0f8ff;}#sk-container-id-1 div.sk-toggleable__content pre {margin: 0.2em;color: black;border-radius: 0.25em;background-color: #f0f8ff;}#sk-container-id-1 input.sk-toggleable__control:checked~div.sk-toggleable__content {max-height: 200px;max-width: 100%;overflow: auto;}#sk-container-id-1 input.sk-toggleable__control:checked~label.sk-toggleable__label-arrow:before {content: \"▾\";}#sk-container-id-1 div.sk-estimator input.sk-toggleable__control:checked~label.sk-toggleable__label {background-color: #d4ebff;}#sk-container-id-1 div.sk-label input.sk-toggleable__control:checked~label.sk-toggleable__label {background-color: #d4ebff;}#sk-container-id-1 input.sk-hidden--visually {border: 0;clip: rect(1px 1px 1px 1px);clip: rect(1px, 1px, 1px, 1px);height: 1px;margin: -1px;overflow: hidden;padding: 0;position: absolute;width: 1px;}#sk-container-id-1 div.sk-estimator {font-family: monospace;background-color: #f0f8ff;border: 1px dotted black;border-radius: 0.25em;box-sizing: border-box;margin-bottom: 0.5em;}#sk-container-id-1 div.sk-estimator:hover {background-color: #d4ebff;}#sk-container-id-1 div.sk-parallel-item::after {content: \"\";width: 100%;border-bottom: 1px solid gray;flex-grow: 1;}#sk-container-id-1 div.sk-label:hover label.sk-toggleable__label {background-color: #d4ebff;}#sk-container-id-1 div.sk-serial::before {content: \"\";position: absolute;border-left: 1px solid gray;box-sizing: border-box;top: 0;bottom: 0;left: 50%;z-index: 0;}#sk-container-id-1 div.sk-serial {display: flex;flex-direction: column;align-items: center;background-color: white;padding-right: 0.2em;padding-left: 0.2em;position: relative;}#sk-container-id-1 div.sk-item {position: relative;z-index: 1;}#sk-container-id-1 div.sk-parallel {display: flex;align-items: stretch;justify-content: center;background-color: white;position: relative;}#sk-container-id-1 div.sk-item::before, #sk-container-id-1 div.sk-parallel-item::before {content: \"\";position: absolute;border-left: 1px solid gray;box-sizing: border-box;top: 0;bottom: 0;left: 50%;z-index: -1;}#sk-container-id-1 div.sk-parallel-item {display: flex;flex-direction: column;z-index: 1;position: relative;background-color: white;}#sk-container-id-1 div.sk-parallel-item:first-child::after {align-self: flex-end;width: 50%;}#sk-container-id-1 div.sk-parallel-item:last-child::after {align-self: flex-start;width: 50%;}#sk-container-id-1 div.sk-parallel-item:only-child::after {width: 0;}#sk-container-id-1 div.sk-dashed-wrapped {border: 1px dashed gray;margin: 0 0.4em 0.5em 0.4em;box-sizing: border-box;padding-bottom: 0.4em;background-color: white;}#sk-container-id-1 div.sk-label label {font-family: monospace;font-weight: bold;display: inline-block;line-height: 1.2em;}#sk-container-id-1 div.sk-label-container {text-align: center;}#sk-container-id-1 div.sk-container {/* jupyter's `normalize.less` sets `[hidden] { display: none; }` but bootstrap.min.css set `[hidden] { display: none !important; }` so we also need the `!important` here to be able to override the default hidden behavior on the sphinx rendered scikit-learn.org. See: https://github.com/scikit-learn/scikit-learn/issues/21755 */display: inline-block !important;position: relative;}#sk-container-id-1 div.sk-text-repr-fallback {display: none;}</style><div id=\"sk-container-id-1\" class=\"sk-top-container\"><div class=\"sk-text-repr-fallback\"><pre>LinearRegression()</pre><b>In a Jupyter environment, please rerun this cell to show the HTML representation or trust the notebook. <br />On GitHub, the HTML representation is unable to render, please try loading this page with nbviewer.org.</b></div><div class=\"sk-container\" hidden><div class=\"sk-item\"><div class=\"sk-estimator sk-toggleable\"><input class=\"sk-toggleable__control sk-hidden--visually\" id=\"sk-estimator-id-1\" type=\"checkbox\" checked><label for=\"sk-estimator-id-1\" class=\"sk-toggleable__label sk-toggleable__label-arrow\">LinearRegression</label><div class=\"sk-toggleable__content\"><pre>LinearRegression()</pre></div></div></div></div></div>"
      ],
      "text/plain": [
       "LinearRegression()"
      ]
     },
     "execution_count": 9,
     "metadata": {},
     "output_type": "execute_result"
    }
   ],
   "source": [
    "from sklearn.linear_model import LinearRegression\n",
    "from sklearn.model_selection import cross_validate\n",
    "\n",
    "model_linear = LinearRegression()\n",
    "model_linear.fit(X_train, y_train)"
   ]
  },
  {
   "cell_type": "markdown",
   "metadata": {},
   "source": [
    "* 模型评估"
   ]
  },
  {
   "cell_type": "code",
   "execution_count": 10,
   "metadata": {},
   "outputs": [
    {
     "name": "stdout",
     "output_type": "stream",
     "text": [
      "Mean Squared Error for each fold: [2.46532610e-05 8.36398275e-07 6.24549308e-06 5.32482610e-07\n",
      " 5.34938347e-06]\n",
      "Average Mean Squared Error: 7.52340369058341e-06\n"
     ]
    }
   ],
   "source": [
    "result_linear = cross_validate(model_linear, features, target, cv=5, scoring='neg_mean_squared_error')\n",
    "mse_scores_linear = -result_linear['test_score']\n",
    "print(\"Mean Squared Error for each fold:\", mse_scores_linear)\n",
    "print(\"Average Mean Squared Error:\", mse_scores_linear.mean())"
   ]
  },
  {
   "cell_type": "code",
   "execution_count": 11,
   "metadata": {},
   "outputs": [
    {
     "name": "stdout",
     "output_type": "stream",
     "text": [
      "Mean Squared Error for KOL_Estimated: 4.235162587084815e-06\n",
      "Mean Squared Error for Transfer_Estimated: 3.1222186895550097e-06\n"
     ]
    }
   ],
   "source": [
    "from sklearn.metrics import mean_squared_error\n",
    "\n",
    "y_pred = model_linear.predict(X_test)\n",
    "\n",
    "mse_linear = mean_squared_error(y_test, y_pred, multioutput='raw_values')\n",
    "print(f\"Mean Squared Error for KOL_Estimated: {mse_linear[0]}\")\n",
    "print(f\"Mean Squared Error for Transfer_Estimated: {mse_linear[1]}\")"
   ]
  },
  {
   "cell_type": "markdown",
   "metadata": {},
   "source": [
    "* 调整超参数，找到最优参数"
   ]
  },
  {
   "cell_type": "code",
   "execution_count": 12,
   "metadata": {},
   "outputs": [
    {
     "data": {
      "text/plain": [
       "{'copy_X': True,\n",
       " 'fit_intercept': True,\n",
       " 'n_jobs': None,\n",
       " 'normalize': 'deprecated',\n",
       " 'positive': False}"
      ]
     },
     "execution_count": 12,
     "metadata": {},
     "output_type": "execute_result"
    }
   ],
   "source": [
    "model_linear.get_params()"
   ]
  },
  {
   "cell_type": "code",
   "execution_count": 13,
   "metadata": {},
   "outputs": [
    {
     "name": "stdout",
     "output_type": "stream",
     "text": [
      "Best parameters found:  {'copy_X': True, 'fit_intercept': False, 'n_jobs': None, 'normalize': 'deprecated', 'positive': False}\n"
     ]
    }
   ],
   "source": [
    "from sklearn.model_selection import GridSearchCV\n",
    "\n",
    "param_grid = {\n",
    "    'fit_intercept': [True, False],\n",
    "    'copy_X': [True, False],\n",
    "    'n_jobs': [None, -1],\n",
    "    'positive': [True, False],\n",
    "    'normalize': ['deprecated', False, True],\n",
    "}\n",
    "\n",
    "grid_search = LinearRegression()\n",
    "\n",
    "grid_search = GridSearchCV(\n",
    "    estimator=grid_search,\n",
    "    param_grid=param_grid,\n",
    "    scoring='neg_mean_squared_error',\n",
    "    cv=5,\n",
    "    n_jobs=-1  \n",
    ")\n",
    "\n",
    "grid_search.fit(X_train, y_train)\n",
    "\n",
    "print(\"Best parameters found: \", grid_search.best_params_)\n",
    "\n",
    "best_model_linear = grid_search.best_estimator_"
   ]
  },
  {
   "cell_type": "markdown",
   "metadata": {},
   "source": [
    "* 再次进行评估"
   ]
  },
  {
   "cell_type": "code",
   "execution_count": 14,
   "metadata": {},
   "outputs": [
    {
     "name": "stdout",
     "output_type": "stream",
     "text": [
      "Mean Squared Error for each fold: [2.48347310e-05 9.45977160e-07 1.02417486e-05 4.29477883e-07\n",
      " 4.35703331e-06]\n",
      "Average Mean Squared Error: 8.161793583695711e-06\n"
     ]
    }
   ],
   "source": [
    "result_linear_best = cross_validate(best_model_linear, features, target, cv=5, scoring='neg_mean_squared_error')\n",
    "mse_scores_linear_best = -result_linear_best['test_score']\n",
    "print(\"Mean Squared Error for each fold:\", mse_scores_linear_best)\n",
    "print(\"Average Mean Squared Error:\", mse_scores_linear_best.mean())"
   ]
  },
  {
   "cell_type": "code",
   "execution_count": 15,
   "metadata": {},
   "outputs": [
    {
     "name": "stdout",
     "output_type": "stream",
     "text": [
      "Mean Squared Error for KOL_Estimated: 3.641700879915993e-06\n",
      "Mean Squared Error for Transfer_Estimated: 2.1505613411937203e-06\n"
     ]
    }
   ],
   "source": [
    "y_pred = best_model_linear.predict(X_test)\n",
    "\n",
    "mse_linear_best = mean_squared_error(y_test, y_pred, multioutput='raw_values')\n",
    "print(f\"Mean Squared Error for KOL_Estimated: {mse_linear_best[0]}\")\n",
    "print(f\"Mean Squared Error for Transfer_Estimated: {mse_linear_best[1]}\")"
   ]
  },
  {
   "cell_type": "markdown",
   "metadata": {},
   "source": [
    "# 决策树回归"
   ]
  },
  {
   "cell_type": "markdown",
   "metadata": {},
   "source": [
    "### 数据集划分"
   ]
  },
  {
   "cell_type": "code",
   "execution_count": 16,
   "metadata": {},
   "outputs": [],
   "source": [
    "y_KOL = target[:, 0]\n",
    "y_Transfer = target[:, 1]\n",
    "\n",
    "X_train, X_test, y_train_KOL, y_test_KOL = train_test_split(features, y_KOL, test_size=0.2, random_state=42)\n",
    "X_train, X_test, y_train_Transfer, y_test_Transfer = train_test_split(features, y_Transfer, test_size=0.2, random_state=42)"
   ]
  },
  {
   "cell_type": "markdown",
   "metadata": {},
   "source": [
    "### 移除常量特征"
   ]
  },
  {
   "cell_type": "code",
   "execution_count": 17,
   "metadata": {},
   "outputs": [],
   "source": [
    "from sklearn.feature_selection import VarianceThreshold\n",
    "\n",
    "selector = VarianceThreshold(threshold=0.0)\n",
    "X_train_reduced = selector.fit_transform(X_train)\n",
    "X_test_reduced = selector.fit_transform(X_test)\n",
    "\n",
    "features_reduce = selector.fit_transform(features)"
   ]
  },
  {
   "cell_type": "markdown",
   "metadata": {},
   "source": [
    "### 创建并训练模型 (KOL_Estimated)"
   ]
  },
  {
   "cell_type": "code",
   "execution_count": 18,
   "metadata": {},
   "outputs": [
    {
     "data": {
      "text/html": [
       "<style>#sk-container-id-2 {color: black;background-color: white;}#sk-container-id-2 pre{padding: 0;}#sk-container-id-2 div.sk-toggleable {background-color: white;}#sk-container-id-2 label.sk-toggleable__label {cursor: pointer;display: block;width: 100%;margin-bottom: 0;padding: 0.3em;box-sizing: border-box;text-align: center;}#sk-container-id-2 label.sk-toggleable__label-arrow:before {content: \"▸\";float: left;margin-right: 0.25em;color: #696969;}#sk-container-id-2 label.sk-toggleable__label-arrow:hover:before {color: black;}#sk-container-id-2 div.sk-estimator:hover label.sk-toggleable__label-arrow:before {color: black;}#sk-container-id-2 div.sk-toggleable__content {max-height: 0;max-width: 0;overflow: hidden;text-align: left;background-color: #f0f8ff;}#sk-container-id-2 div.sk-toggleable__content pre {margin: 0.2em;color: black;border-radius: 0.25em;background-color: #f0f8ff;}#sk-container-id-2 input.sk-toggleable__control:checked~div.sk-toggleable__content {max-height: 200px;max-width: 100%;overflow: auto;}#sk-container-id-2 input.sk-toggleable__control:checked~label.sk-toggleable__label-arrow:before {content: \"▾\";}#sk-container-id-2 div.sk-estimator input.sk-toggleable__control:checked~label.sk-toggleable__label {background-color: #d4ebff;}#sk-container-id-2 div.sk-label input.sk-toggleable__control:checked~label.sk-toggleable__label {background-color: #d4ebff;}#sk-container-id-2 input.sk-hidden--visually {border: 0;clip: rect(1px 1px 1px 1px);clip: rect(1px, 1px, 1px, 1px);height: 1px;margin: -1px;overflow: hidden;padding: 0;position: absolute;width: 1px;}#sk-container-id-2 div.sk-estimator {font-family: monospace;background-color: #f0f8ff;border: 1px dotted black;border-radius: 0.25em;box-sizing: border-box;margin-bottom: 0.5em;}#sk-container-id-2 div.sk-estimator:hover {background-color: #d4ebff;}#sk-container-id-2 div.sk-parallel-item::after {content: \"\";width: 100%;border-bottom: 1px solid gray;flex-grow: 1;}#sk-container-id-2 div.sk-label:hover label.sk-toggleable__label {background-color: #d4ebff;}#sk-container-id-2 div.sk-serial::before {content: \"\";position: absolute;border-left: 1px solid gray;box-sizing: border-box;top: 0;bottom: 0;left: 50%;z-index: 0;}#sk-container-id-2 div.sk-serial {display: flex;flex-direction: column;align-items: center;background-color: white;padding-right: 0.2em;padding-left: 0.2em;position: relative;}#sk-container-id-2 div.sk-item {position: relative;z-index: 1;}#sk-container-id-2 div.sk-parallel {display: flex;align-items: stretch;justify-content: center;background-color: white;position: relative;}#sk-container-id-2 div.sk-item::before, #sk-container-id-2 div.sk-parallel-item::before {content: \"\";position: absolute;border-left: 1px solid gray;box-sizing: border-box;top: 0;bottom: 0;left: 50%;z-index: -1;}#sk-container-id-2 div.sk-parallel-item {display: flex;flex-direction: column;z-index: 1;position: relative;background-color: white;}#sk-container-id-2 div.sk-parallel-item:first-child::after {align-self: flex-end;width: 50%;}#sk-container-id-2 div.sk-parallel-item:last-child::after {align-self: flex-start;width: 50%;}#sk-container-id-2 div.sk-parallel-item:only-child::after {width: 0;}#sk-container-id-2 div.sk-dashed-wrapped {border: 1px dashed gray;margin: 0 0.4em 0.5em 0.4em;box-sizing: border-box;padding-bottom: 0.4em;background-color: white;}#sk-container-id-2 div.sk-label label {font-family: monospace;font-weight: bold;display: inline-block;line-height: 1.2em;}#sk-container-id-2 div.sk-label-container {text-align: center;}#sk-container-id-2 div.sk-container {/* jupyter's `normalize.less` sets `[hidden] { display: none; }` but bootstrap.min.css set `[hidden] { display: none !important; }` so we also need the `!important` here to be able to override the default hidden behavior on the sphinx rendered scikit-learn.org. See: https://github.com/scikit-learn/scikit-learn/issues/21755 */display: inline-block !important;position: relative;}#sk-container-id-2 div.sk-text-repr-fallback {display: none;}</style><div id=\"sk-container-id-2\" class=\"sk-top-container\"><div class=\"sk-text-repr-fallback\"><pre>DecisionTreeRegressor()</pre><b>In a Jupyter environment, please rerun this cell to show the HTML representation or trust the notebook. <br />On GitHub, the HTML representation is unable to render, please try loading this page with nbviewer.org.</b></div><div class=\"sk-container\" hidden><div class=\"sk-item\"><div class=\"sk-estimator sk-toggleable\"><input class=\"sk-toggleable__control sk-hidden--visually\" id=\"sk-estimator-id-2\" type=\"checkbox\" checked><label for=\"sk-estimator-id-2\" class=\"sk-toggleable__label sk-toggleable__label-arrow\">DecisionTreeRegressor</label><div class=\"sk-toggleable__content\"><pre>DecisionTreeRegressor()</pre></div></div></div></div></div>"
      ],
      "text/plain": [
       "DecisionTreeRegressor()"
      ]
     },
     "execution_count": 18,
     "metadata": {},
     "output_type": "execute_result"
    }
   ],
   "source": [
    "from sklearn.tree import DecisionTreeRegressor\n",
    "\n",
    "model_tree_KOL = DecisionTreeRegressor()\n",
    "\n",
    "model_tree_KOL.fit(X_train, y_train_KOL)"
   ]
  },
  {
   "cell_type": "markdown",
   "metadata": {},
   "source": [
    "* 模型评估"
   ]
  },
  {
   "cell_type": "code",
   "execution_count": 19,
   "metadata": {},
   "outputs": [
    {
     "name": "stdout",
     "output_type": "stream",
     "text": [
      "Mean Squared Error for KOL_Estimated: 0.0002105000000000001\n"
     ]
    }
   ],
   "source": [
    "# 进行预测\n",
    "y_pred_KOL = model_tree_KOL.predict(X_test)\n",
    "\n",
    "# 评估模型\n",
    "mse_tree_KOL = mean_squared_error(y_test_KOL, y_pred_KOL)\n",
    "print(f\"Mean Squared Error for KOL_Estimated: {mse_tree_KOL}\")"
   ]
  },
  {
   "cell_type": "code",
   "execution_count": 20,
   "metadata": {},
   "outputs": [
    {
     "name": "stdout",
     "output_type": "stream",
     "text": [
      "Average Mean Squared Error: 0.00058265\n"
     ]
    }
   ],
   "source": [
    "result_tree_KOL = cross_validate(model_tree_KOL, features, y_KOL, cv=5, scoring='neg_mean_squared_error')\n",
    "mse_scores_tree_KOL = -result_tree_KOL['test_score']\n",
    "print(\"Average Mean Squared Error:\", mse_scores_tree_KOL.mean())"
   ]
  },
  {
   "cell_type": "markdown",
   "metadata": {},
   "source": [
    "* 调整超参数，找到最优参数"
   ]
  },
  {
   "cell_type": "code",
   "execution_count": 21,
   "metadata": {},
   "outputs": [
    {
     "name": "stdout",
     "output_type": "stream",
     "text": [
      "Best parameters found:  {'model__max_depth': None, 'model__min_samples_leaf': 1, 'model__min_samples_split': 2, 'select__k': 3}\n",
      "Best model:  Pipeline(steps=[('select', SelectKBest(k=3)),\n",
      "                ('model', DecisionTreeRegressor())])\n"
     ]
    }
   ],
   "source": [
    "from sklearn.pipeline import Pipeline\n",
    "from sklearn.feature_selection import SelectKBest\n",
    "\n",
    "pipe = Pipeline([\n",
    "   ('select', SelectKBest()),\n",
    "   ('model', model_tree_KOL)])\n",
    "\n",
    "param_grid = {\n",
    "    'select__k': [3, 5, 7],\n",
    "    'model__max_depth': [None, 10, 20],\n",
    "    'model__min_samples_split': [2, 3, 4],\n",
    "    'model__min_samples_leaf': [1, 2, 4] \n",
    "}\n",
    "\n",
    "search = GridSearchCV(pipe, param_grid, cv=5, scoring='neg_mean_squared_error')\n",
    "search.fit(X_train_reduced, y_train_KOL)\n",
    "\n",
    "# 输出最佳参数\n",
    "print(\"Best parameters found: \", search.best_params_)\n",
    "\n",
    "# 输出最佳模型\n",
    "best_model_tree_KOL = search.best_estimator_\n",
    "print(\"Best model: \", best_model_tree_KOL)"
   ]
  },
  {
   "cell_type": "markdown",
   "metadata": {},
   "source": [
    "* 模型再评估"
   ]
  },
  {
   "cell_type": "code",
   "execution_count": 22,
   "metadata": {},
   "outputs": [
    {
     "name": "stdout",
     "output_type": "stream",
     "text": [
      "Mean Squared Error for KOL_Estimated: 5.000000000000009e-07\n"
     ]
    }
   ],
   "source": [
    "y_pred_KOL = best_model_tree_KOL.predict(X_test_reduced)\n",
    "\n",
    "mse_tree_KOL_best = mean_squared_error(y_test_KOL, y_pred_KOL)\n",
    "\n",
    "print(f\"Mean Squared Error for KOL_Estimated: {mse_tree_KOL_best}\")"
   ]
  },
  {
   "cell_type": "code",
   "execution_count": 23,
   "metadata": {},
   "outputs": [
    {
     "name": "stdout",
     "output_type": "stream",
     "text": [
      "Average Mean Squared Error for KOL_Estimated: 3.0000000000000057e-07\n"
     ]
    }
   ],
   "source": [
    "result_tree_KOL_best = cross_validate(best_model_tree_KOL, features_reduce, y_KOL, cv=5, scoring='neg_mean_squared_error')\n",
    "mse_scores_tree_KOL_best = -result_tree_KOL_best['test_score']\n",
    "print(\"Average Mean Squared Error for KOL_Estimated:\", mse_scores_tree_KOL_best.mean())"
   ]
  },
  {
   "cell_type": "markdown",
   "metadata": {},
   "source": [
    "### 创建并训练模型 (Transfer_Estimated)"
   ]
  },
  {
   "cell_type": "code",
   "execution_count": 24,
   "metadata": {},
   "outputs": [
    {
     "data": {
      "text/html": [
       "<style>#sk-container-id-3 {color: black;background-color: white;}#sk-container-id-3 pre{padding: 0;}#sk-container-id-3 div.sk-toggleable {background-color: white;}#sk-container-id-3 label.sk-toggleable__label {cursor: pointer;display: block;width: 100%;margin-bottom: 0;padding: 0.3em;box-sizing: border-box;text-align: center;}#sk-container-id-3 label.sk-toggleable__label-arrow:before {content: \"▸\";float: left;margin-right: 0.25em;color: #696969;}#sk-container-id-3 label.sk-toggleable__label-arrow:hover:before {color: black;}#sk-container-id-3 div.sk-estimator:hover label.sk-toggleable__label-arrow:before {color: black;}#sk-container-id-3 div.sk-toggleable__content {max-height: 0;max-width: 0;overflow: hidden;text-align: left;background-color: #f0f8ff;}#sk-container-id-3 div.sk-toggleable__content pre {margin: 0.2em;color: black;border-radius: 0.25em;background-color: #f0f8ff;}#sk-container-id-3 input.sk-toggleable__control:checked~div.sk-toggleable__content {max-height: 200px;max-width: 100%;overflow: auto;}#sk-container-id-3 input.sk-toggleable__control:checked~label.sk-toggleable__label-arrow:before {content: \"▾\";}#sk-container-id-3 div.sk-estimator input.sk-toggleable__control:checked~label.sk-toggleable__label {background-color: #d4ebff;}#sk-container-id-3 div.sk-label input.sk-toggleable__control:checked~label.sk-toggleable__label {background-color: #d4ebff;}#sk-container-id-3 input.sk-hidden--visually {border: 0;clip: rect(1px 1px 1px 1px);clip: rect(1px, 1px, 1px, 1px);height: 1px;margin: -1px;overflow: hidden;padding: 0;position: absolute;width: 1px;}#sk-container-id-3 div.sk-estimator {font-family: monospace;background-color: #f0f8ff;border: 1px dotted black;border-radius: 0.25em;box-sizing: border-box;margin-bottom: 0.5em;}#sk-container-id-3 div.sk-estimator:hover {background-color: #d4ebff;}#sk-container-id-3 div.sk-parallel-item::after {content: \"\";width: 100%;border-bottom: 1px solid gray;flex-grow: 1;}#sk-container-id-3 div.sk-label:hover label.sk-toggleable__label {background-color: #d4ebff;}#sk-container-id-3 div.sk-serial::before {content: \"\";position: absolute;border-left: 1px solid gray;box-sizing: border-box;top: 0;bottom: 0;left: 50%;z-index: 0;}#sk-container-id-3 div.sk-serial {display: flex;flex-direction: column;align-items: center;background-color: white;padding-right: 0.2em;padding-left: 0.2em;position: relative;}#sk-container-id-3 div.sk-item {position: relative;z-index: 1;}#sk-container-id-3 div.sk-parallel {display: flex;align-items: stretch;justify-content: center;background-color: white;position: relative;}#sk-container-id-3 div.sk-item::before, #sk-container-id-3 div.sk-parallel-item::before {content: \"\";position: absolute;border-left: 1px solid gray;box-sizing: border-box;top: 0;bottom: 0;left: 50%;z-index: -1;}#sk-container-id-3 div.sk-parallel-item {display: flex;flex-direction: column;z-index: 1;position: relative;background-color: white;}#sk-container-id-3 div.sk-parallel-item:first-child::after {align-self: flex-end;width: 50%;}#sk-container-id-3 div.sk-parallel-item:last-child::after {align-self: flex-start;width: 50%;}#sk-container-id-3 div.sk-parallel-item:only-child::after {width: 0;}#sk-container-id-3 div.sk-dashed-wrapped {border: 1px dashed gray;margin: 0 0.4em 0.5em 0.4em;box-sizing: border-box;padding-bottom: 0.4em;background-color: white;}#sk-container-id-3 div.sk-label label {font-family: monospace;font-weight: bold;display: inline-block;line-height: 1.2em;}#sk-container-id-3 div.sk-label-container {text-align: center;}#sk-container-id-3 div.sk-container {/* jupyter's `normalize.less` sets `[hidden] { display: none; }` but bootstrap.min.css set `[hidden] { display: none !important; }` so we also need the `!important` here to be able to override the default hidden behavior on the sphinx rendered scikit-learn.org. See: https://github.com/scikit-learn/scikit-learn/issues/21755 */display: inline-block !important;position: relative;}#sk-container-id-3 div.sk-text-repr-fallback {display: none;}</style><div id=\"sk-container-id-3\" class=\"sk-top-container\"><div class=\"sk-text-repr-fallback\"><pre>DecisionTreeRegressor()</pre><b>In a Jupyter environment, please rerun this cell to show the HTML representation or trust the notebook. <br />On GitHub, the HTML representation is unable to render, please try loading this page with nbviewer.org.</b></div><div class=\"sk-container\" hidden><div class=\"sk-item\"><div class=\"sk-estimator sk-toggleable\"><input class=\"sk-toggleable__control sk-hidden--visually\" id=\"sk-estimator-id-3\" type=\"checkbox\" checked><label for=\"sk-estimator-id-3\" class=\"sk-toggleable__label sk-toggleable__label-arrow\">DecisionTreeRegressor</label><div class=\"sk-toggleable__content\"><pre>DecisionTreeRegressor()</pre></div></div></div></div></div>"
      ],
      "text/plain": [
       "DecisionTreeRegressor()"
      ]
     },
     "execution_count": 24,
     "metadata": {},
     "output_type": "execute_result"
    }
   ],
   "source": [
    "model_tree_Transfer = DecisionTreeRegressor()\n",
    "\n",
    "model_tree_Transfer.fit(X_train, y_train_Transfer)"
   ]
  },
  {
   "cell_type": "markdown",
   "metadata": {},
   "source": [
    "* 模型评估"
   ]
  },
  {
   "cell_type": "code",
   "execution_count": 25,
   "metadata": {},
   "outputs": [
    {
     "name": "stdout",
     "output_type": "stream",
     "text": [
      "Mean Squared Error for Transfer_Estimated: 0.0002000000000000001\n"
     ]
    }
   ],
   "source": [
    "# 进行预测\n",
    "y_pred_Transfer = model_tree_Transfer.predict(X_test)\n",
    "\n",
    "# 评估模型\n",
    "mse_tree_Transfer = mean_squared_error(y_test_Transfer, y_pred_Transfer)\n",
    "print(f\"Mean Squared Error for Transfer_Estimated: {mse_tree_Transfer}\")"
   ]
  },
  {
   "cell_type": "code",
   "execution_count": 26,
   "metadata": {},
   "outputs": [
    {
     "name": "stdout",
     "output_type": "stream",
     "text": [
      "Average Mean Squared Error: 0.0006\n"
     ]
    }
   ],
   "source": [
    "result_tree_Transfer = cross_validate(model_tree_Transfer, features, y_Transfer, cv=5, scoring='neg_mean_squared_error')\n",
    "mse_scores_tree_Transfer = -result_tree_Transfer['test_score']\n",
    "print(\"Average Mean Squared Error:\", mse_scores_tree_Transfer.mean())"
   ]
  },
  {
   "cell_type": "markdown",
   "metadata": {},
   "source": [
    "* 调整超参数，找到最优参数"
   ]
  },
  {
   "cell_type": "code",
   "execution_count": 27,
   "metadata": {},
   "outputs": [
    {
     "name": "stdout",
     "output_type": "stream",
     "text": [
      "Best parameters found:  {'model__max_depth': None, 'model__min_samples_leaf': 1, 'model__min_samples_split': 2, 'select__k': 3}\n",
      "Best model:  Pipeline(steps=[('select', SelectKBest(k=3)),\n",
      "                ('model', DecisionTreeRegressor())])\n"
     ]
    }
   ],
   "source": [
    "from sklearn.pipeline import Pipeline\n",
    "from sklearn.feature_selection import SelectKBest\n",
    "\n",
    "pipe = Pipeline([\n",
    "   ('select', SelectKBest()),\n",
    "   ('model', model_tree_Transfer)])\n",
    "\n",
    "param_grid = {\n",
    "    'select__k': [3, 5, 7],\n",
    "    'model__max_depth': [None, 10, 20],\n",
    "    'model__min_samples_split': [2, 3, 4],\n",
    "    'model__min_samples_leaf': [1, 2, 4] \n",
    "}\n",
    "\n",
    "search = GridSearchCV(pipe, param_grid, cv=5, scoring='neg_mean_squared_error')\n",
    "search.fit(X_train_reduced, y_train_Transfer)\n",
    "\n",
    "# 输出最佳参数\n",
    "print(\"Best parameters found: \", search.best_params_)\n",
    "\n",
    "# 输出最佳模型\n",
    "best_model_tree_Transfer = search.best_estimator_\n",
    "print(\"Best model: \", best_model_tree_Transfer)"
   ]
  },
  {
   "cell_type": "markdown",
   "metadata": {},
   "source": [
    "* 再次进行评估"
   ]
  },
  {
   "cell_type": "code",
   "execution_count": 28,
   "metadata": {},
   "outputs": [
    {
     "name": "stdout",
     "output_type": "stream",
     "text": [
      "Mean Squared Error for Transfer_Estimated: 0.0\n"
     ]
    }
   ],
   "source": [
    "y_pred_Transfer = best_model_tree_Transfer.predict(X_test_reduced)\n",
    "\n",
    "mse_tree_Transfer_best = mean_squared_error(y_test_Transfer, y_pred_Transfer)\n",
    "\n",
    "print(f\"Mean Squared Error for Transfer_Estimated: {mse_tree_Transfer_best}\")"
   ]
  },
  {
   "cell_type": "code",
   "execution_count": 29,
   "metadata": {},
   "outputs": [
    {
     "name": "stdout",
     "output_type": "stream",
     "text": [
      "Average Mean Squared Error for Transfer_Estimated: 0.0\n"
     ]
    }
   ],
   "source": [
    "result_tree_Transfer_best = cross_validate(best_model_tree_Transfer, features_reduce, y_Transfer, cv=5, scoring='neg_mean_squared_error')\n",
    "mse_scores_tree_Transfer_best = -result_tree_Transfer_best['test_score']\n",
    "print(\"Average Mean Squared Error for Transfer_Estimated:\", mse_scores_tree_Transfer_best.mean())"
   ]
  },
  {
   "cell_type": "markdown",
   "metadata": {},
   "source": [
    "# 岭回归"
   ]
  },
  {
   "cell_type": "markdown",
   "metadata": {},
   "source": [
    "* 模型创建与训练"
   ]
  },
  {
   "cell_type": "code",
   "execution_count": 30,
   "metadata": {},
   "outputs": [
    {
     "data": {
      "text/html": [
       "<style>#sk-container-id-4 {color: black;background-color: white;}#sk-container-id-4 pre{padding: 0;}#sk-container-id-4 div.sk-toggleable {background-color: white;}#sk-container-id-4 label.sk-toggleable__label {cursor: pointer;display: block;width: 100%;margin-bottom: 0;padding: 0.3em;box-sizing: border-box;text-align: center;}#sk-container-id-4 label.sk-toggleable__label-arrow:before {content: \"▸\";float: left;margin-right: 0.25em;color: #696969;}#sk-container-id-4 label.sk-toggleable__label-arrow:hover:before {color: black;}#sk-container-id-4 div.sk-estimator:hover label.sk-toggleable__label-arrow:before {color: black;}#sk-container-id-4 div.sk-toggleable__content {max-height: 0;max-width: 0;overflow: hidden;text-align: left;background-color: #f0f8ff;}#sk-container-id-4 div.sk-toggleable__content pre {margin: 0.2em;color: black;border-radius: 0.25em;background-color: #f0f8ff;}#sk-container-id-4 input.sk-toggleable__control:checked~div.sk-toggleable__content {max-height: 200px;max-width: 100%;overflow: auto;}#sk-container-id-4 input.sk-toggleable__control:checked~label.sk-toggleable__label-arrow:before {content: \"▾\";}#sk-container-id-4 div.sk-estimator input.sk-toggleable__control:checked~label.sk-toggleable__label {background-color: #d4ebff;}#sk-container-id-4 div.sk-label input.sk-toggleable__control:checked~label.sk-toggleable__label {background-color: #d4ebff;}#sk-container-id-4 input.sk-hidden--visually {border: 0;clip: rect(1px 1px 1px 1px);clip: rect(1px, 1px, 1px, 1px);height: 1px;margin: -1px;overflow: hidden;padding: 0;position: absolute;width: 1px;}#sk-container-id-4 div.sk-estimator {font-family: monospace;background-color: #f0f8ff;border: 1px dotted black;border-radius: 0.25em;box-sizing: border-box;margin-bottom: 0.5em;}#sk-container-id-4 div.sk-estimator:hover {background-color: #d4ebff;}#sk-container-id-4 div.sk-parallel-item::after {content: \"\";width: 100%;border-bottom: 1px solid gray;flex-grow: 1;}#sk-container-id-4 div.sk-label:hover label.sk-toggleable__label {background-color: #d4ebff;}#sk-container-id-4 div.sk-serial::before {content: \"\";position: absolute;border-left: 1px solid gray;box-sizing: border-box;top: 0;bottom: 0;left: 50%;z-index: 0;}#sk-container-id-4 div.sk-serial {display: flex;flex-direction: column;align-items: center;background-color: white;padding-right: 0.2em;padding-left: 0.2em;position: relative;}#sk-container-id-4 div.sk-item {position: relative;z-index: 1;}#sk-container-id-4 div.sk-parallel {display: flex;align-items: stretch;justify-content: center;background-color: white;position: relative;}#sk-container-id-4 div.sk-item::before, #sk-container-id-4 div.sk-parallel-item::before {content: \"\";position: absolute;border-left: 1px solid gray;box-sizing: border-box;top: 0;bottom: 0;left: 50%;z-index: -1;}#sk-container-id-4 div.sk-parallel-item {display: flex;flex-direction: column;z-index: 1;position: relative;background-color: white;}#sk-container-id-4 div.sk-parallel-item:first-child::after {align-self: flex-end;width: 50%;}#sk-container-id-4 div.sk-parallel-item:last-child::after {align-self: flex-start;width: 50%;}#sk-container-id-4 div.sk-parallel-item:only-child::after {width: 0;}#sk-container-id-4 div.sk-dashed-wrapped {border: 1px dashed gray;margin: 0 0.4em 0.5em 0.4em;box-sizing: border-box;padding-bottom: 0.4em;background-color: white;}#sk-container-id-4 div.sk-label label {font-family: monospace;font-weight: bold;display: inline-block;line-height: 1.2em;}#sk-container-id-4 div.sk-label-container {text-align: center;}#sk-container-id-4 div.sk-container {/* jupyter's `normalize.less` sets `[hidden] { display: none; }` but bootstrap.min.css set `[hidden] { display: none !important; }` so we also need the `!important` here to be able to override the default hidden behavior on the sphinx rendered scikit-learn.org. See: https://github.com/scikit-learn/scikit-learn/issues/21755 */display: inline-block !important;position: relative;}#sk-container-id-4 div.sk-text-repr-fallback {display: none;}</style><div id=\"sk-container-id-4\" class=\"sk-top-container\"><div class=\"sk-text-repr-fallback\"><pre>Ridge()</pre><b>In a Jupyter environment, please rerun this cell to show the HTML representation or trust the notebook. <br />On GitHub, the HTML representation is unable to render, please try loading this page with nbviewer.org.</b></div><div class=\"sk-container\" hidden><div class=\"sk-item\"><div class=\"sk-estimator sk-toggleable\"><input class=\"sk-toggleable__control sk-hidden--visually\" id=\"sk-estimator-id-4\" type=\"checkbox\" checked><label for=\"sk-estimator-id-4\" class=\"sk-toggleable__label sk-toggleable__label-arrow\">Ridge</label><div class=\"sk-toggleable__content\"><pre>Ridge()</pre></div></div></div></div></div>"
      ],
      "text/plain": [
       "Ridge()"
      ]
     },
     "execution_count": 30,
     "metadata": {},
     "output_type": "execute_result"
    }
   ],
   "source": [
    "from sklearn.linear_model import Ridge\n",
    "\n",
    "model_ridge = Ridge(alpha=1.0)\n",
    "\n",
    "model_ridge.fit(X_train, y_train)"
   ]
  },
  {
   "cell_type": "markdown",
   "metadata": {},
   "source": [
    "* 模型评估"
   ]
  },
  {
   "cell_type": "code",
   "execution_count": 31,
   "metadata": {},
   "outputs": [
    {
     "name": "stdout",
     "output_type": "stream",
     "text": [
      "Mean Squared Error for Transfer_Estimated: 4.2351549260736985e-06\n",
      "Mean Squared Error for Transfer_Estimated: 3.1222098939758088e-06\n"
     ]
    }
   ],
   "source": [
    "# 进行预测\n",
    "y_pred = model_ridge.predict(X_test)\n",
    "\n",
    "# 评估模型\n",
    "mse_ridge = mean_squared_error(y_test, y_pred, multioutput='raw_values')\n",
    "print(f\"Mean Squared Error for Transfer_Estimated: {mse_ridge[0]}\")\n",
    "print(f\"Mean Squared Error for Transfer_Estimated: {mse_ridge[1]}\")"
   ]
  },
  {
   "cell_type": "code",
   "execution_count": 32,
   "metadata": {},
   "outputs": [
    {
     "name": "stdout",
     "output_type": "stream",
     "text": [
      "Mean Squared Error for each fold: [2.46532671e-05 8.36398102e-07 6.24549486e-06 5.32484322e-07\n",
      " 5.34937721e-06]\n",
      "Average Mean Squared Error: 7.52340431994433e-06\n"
     ]
    }
   ],
   "source": [
    "# 使用交叉验证评估模型\n",
    "result_ridge = cross_validate(model_ridge, features, target, cv=5, scoring='neg_mean_squared_error')\n",
    "mse_scores_ridge = -result_ridge['test_score']\n",
    "print(\"Mean Squared Error for each fold:\", mse_scores_ridge)\n",
    "print(\"Average Mean Squared Error:\", mse_scores_ridge.mean())"
   ]
  },
  {
   "cell_type": "markdown",
   "metadata": {},
   "source": [
    "* 调整超参数，找到最优参数"
   ]
  },
  {
   "cell_type": "code",
   "execution_count": 33,
   "metadata": {},
   "outputs": [
    {
     "name": "stdout",
     "output_type": "stream",
     "text": [
      "Best parameters found:  {'alpha': 1000, 'fit_intercept': False}\n"
     ]
    }
   ],
   "source": [
    "param_grid = {\n",
    "    'fit_intercept': [True, False],\n",
    "    'alpha': [0.1, 1, 10, 100, 1000]\n",
    "}\n",
    "\n",
    "grid_search = Ridge()\n",
    "\n",
    "grid_search = GridSearchCV(\n",
    "    estimator=grid_search,\n",
    "    param_grid=param_grid,\n",
    "    scoring='neg_mean_squared_error',\n",
    "    cv=5,\n",
    "    n_jobs=-1  # 使用所有可用的 CPU 核心\n",
    ")\n",
    "\n",
    "grid_search.fit(X_train, y_train)\n",
    "\n",
    "print(\"Best parameters found: \", grid_search.best_params_)\n",
    "\n",
    "best_model_ridge = grid_search.best_estimator_"
   ]
  },
  {
   "cell_type": "markdown",
   "metadata": {},
   "source": [
    "* 再次进行评估"
   ]
  },
  {
   "cell_type": "code",
   "execution_count": 34,
   "metadata": {},
   "outputs": [
    {
     "name": "stdout",
     "output_type": "stream",
     "text": [
      "Mean Squared Error for Transfer_Estimated: 3.635877444269888e-06\n",
      "Mean Squared Error for Transfer_Estimated: 2.1438147738243026e-06\n"
     ]
    }
   ],
   "source": [
    "# 进行预测\n",
    "y_pred = best_model_ridge.predict(X_test)\n",
    "\n",
    "# 评估模型\n",
    "mse_ridge_best = mean_squared_error(y_test, y_pred, multioutput='raw_values')\n",
    "print(f\"Mean Squared Error for Transfer_Estimated: {mse_ridge_best[0]}\")\n",
    "print(f\"Mean Squared Error for Transfer_Estimated: {mse_ridge_best[1]}\")"
   ]
  },
  {
   "cell_type": "code",
   "execution_count": 35,
   "metadata": {},
   "outputs": [
    {
     "name": "stdout",
     "output_type": "stream",
     "text": [
      "Mean Squared Error for each fold: [2.48398071e-05 9.45653592e-07 1.02349847e-05 4.32772506e-07\n",
      " 4.35533772e-06]\n",
      "Average Mean Squared Error: 8.161711131988398e-06\n"
     ]
    }
   ],
   "source": [
    "result_ridge_best = cross_validate(best_model_ridge, features, target, cv=5, scoring='neg_mean_squared_error')\n",
    "mse_scores_ridge_best = -result_ridge_best['test_score']\n",
    "print(\"Mean Squared Error for each fold:\", mse_scores_ridge_best)\n",
    "print(\"Average Mean Squared Error:\", mse_scores_ridge_best.mean())"
   ]
  },
  {
   "cell_type": "markdown",
   "metadata": {},
   "source": [
    "# 拉索回归"
   ]
  },
  {
   "cell_type": "markdown",
   "metadata": {},
   "source": [
    "* 创建并训练模型"
   ]
  },
  {
   "cell_type": "code",
   "execution_count": 36,
   "metadata": {},
   "outputs": [
    {
     "data": {
      "text/html": [
       "<style>#sk-container-id-5 {color: black;background-color: white;}#sk-container-id-5 pre{padding: 0;}#sk-container-id-5 div.sk-toggleable {background-color: white;}#sk-container-id-5 label.sk-toggleable__label {cursor: pointer;display: block;width: 100%;margin-bottom: 0;padding: 0.3em;box-sizing: border-box;text-align: center;}#sk-container-id-5 label.sk-toggleable__label-arrow:before {content: \"▸\";float: left;margin-right: 0.25em;color: #696969;}#sk-container-id-5 label.sk-toggleable__label-arrow:hover:before {color: black;}#sk-container-id-5 div.sk-estimator:hover label.sk-toggleable__label-arrow:before {color: black;}#sk-container-id-5 div.sk-toggleable__content {max-height: 0;max-width: 0;overflow: hidden;text-align: left;background-color: #f0f8ff;}#sk-container-id-5 div.sk-toggleable__content pre {margin: 0.2em;color: black;border-radius: 0.25em;background-color: #f0f8ff;}#sk-container-id-5 input.sk-toggleable__control:checked~div.sk-toggleable__content {max-height: 200px;max-width: 100%;overflow: auto;}#sk-container-id-5 input.sk-toggleable__control:checked~label.sk-toggleable__label-arrow:before {content: \"▾\";}#sk-container-id-5 div.sk-estimator input.sk-toggleable__control:checked~label.sk-toggleable__label {background-color: #d4ebff;}#sk-container-id-5 div.sk-label input.sk-toggleable__control:checked~label.sk-toggleable__label {background-color: #d4ebff;}#sk-container-id-5 input.sk-hidden--visually {border: 0;clip: rect(1px 1px 1px 1px);clip: rect(1px, 1px, 1px, 1px);height: 1px;margin: -1px;overflow: hidden;padding: 0;position: absolute;width: 1px;}#sk-container-id-5 div.sk-estimator {font-family: monospace;background-color: #f0f8ff;border: 1px dotted black;border-radius: 0.25em;box-sizing: border-box;margin-bottom: 0.5em;}#sk-container-id-5 div.sk-estimator:hover {background-color: #d4ebff;}#sk-container-id-5 div.sk-parallel-item::after {content: \"\";width: 100%;border-bottom: 1px solid gray;flex-grow: 1;}#sk-container-id-5 div.sk-label:hover label.sk-toggleable__label {background-color: #d4ebff;}#sk-container-id-5 div.sk-serial::before {content: \"\";position: absolute;border-left: 1px solid gray;box-sizing: border-box;top: 0;bottom: 0;left: 50%;z-index: 0;}#sk-container-id-5 div.sk-serial {display: flex;flex-direction: column;align-items: center;background-color: white;padding-right: 0.2em;padding-left: 0.2em;position: relative;}#sk-container-id-5 div.sk-item {position: relative;z-index: 1;}#sk-container-id-5 div.sk-parallel {display: flex;align-items: stretch;justify-content: center;background-color: white;position: relative;}#sk-container-id-5 div.sk-item::before, #sk-container-id-5 div.sk-parallel-item::before {content: \"\";position: absolute;border-left: 1px solid gray;box-sizing: border-box;top: 0;bottom: 0;left: 50%;z-index: -1;}#sk-container-id-5 div.sk-parallel-item {display: flex;flex-direction: column;z-index: 1;position: relative;background-color: white;}#sk-container-id-5 div.sk-parallel-item:first-child::after {align-self: flex-end;width: 50%;}#sk-container-id-5 div.sk-parallel-item:last-child::after {align-self: flex-start;width: 50%;}#sk-container-id-5 div.sk-parallel-item:only-child::after {width: 0;}#sk-container-id-5 div.sk-dashed-wrapped {border: 1px dashed gray;margin: 0 0.4em 0.5em 0.4em;box-sizing: border-box;padding-bottom: 0.4em;background-color: white;}#sk-container-id-5 div.sk-label label {font-family: monospace;font-weight: bold;display: inline-block;line-height: 1.2em;}#sk-container-id-5 div.sk-label-container {text-align: center;}#sk-container-id-5 div.sk-container {/* jupyter's `normalize.less` sets `[hidden] { display: none; }` but bootstrap.min.css set `[hidden] { display: none !important; }` so we also need the `!important` here to be able to override the default hidden behavior on the sphinx rendered scikit-learn.org. See: https://github.com/scikit-learn/scikit-learn/issues/21755 */display: inline-block !important;position: relative;}#sk-container-id-5 div.sk-text-repr-fallback {display: none;}</style><div id=\"sk-container-id-5\" class=\"sk-top-container\"><div class=\"sk-text-repr-fallback\"><pre>Lasso(alpha=1, max_iter=12000)</pre><b>In a Jupyter environment, please rerun this cell to show the HTML representation or trust the notebook. <br />On GitHub, the HTML representation is unable to render, please try loading this page with nbviewer.org.</b></div><div class=\"sk-container\" hidden><div class=\"sk-item\"><div class=\"sk-estimator sk-toggleable\"><input class=\"sk-toggleable__control sk-hidden--visually\" id=\"sk-estimator-id-5\" type=\"checkbox\" checked><label for=\"sk-estimator-id-5\" class=\"sk-toggleable__label sk-toggleable__label-arrow\">Lasso</label><div class=\"sk-toggleable__content\"><pre>Lasso(alpha=1, max_iter=12000)</pre></div></div></div></div></div>"
      ],
      "text/plain": [
       "Lasso(alpha=1, max_iter=12000)"
      ]
     },
     "execution_count": 36,
     "metadata": {},
     "output_type": "execute_result"
    }
   ],
   "source": [
    "from sklearn.linear_model import Lasso\n",
    "\n",
    "model_lasso = Lasso(alpha=1, max_iter=12000)\n",
    "\n",
    "model_lasso.fit(X_train, y_train)"
   ]
  },
  {
   "cell_type": "markdown",
   "metadata": {},
   "source": [
    "* 模型评估"
   ]
  },
  {
   "cell_type": "code",
   "execution_count": 37,
   "metadata": {},
   "outputs": [
    {
     "name": "stdout",
     "output_type": "stream",
     "text": [
      "Mean Squared Error for Transfer_Estimated: 6.681060030306749e-06\n",
      "Mean Squared Error for Transfer_Estimated: 4.310309199036605e-06\n"
     ]
    }
   ],
   "source": [
    "# 进行预测\n",
    "y_pred = model_lasso.predict(X_test)\n",
    "\n",
    "# 评估模型\n",
    "mse_lasso = mean_squared_error(y_test, y_pred, multioutput='raw_values')\n",
    "print(f\"Mean Squared Error for Transfer_Estimated: {mse_lasso[0]}\")\n",
    "print(f\"Mean Squared Error for Transfer_Estimated: {mse_lasso[1]}\")"
   ]
  },
  {
   "cell_type": "code",
   "execution_count": 38,
   "metadata": {},
   "outputs": [
    {
     "name": "stdout",
     "output_type": "stream",
     "text": [
      "Mean Squared Error for each fold: [1.35113932e-05 2.65717783e-06 3.55088800e-06 2.16250205e-07\n",
      " 8.37425962e-07]\n",
      "Average Mean Squared Error: 4.1546270318095555e-06\n"
     ]
    }
   ],
   "source": [
    "# 使用交叉验证评估模型\n",
    "result_lasso = cross_validate(model_lasso, features, target, cv=5, scoring='neg_mean_squared_error')\n",
    "mse_scores_lasso = -result_lasso['test_score']\n",
    "print(\"Mean Squared Error for each fold:\", mse_scores_lasso)\n",
    "print(\"Average Mean Squared Error:\", mse_scores_lasso.mean())"
   ]
  },
  {
   "cell_type": "markdown",
   "metadata": {},
   "source": [
    "* 调整超参数，找到最优参数"
   ]
  },
  {
   "cell_type": "code",
   "execution_count": 39,
   "metadata": {},
   "outputs": [
    {
     "data": {
      "text/plain": [
       "{'alpha': 1,\n",
       " 'copy_X': True,\n",
       " 'fit_intercept': True,\n",
       " 'max_iter': 12000,\n",
       " 'normalize': 'deprecated',\n",
       " 'positive': False,\n",
       " 'precompute': False,\n",
       " 'random_state': None,\n",
       " 'selection': 'cyclic',\n",
       " 'tol': 0.0001,\n",
       " 'warm_start': False}"
      ]
     },
     "execution_count": 39,
     "metadata": {},
     "output_type": "execute_result"
    }
   ],
   "source": [
    "model_lasso.get_params()"
   ]
  },
  {
   "cell_type": "code",
   "execution_count": 40,
   "metadata": {},
   "outputs": [
    {
     "name": "stdout",
     "output_type": "stream",
     "text": [
      "Best parameters found:  {'alpha': 1, 'copy_X': True, 'fit_intercept': True, 'max_iter': 12000, 'normalize': 'deprecated', 'positive': False, 'precompute': False, 'tol': 0.0005}\n"
     ]
    }
   ],
   "source": [
    "param_grid = {\n",
    "    'alpha': [0.1, 1, 10],\n",
    "    'fit_intercept': [True, False],\n",
    "    'max_iter': [12000, 15000],\n",
    "    'tol': [0.0001, 0.0005, 0.0006], \n",
    "    'positive': [False, True],\n",
    "    'precompute': [False, True],\n",
    "    'copy_X': [True, False],\n",
    "     'normalize': ['deprecated', False, True],\n",
    "\n",
    "}\n",
    "\n",
    "grid_search = Lasso()\n",
    "\n",
    "grid_search = GridSearchCV(\n",
    "    estimator=grid_search,\n",
    "    param_grid=param_grid,\n",
    "    scoring='neg_mean_squared_error',\n",
    "    cv=5,\n",
    "    n_jobs=-1  # 使用所有可用的 CPU 核心\n",
    ")\n",
    "\n",
    "grid_search.fit(X_train, y_train)\n",
    "\n",
    "print(\"Best parameters found: \", grid_search.best_params_)\n",
    "\n",
    "best_model_lasso = grid_search.best_estimator_"
   ]
  },
  {
   "cell_type": "code",
   "execution_count": 41,
   "metadata": {},
   "outputs": [
    {
     "data": {
      "text/plain": [
       "{'alpha': 1,\n",
       " 'copy_X': True,\n",
       " 'fit_intercept': True,\n",
       " 'max_iter': 12000,\n",
       " 'normalize': 'deprecated',\n",
       " 'positive': False,\n",
       " 'precompute': False,\n",
       " 'random_state': None,\n",
       " 'selection': 'cyclic',\n",
       " 'tol': 0.0005,\n",
       " 'warm_start': False}"
      ]
     },
     "execution_count": 41,
     "metadata": {},
     "output_type": "execute_result"
    }
   ],
   "source": [
    "best_model_lasso.get_params()"
   ]
  },
  {
   "cell_type": "markdown",
   "metadata": {},
   "source": [
    "* 再次进行评估"
   ]
  },
  {
   "cell_type": "code",
   "execution_count": 42,
   "metadata": {},
   "outputs": [
    {
     "name": "stdout",
     "output_type": "stream",
     "text": [
      "Mean Squared Error for KOL_Estimated: 4.748106999456451e-06\n",
      "Mean Squared Error for Transfer_Estimated: 2.9359553400739e-06\n"
     ]
    }
   ],
   "source": [
    "y_pred = best_model_lasso.predict(X_test)\n",
    "\n",
    "mse_lasso_best = mean_squared_error(y_test, y_pred, multioutput='raw_values')\n",
    "print(f\"Mean Squared Error for KOL_Estimated: {mse_lasso_best[0]}\")\n",
    "print(f\"Mean Squared Error for Transfer_Estimated: {mse_lasso_best[1]}\")"
   ]
  },
  {
   "cell_type": "code",
   "execution_count": 43,
   "metadata": {},
   "outputs": [
    {
     "name": "stdout",
     "output_type": "stream",
     "text": [
      "Mean Squared Error for each fold: [1.29493577e-05 2.79517865e-06 2.74383779e-06 3.13536909e-07\n",
      " 1.00722269e-06]\n",
      "Average Mean Squared Error: 3.96182674178522e-06\n"
     ]
    }
   ],
   "source": [
    "result_lasso_best = cross_validate(best_model_lasso, features, target, cv=5, scoring='neg_mean_squared_error')\n",
    "mse_scores_lasso_best = -result_lasso_best['test_score']\n",
    "print(\"Mean Squared Error for each fold:\", mse_scores_lasso_best)\n",
    "print(\"Average Mean Squared Error:\", mse_scores_lasso_best.mean())"
   ]
  },
  {
   "cell_type": "markdown",
   "metadata": {},
   "source": [
    "# SVM回归"
   ]
  },
  {
   "cell_type": "markdown",
   "metadata": {},
   "source": [
    "* 创建并训练模型"
   ]
  },
  {
   "cell_type": "code",
   "execution_count": 44,
   "metadata": {},
   "outputs": [
    {
     "data": {
      "text/html": [
       "<style>#sk-container-id-6 {color: black;background-color: white;}#sk-container-id-6 pre{padding: 0;}#sk-container-id-6 div.sk-toggleable {background-color: white;}#sk-container-id-6 label.sk-toggleable__label {cursor: pointer;display: block;width: 100%;margin-bottom: 0;padding: 0.3em;box-sizing: border-box;text-align: center;}#sk-container-id-6 label.sk-toggleable__label-arrow:before {content: \"▸\";float: left;margin-right: 0.25em;color: #696969;}#sk-container-id-6 label.sk-toggleable__label-arrow:hover:before {color: black;}#sk-container-id-6 div.sk-estimator:hover label.sk-toggleable__label-arrow:before {color: black;}#sk-container-id-6 div.sk-toggleable__content {max-height: 0;max-width: 0;overflow: hidden;text-align: left;background-color: #f0f8ff;}#sk-container-id-6 div.sk-toggleable__content pre {margin: 0.2em;color: black;border-radius: 0.25em;background-color: #f0f8ff;}#sk-container-id-6 input.sk-toggleable__control:checked~div.sk-toggleable__content {max-height: 200px;max-width: 100%;overflow: auto;}#sk-container-id-6 input.sk-toggleable__control:checked~label.sk-toggleable__label-arrow:before {content: \"▾\";}#sk-container-id-6 div.sk-estimator input.sk-toggleable__control:checked~label.sk-toggleable__label {background-color: #d4ebff;}#sk-container-id-6 div.sk-label input.sk-toggleable__control:checked~label.sk-toggleable__label {background-color: #d4ebff;}#sk-container-id-6 input.sk-hidden--visually {border: 0;clip: rect(1px 1px 1px 1px);clip: rect(1px, 1px, 1px, 1px);height: 1px;margin: -1px;overflow: hidden;padding: 0;position: absolute;width: 1px;}#sk-container-id-6 div.sk-estimator {font-family: monospace;background-color: #f0f8ff;border: 1px dotted black;border-radius: 0.25em;box-sizing: border-box;margin-bottom: 0.5em;}#sk-container-id-6 div.sk-estimator:hover {background-color: #d4ebff;}#sk-container-id-6 div.sk-parallel-item::after {content: \"\";width: 100%;border-bottom: 1px solid gray;flex-grow: 1;}#sk-container-id-6 div.sk-label:hover label.sk-toggleable__label {background-color: #d4ebff;}#sk-container-id-6 div.sk-serial::before {content: \"\";position: absolute;border-left: 1px solid gray;box-sizing: border-box;top: 0;bottom: 0;left: 50%;z-index: 0;}#sk-container-id-6 div.sk-serial {display: flex;flex-direction: column;align-items: center;background-color: white;padding-right: 0.2em;padding-left: 0.2em;position: relative;}#sk-container-id-6 div.sk-item {position: relative;z-index: 1;}#sk-container-id-6 div.sk-parallel {display: flex;align-items: stretch;justify-content: center;background-color: white;position: relative;}#sk-container-id-6 div.sk-item::before, #sk-container-id-6 div.sk-parallel-item::before {content: \"\";position: absolute;border-left: 1px solid gray;box-sizing: border-box;top: 0;bottom: 0;left: 50%;z-index: -1;}#sk-container-id-6 div.sk-parallel-item {display: flex;flex-direction: column;z-index: 1;position: relative;background-color: white;}#sk-container-id-6 div.sk-parallel-item:first-child::after {align-self: flex-end;width: 50%;}#sk-container-id-6 div.sk-parallel-item:last-child::after {align-self: flex-start;width: 50%;}#sk-container-id-6 div.sk-parallel-item:only-child::after {width: 0;}#sk-container-id-6 div.sk-dashed-wrapped {border: 1px dashed gray;margin: 0 0.4em 0.5em 0.4em;box-sizing: border-box;padding-bottom: 0.4em;background-color: white;}#sk-container-id-6 div.sk-label label {font-family: monospace;font-weight: bold;display: inline-block;line-height: 1.2em;}#sk-container-id-6 div.sk-label-container {text-align: center;}#sk-container-id-6 div.sk-container {/* jupyter's `normalize.less` sets `[hidden] { display: none; }` but bootstrap.min.css set `[hidden] { display: none !important; }` so we also need the `!important` here to be able to override the default hidden behavior on the sphinx rendered scikit-learn.org. See: https://github.com/scikit-learn/scikit-learn/issues/21755 */display: inline-block !important;position: relative;}#sk-container-id-6 div.sk-text-repr-fallback {display: none;}</style><div id=\"sk-container-id-6\" class=\"sk-top-container\"><div class=\"sk-text-repr-fallback\"><pre>SVR()</pre><b>In a Jupyter environment, please rerun this cell to show the HTML representation or trust the notebook. <br />On GitHub, the HTML representation is unable to render, please try loading this page with nbviewer.org.</b></div><div class=\"sk-container\" hidden><div class=\"sk-item\"><div class=\"sk-estimator sk-toggleable\"><input class=\"sk-toggleable__control sk-hidden--visually\" id=\"sk-estimator-id-6\" type=\"checkbox\" checked><label for=\"sk-estimator-id-6\" class=\"sk-toggleable__label sk-toggleable__label-arrow\">SVR</label><div class=\"sk-toggleable__content\"><pre>SVR()</pre></div></div></div></div></div>"
      ],
      "text/plain": [
       "SVR()"
      ]
     },
     "execution_count": 44,
     "metadata": {},
     "output_type": "execute_result"
    }
   ],
   "source": [
    "from sklearn.svm import SVR\n",
    "\n",
    "model_svm_KOL = SVR()\n",
    "model_svm_KOL.fit(X_train, y_train_KOL)\n",
    "\n",
    "model_svm_Transfer = SVR()\n",
    "model_svm_Transfer.fit(X_train, y_train_Transfer)"
   ]
  },
  {
   "cell_type": "markdown",
   "metadata": {},
   "source": [
    "* 模型评估"
   ]
  },
  {
   "cell_type": "code",
   "execution_count": 45,
   "metadata": {},
   "outputs": [
    {
     "name": "stdout",
     "output_type": "stream",
     "text": [
      "Mean Squared Error for KOL_Estimated: 0.00090525\n",
      "Mean Squared Error for Transfer_Estimated: 0.0009\n"
     ]
    }
   ],
   "source": [
    "y_pred_KOL = model_svm_KOL.predict(X_test)\n",
    "y_pred_Transfer = model_svm_Transfer.predict(X_test)\n",
    "\n",
    "mse_KOL = mean_squared_error(y_test_KOL, y_pred_KOL)\n",
    "mse_Transfer = mean_squared_error(y_test_Transfer, y_pred_Transfer)\n",
    "\n",
    "print(f\"Mean Squared Error for KOL_Estimated: {mse_KOL}\")\n",
    "print(f\"Mean Squared Error for Transfer_Estimated: {mse_Transfer}\")"
   ]
  },
  {
   "cell_type": "code",
   "execution_count": 46,
   "metadata": {},
   "outputs": [
    {
     "name": "stdout",
     "output_type": "stream",
     "text": [
      "Average Mean Squared Error for KOL_Estimated: 0.0008003000000000001\n"
     ]
    }
   ],
   "source": [
    "result_KOL = cross_validate(model_svm_KOL, features, y_KOL, cv=5, scoring='neg_mean_squared_error')\n",
    "mse_scores_KOL = -result_KOL['test_score']\n",
    "print(\"Average Mean Squared Error for KOL_Estimated:\", mse_scores_KOL.mean())"
   ]
  },
  {
   "cell_type": "code",
   "execution_count": 47,
   "metadata": {},
   "outputs": [
    {
     "name": "stdout",
     "output_type": "stream",
     "text": [
      "Average Mean Squared Error for Transfer_Estimated: 0.0008000000000000001\n"
     ]
    }
   ],
   "source": [
    "result_Transfer = cross_validate(model_svm_Transfer, features, y_Transfer, cv=5, scoring='neg_mean_squared_error')\n",
    "mse_scores_Transfer = -result_Transfer['test_score']\n",
    "print(\"Average Mean Squared Error for Transfer_Estimated:\", mse_scores_Transfer.mean())"
   ]
  },
  {
   "cell_type": "markdown",
   "metadata": {},
   "source": [
    "* SVM回归（KOL_Estimated模型）超参数调整"
   ]
  },
  {
   "cell_type": "code",
   "execution_count": 48,
   "metadata": {},
   "outputs": [
    {
     "data": {
      "text/plain": [
       "{'C': 1.0,\n",
       " 'cache_size': 200,\n",
       " 'coef0': 0.0,\n",
       " 'degree': 3,\n",
       " 'epsilon': 0.1,\n",
       " 'gamma': 'scale',\n",
       " 'kernel': 'rbf',\n",
       " 'max_iter': -1,\n",
       " 'shrinking': True,\n",
       " 'tol': 0.001,\n",
       " 'verbose': False}"
      ]
     },
     "execution_count": 48,
     "metadata": {},
     "output_type": "execute_result"
    }
   ],
   "source": [
    "model_svm_KOL.get_params()"
   ]
  },
  {
   "cell_type": "code",
   "execution_count": 49,
   "metadata": {},
   "outputs": [
    {
     "name": "stdout",
     "output_type": "stream",
     "text": [
      "Best parameters found:  SVR(C=100.0, cache_size=150, coef0=1.0, degree=2, epsilon=0.01,\n",
      "    kernel='sigmoid')\n"
     ]
    }
   ],
   "source": [
    "from sklearn.model_selection import GridSearchCV\n",
    "\n",
    "param_grid = {\n",
    "    'C': [0.1, 1.0, 10.0, 100.0],\n",
    "    'epsilon': [0.01, 0.1, 0.2],\n",
    "    'kernel': ['linear', 'poly', 'rbf', 'sigmoid'],\n",
    "    'degree': [2, 3, 4],\n",
    "    'cache_size': [150, 200, 250],\n",
    "    # 'gamma': ['scale', 'auto'],\n",
    "    'coef0': [0.0, 1.0, 2.0],\n",
    "    'shrinking': [True, False],\n",
    "    'max_iter': [-1, 1000, 2000, 3000],\n",
    "}\n",
    "\n",
    "grid_search = SVR()\n",
    "\n",
    "grid_search = GridSearchCV(\n",
    "    estimator=grid_search,\n",
    "    param_grid=param_grid,\n",
    "    scoring='neg_mean_squared_error',\n",
    "    cv=5,\n",
    "    n_jobs=-1  # 使用所有可用的 CPU 核心\n",
    ")\n",
    "\n",
    "grid_search.fit(X_train, y_train_KOL)\n",
    "\n",
    "print(\"Best parameters found: \", grid_search.best_estimator_)\n",
    "\n",
    "best_model_svm_KOL = grid_search.best_estimator_"
   ]
  },
  {
   "cell_type": "markdown",
   "metadata": {},
   "source": [
    "* KOL_Estimated模型再评估"
   ]
  },
  {
   "cell_type": "code",
   "execution_count": 50,
   "metadata": {},
   "outputs": [
    {
     "name": "stdout",
     "output_type": "stream",
     "text": [
      "Mean Squared Error for KOL_Estimated: 0.00018207394440911\n"
     ]
    }
   ],
   "source": [
    "y_pred_KOL = best_model_svm_KOL.predict(X_test)\n",
    "\n",
    "mse_KOL_best = mean_squared_error(y_test_KOL, y_pred_KOL)\n",
    "\n",
    "print(f\"Mean Squared Error for KOL_Estimated: {mse_KOL_best}\")"
   ]
  },
  {
   "cell_type": "code",
   "execution_count": 51,
   "metadata": {},
   "outputs": [
    {
     "name": "stdout",
     "output_type": "stream",
     "text": [
      "Average Mean Squared Error for KOL_Estimated: 0.00012065351205112836\n"
     ]
    }
   ],
   "source": [
    "result_KOL_best = cross_validate(best_model_svm_KOL, features, y_KOL, cv=5, scoring='neg_mean_squared_error')\n",
    "mse_scores_KOL_best = -result_KOL_best['test_score']\n",
    "print(\"Average Mean Squared Error for KOL_Estimated:\", mse_scores_KOL_best.mean())"
   ]
  },
  {
   "cell_type": "markdown",
   "metadata": {},
   "source": [
    "* SVM回归（Transfer_Estimated模型）超参数调整"
   ]
  },
  {
   "cell_type": "code",
   "execution_count": 52,
   "metadata": {},
   "outputs": [
    {
     "name": "stdout",
     "output_type": "stream",
     "text": [
      "Best parameters found:  SVR(C=100.0, cache_size=150, coef0=1.0, degree=2, epsilon=0.01,\n",
      "    kernel='sigmoid')\n"
     ]
    }
   ],
   "source": [
    "param_grid = {\n",
    "    'C': [0.1, 1.0, 10.0, 100.0],\n",
    "    'epsilon': [0.01, 0.1, 0.2],\n",
    "    'kernel': ['linear', 'poly', 'rbf', 'sigmoid'],\n",
    "    'degree': [2, 3, 4],\n",
    "    'cache_size': [150, 200, 250],\n",
    "    # 'gamma': ['scale', 'auto'],\n",
    "    'coef0': [0.0, 1.0, 2.0],\n",
    "    'shrinking': [True, False],\n",
    "    'max_iter': [-1, 1000, 2000, 3000],\n",
    "}\n",
    "\n",
    "grid_search = SVR()\n",
    "\n",
    "grid_search = GridSearchCV(\n",
    "    estimator=grid_search,\n",
    "    param_grid=param_grid,\n",
    "    scoring='neg_mean_squared_error',\n",
    "    cv=5,\n",
    "    n_jobs=-1  # 使用所有可用的 CPU 核心\n",
    ")\n",
    "\n",
    "grid_search.fit(X_train, y_train_Transfer)\n",
    "\n",
    "print(\"Best parameters found: \", grid_search.best_estimator_)\n",
    "\n",
    "best_model_svm_Transfer = grid_search.best_estimator_"
   ]
  },
  {
   "cell_type": "markdown",
   "metadata": {},
   "source": [
    "* Transfer_Estimated模型再评估"
   ]
  },
  {
   "cell_type": "code",
   "execution_count": 53,
   "metadata": {},
   "outputs": [
    {
     "name": "stdout",
     "output_type": "stream",
     "text": [
      "Mean Squared Error for Transfer_Estimated: 0.0001755309363471542\n"
     ]
    }
   ],
   "source": [
    "y_pred_Transfer = best_model_svm_Transfer.predict(X_test)\n",
    "\n",
    "mse_Transfer_best = mean_squared_error(y_test_Transfer, y_pred_Transfer)\n",
    "\n",
    "print(f\"Mean Squared Error for Transfer_Estimated: {mse_Transfer_best}\")"
   ]
  },
  {
   "cell_type": "code",
   "execution_count": 54,
   "metadata": {},
   "outputs": [
    {
     "name": "stdout",
     "output_type": "stream",
     "text": [
      "Average Mean Squared Error for Transfer_Estimated: 0.00012186129528742477\n"
     ]
    }
   ],
   "source": [
    "result_Transfer_best = cross_validate(best_model_svm_Transfer, features, y_Transfer, cv=5, scoring='neg_mean_squared_error')\n",
    "mse_scores_Transfer_best = -result_Transfer_best['test_score']\n",
    "print(\"Average Mean Squared Error for Transfer_Estimated:\", mse_scores_Transfer_best.mean())"
   ]
  },
  {
   "cell_type": "markdown",
   "metadata": {},
   "source": [
    "# 各模型评估汇总"
   ]
  },
  {
   "cell_type": "markdown",
   "metadata": {},
   "source": [
    "### 均方误差"
   ]
  },
  {
   "cell_type": "code",
   "execution_count": 55,
   "metadata": {},
   "outputs": [
    {
     "data": {
      "text/html": [
       "<div>\n",
       "<style scoped>\n",
       "    .dataframe tbody tr th:only-of-type {\n",
       "        vertical-align: middle;\n",
       "    }\n",
       "\n",
       "    .dataframe tbody tr th {\n",
       "        vertical-align: top;\n",
       "    }\n",
       "\n",
       "    .dataframe thead th {\n",
       "        text-align: right;\n",
       "    }\n",
       "</style>\n",
       "<table border=\"1\" class=\"dataframe\">\n",
       "  <thead>\n",
       "    <tr style=\"text-align: right;\">\n",
       "      <th></th>\n",
       "      <th>调参前平均均方误差</th>\n",
       "      <th>调参后平均均方误差</th>\n",
       "      <th>调参前均方误差KOL_Estimated</th>\n",
       "      <th>调参后均方误差KOL_Estimated</th>\n",
       "      <th>调参前均方误差Transfer_Estimated</th>\n",
       "      <th>调参后均方误差Transfer_Estimated</th>\n",
       "    </tr>\n",
       "  </thead>\n",
       "  <tbody>\n",
       "    <tr>\n",
       "      <th>线性回归</th>\n",
       "      <td>7.52340369e-06</td>\n",
       "      <td>8.16179358e-06</td>\n",
       "      <td>4.23516259e-06</td>\n",
       "      <td>3.64170088e-06</td>\n",
       "      <td>3.12221869e-06</td>\n",
       "      <td>2.15056134e-06</td>\n",
       "    </tr>\n",
       "    <tr>\n",
       "      <th>决策树回归_KOL_Estimated</th>\n",
       "      <td>5.82650000e-04</td>\n",
       "      <td>3.00000000e-07</td>\n",
       "      <td>2.10500000e-04</td>\n",
       "      <td>5.00000000e-07</td>\n",
       "      <td>nan</td>\n",
       "      <td>nan</td>\n",
       "    </tr>\n",
       "    <tr>\n",
       "      <th>决策树回归_Transfer_Estimated</th>\n",
       "      <td>6.00000000e-04</td>\n",
       "      <td>0.00000000e+00</td>\n",
       "      <td>nan</td>\n",
       "      <td>nan</td>\n",
       "      <td>2.00000000e-04</td>\n",
       "      <td>0.00000000e+00</td>\n",
       "    </tr>\n",
       "    <tr>\n",
       "      <th>岭回归</th>\n",
       "      <td>7.52340432e-06</td>\n",
       "      <td>8.16171113e-06</td>\n",
       "      <td>4.23515493e-06</td>\n",
       "      <td>3.63587744e-06</td>\n",
       "      <td>3.12220989e-06</td>\n",
       "      <td>2.14381477e-06</td>\n",
       "    </tr>\n",
       "    <tr>\n",
       "      <th>拉索回归</th>\n",
       "      <td>4.15462703e-06</td>\n",
       "      <td>3.96182674e-06</td>\n",
       "      <td>6.68106003e-06</td>\n",
       "      <td>4.74810700e-06</td>\n",
       "      <td>4.31030920e-06</td>\n",
       "      <td>2.93595534e-06</td>\n",
       "    </tr>\n",
       "    <tr>\n",
       "      <th>SVM回归_KOL_Estimated</th>\n",
       "      <td>8.00300000e-04</td>\n",
       "      <td>1.20653512e-04</td>\n",
       "      <td>9.05250000e-04</td>\n",
       "      <td>1.82073944e-04</td>\n",
       "      <td>nan</td>\n",
       "      <td>nan</td>\n",
       "    </tr>\n",
       "    <tr>\n",
       "      <th>SVM回归_Transfer_Estimated</th>\n",
       "      <td>8.00000000e-04</td>\n",
       "      <td>1.21861295e-04</td>\n",
       "      <td>nan</td>\n",
       "      <td>nan</td>\n",
       "      <td>9.00000000e-04</td>\n",
       "      <td>1.75530936e-04</td>\n",
       "    </tr>\n",
       "  </tbody>\n",
       "</table>\n",
       "</div>"
      ],
      "text/plain": [
       "                               调参前平均均方误差       调参后平均均方误差 调参前均方误差KOL_Estimated  \\\n",
       "线性回归                      7.52340369e-06  8.16179358e-06       4.23516259e-06   \n",
       "决策树回归_KOL_Estimated       5.82650000e-04  3.00000000e-07       2.10500000e-04   \n",
       "决策树回归_Transfer_Estimated  6.00000000e-04  0.00000000e+00                  nan   \n",
       "岭回归                       7.52340432e-06  8.16171113e-06       4.23515493e-06   \n",
       "拉索回归                      4.15462703e-06  3.96182674e-06       6.68106003e-06   \n",
       "SVM回归_KOL_Estimated       8.00300000e-04  1.20653512e-04       9.05250000e-04   \n",
       "SVM回归_Transfer_Estimated  8.00000000e-04  1.21861295e-04                  nan   \n",
       "\n",
       "                         调参后均方误差KOL_Estimated 调参前均方误差Transfer_Estimated  \\\n",
       "线性回归                           3.64170088e-06            3.12221869e-06   \n",
       "决策树回归_KOL_Estimated            5.00000000e-07                       nan   \n",
       "决策树回归_Transfer_Estimated                  nan            2.00000000e-04   \n",
       "岭回归                            3.63587744e-06            3.12220989e-06   \n",
       "拉索回归                           4.74810700e-06            4.31030920e-06   \n",
       "SVM回归_KOL_Estimated            1.82073944e-04                       nan   \n",
       "SVM回归_Transfer_Estimated                  nan            9.00000000e-04   \n",
       "\n",
       "                         调参后均方误差Transfer_Estimated  \n",
       "线性回归                                2.15056134e-06  \n",
       "决策树回归_KOL_Estimated                            nan  \n",
       "决策树回归_Transfer_Estimated            0.00000000e+00  \n",
       "岭回归                                 2.14381477e-06  \n",
       "拉索回归                                2.93595534e-06  \n",
       "SVM回归_KOL_Estimated                            nan  \n",
       "SVM回归_Transfer_Estimated            1.75530936e-04  "
      ]
     },
     "execution_count": 55,
     "metadata": {},
     "output_type": "execute_result"
    }
   ],
   "source": [
    "total = pd.DataFrame({\n",
    "    '调参前平均均方误差':[mse_scores_linear.mean(), mse_scores_tree_KOL.mean(), mse_scores_tree_Transfer.mean(), mse_scores_ridge.mean(), mse_scores_lasso.mean(), mse_scores_KOL.mean(), mse_scores_Transfer.mean()],\n",
    "    '调参后平均均方误差':[mse_scores_linear_best.mean(), mse_scores_tree_KOL_best.mean(), mse_scores_tree_Transfer_best.mean(), mse_scores_ridge_best.mean(), mse_scores_lasso_best.mean(),  mse_scores_KOL_best.mean(), mse_scores_Transfer_best.mean()],\n",
    "    '调参前均方误差KOL_Estimated': [mse_linear[0], mse_tree_KOL, np.nan, mse_ridge[0], mse_lasso[0], mse_KOL, np.NaN],\n",
    "    '调参后均方误差KOL_Estimated': [mse_linear_best[0], mse_tree_KOL_best, np.nan, mse_ridge_best[0], mse_lasso_best[0], mse_KOL_best, np.NaN],\n",
    "    '调参前均方误差Transfer_Estimated': [mse_linear[1], np.nan, mse_tree_Transfer, mse_ridge[1], mse_lasso[1], np.NaN, mse_Transfer],\n",
    "    '调参后均方误差Transfer_Estimated': [mse_linear_best[1], np.nan, mse_tree_Transfer_best, mse_ridge_best[1], mse_lasso_best[1], np.NaN, mse_Transfer_best]\n",
    "})\n",
    "\n",
    "total.index = ['线性回归', '决策树回归_KOL_Estimated', '决策树回归_Transfer_Estimated', '岭回归', '拉索回归', 'SVM回归_KOL_Estimated', 'SVM回归_Transfer_Estimated']\n",
    "\n",
    "for column in total.columns:\n",
    "    total[column] = total[column].apply(lambda x: f\"{x:.8e}\")\n",
    "\n",
    "total"
   ]
  },
  {
   "cell_type": "markdown",
   "metadata": {},
   "source": [
    "### 模型评分"
   ]
  },
  {
   "cell_type": "code",
   "execution_count": 56,
   "metadata": {},
   "outputs": [
    {
     "data": {
      "text/html": [
       "<div>\n",
       "<style scoped>\n",
       "    .dataframe tbody tr th:only-of-type {\n",
       "        vertical-align: middle;\n",
       "    }\n",
       "\n",
       "    .dataframe tbody tr th {\n",
       "        vertical-align: top;\n",
       "    }\n",
       "\n",
       "    .dataframe thead th {\n",
       "        text-align: right;\n",
       "    }\n",
       "</style>\n",
       "<table border=\"1\" class=\"dataframe\">\n",
       "  <thead>\n",
       "    <tr style=\"text-align: right;\">\n",
       "      <th></th>\n",
       "      <th>训练前评分</th>\n",
       "      <th>训练后评分</th>\n",
       "    </tr>\n",
       "  </thead>\n",
       "  <tbody>\n",
       "    <tr>\n",
       "      <th>线性回归</th>\n",
       "      <td>9.94574300e-01</td>\n",
       "      <td>9.95730254e-01</td>\n",
       "    </tr>\n",
       "    <tr>\n",
       "      <th>决策树回归_KOL_Estimated</th>\n",
       "      <td>6.90554943e-01</td>\n",
       "      <td>9.99264976e-01</td>\n",
       "    </tr>\n",
       "    <tr>\n",
       "      <th>决策树回归_Transfer_Estimated</th>\n",
       "      <td>7.03703704e-01</td>\n",
       "      <td>1.00000000e+00</td>\n",
       "    </tr>\n",
       "    <tr>\n",
       "      <th>岭回归</th>\n",
       "      <td>9.94574312e-01</td>\n",
       "      <td>9.95739532e-01</td>\n",
       "    </tr>\n",
       "    <tr>\n",
       "      <th>拉索回归</th>\n",
       "      <td>9.91896440e-01</td>\n",
       "      <td>9.94335246e-01</td>\n",
       "    </tr>\n",
       "    <tr>\n",
       "      <th>SVM回归_KOL_Estimated</th>\n",
       "      <td>-3.30760750e-01</td>\n",
       "      <td>7.32342603e-01</td>\n",
       "    </tr>\n",
       "    <tr>\n",
       "      <th>SVM回归_Transfer_Estimated</th>\n",
       "      <td>-3.33333333e-01</td>\n",
       "      <td>7.39954168e-01</td>\n",
       "    </tr>\n",
       "  </tbody>\n",
       "</table>\n",
       "</div>"
      ],
      "text/plain": [
       "                                    训练前评分           训练后评分\n",
       "线性回归                       9.94574300e-01  9.95730254e-01\n",
       "决策树回归_KOL_Estimated        6.90554943e-01  9.99264976e-01\n",
       "决策树回归_Transfer_Estimated   7.03703704e-01  1.00000000e+00\n",
       "岭回归                        9.94574312e-01  9.95739532e-01\n",
       "拉索回归                       9.91896440e-01  9.94335246e-01\n",
       "SVM回归_KOL_Estimated       -3.30760750e-01  7.32342603e-01\n",
       "SVM回归_Transfer_Estimated  -3.33333333e-01  7.39954168e-01"
      ]
     },
     "execution_count": 56,
     "metadata": {},
     "output_type": "execute_result"
    }
   ],
   "source": [
    "scores = pd.DataFrame({\n",
    "    '训练前评分':[model_linear.score(X_test, y_test), model_tree_KOL.score(X_test, y_test_KOL), model_tree_Transfer.score(X_test, y_test_Transfer), model_ridge.score(X_test, y_test), model_lasso.score(X_test, y_test), model_svm_KOL.score(X_test, y_test_KOL), model_svm_Transfer.score(X_test, y_test_Transfer)],\n",
    "    '训练后评分':[best_model_linear.score(X_test, y_test), best_model_tree_KOL.score(X_test_reduced, y_test_KOL), best_model_tree_Transfer.score(X_test_reduced, y_test_Transfer), best_model_ridge.score(X_test, y_test), best_model_lasso.score(X_test, y_test), best_model_svm_KOL.score(X_test, y_test_KOL), best_model_svm_Transfer.score(X_test, y_test_Transfer)]\n",
    "})\n",
    "\n",
    "scores.index = ['线性回归', '决策树回归_KOL_Estimated', '决策树回归_Transfer_Estimated', '岭回归', '拉索回归', 'SVM回归_KOL_Estimated', 'SVM回归_Transfer_Estimated']\n",
    "\n",
    "for column in scores.columns:\n",
    "    scores[column] = scores[column].apply(lambda x: f\"{x:.8e}\")\n",
    "\n",
    "scores"
   ]
  },
  {
   "cell_type": "markdown",
   "metadata": {},
   "source": [
    "# 总结\n",
    "### 决策树回归模型是最适合的模型"
   ]
  },
  {
   "cell_type": "markdown",
   "metadata": {},
   "source": [
    "# 可视化"
   ]
  },
  {
   "cell_type": "markdown",
   "metadata": {},
   "source": [
    "### 导入需要的库"
   ]
  },
  {
   "cell_type": "code",
   "execution_count": 57,
   "metadata": {},
   "outputs": [],
   "source": [
    "from sklearn.model_selection import learning_curve\n",
    "from sklearn.model_selection import validation_curve\n",
    "import matplotlib.pyplot as plt\n",
    "import numpy as np"
   ]
  },
  {
   "cell_type": "markdown",
   "metadata": {},
   "source": [
    "### 设置变量"
   ]
  },
  {
   "cell_type": "code",
   "execution_count": 58,
   "metadata": {},
   "outputs": [],
   "source": [
    "y_pred_linear = best_model_linear.predict(X_test)\n",
    "y_pred_tree_KOL = best_model_tree_KOL.predict(X_test_reduced)\n",
    "y_pred_tree_Transfer = best_model_tree_Transfer.predict(X_test_reduced)\n",
    "y_pred_ridge = best_model_ridge.predict(X_test)\n",
    "y_pred_lasso = best_model_lasso.predict(X_test)\n",
    "y_pred_svm_KOL = best_model_svm_KOL.predict(X_test)\n",
    "y_pred_svm_Transfer = best_model_svm_Transfer.predict(X_test)"
   ]
  },
  {
   "cell_type": "markdown",
   "metadata": {},
   "source": [
    "### 线性回归模型"
   ]
  },
  {
   "cell_type": "code",
   "execution_count": 59,
   "metadata": {},
   "outputs": [
    {
     "data": {
      "image/png": "[encoded data removed]",
      "text/plain": [
       "<Figure size 640x480 with 1 Axes>"
      ]
     },
     "metadata": {},
     "output_type": "display_data"
    }
   ],
   "source": [
    "plt.figure()\n",
    "plt.scatter(y_test[:,0], y_pred_linear[:,0], label='KOL_Estimated Predicted Points', color='green')\n",
    "plt.scatter(y_test[:,1], y_pred_linear[:,1], label='Transfer_Estimated Predicted Points', marker='x', color='blue')\n",
    "plt.plot([np.min(y_test[:,0]), np.max(y_test[:,0])], [np.min(y_test[:,0]), np.max(y_test[:,0])], color='red', label='KOL_Estimated Ideal Line')\n",
    "plt.plot([np.min(y_test[:,1]), np.max(y_test[:,1])], [np.min(y_test[:,1]), np.max(y_test[:,1])], color='blue',linestyle='--', label='Transfer_Estimated Ideal Line')\n",
    "plt.xlabel('Actual Values')\n",
    "plt.ylabel('Predicted Values')\n",
    "plt.title('(Linear Regression) Actual vs Predicted')\n",
    "plt.legend()\n",
    "plt.savefig('linear.png')\n",
    "plt.show()"
   ]
  },
  {
   "cell_type": "markdown",
   "metadata": {},
   "source": [
    "### 决策树回归(KOL_Estimated)模型"
   ]
  },
  {
   "cell_type": "code",
   "execution_count": 60,
   "metadata": {},
   "outputs": [
    {
     "data": {
      "image/png": "[encoded data removed]",
      "text/plain": [
       "<Figure size 640x480 with 1 Axes>"
      ]
     },
     "metadata": {},
     "output_type": "display_data"
    }
   ],
   "source": [
    "plt.figure()\n",
    "plt.scatter(y_test_KOL, y_pred_tree_KOL, label='Predicted Points')\n",
    "plt.plot([np.min(y_test_KOL), np.max(y_test_KOL)], [np.min(y_test_KOL), np.max(y_test_KOL)], color='green', label='Ideal Line')\n",
    "plt.xlabel('Actual Values')\n",
    "plt.ylabel('Predicted Values')\n",
    "plt.title('(Decision Tree Regression(KOL_Estimated)) Actual vs Predicted')\n",
    "plt.legend()\n",
    "plt.show()"
   ]
  },
  {
   "cell_type": "markdown",
   "metadata": {},
   "source": [
    "### 决策树回归(Transfer_Estimated)模型"
   ]
  },
  {
   "cell_type": "code",
   "execution_count": 61,
   "metadata": {},
   "outputs": [
    {
     "data": {
      "image/png": "[encoded data removed]",
      "text/plain": [
       "<Figure size 640x480 with 1 Axes>"
      ]
     },
     "metadata": {},
     "output_type": "display_data"
    }
   ],
   "source": [
    "plt.figure()\n",
    "plt.scatter(y_test_Transfer, y_pred_tree_Transfer, label='Predicted Points')\n",
    "plt.plot([np.min(y_test_Transfer), np.max(y_test_Transfer)], [np.min(y_test_Transfer), np.max(y_test_Transfer)], color='green', label='Ideal Line')\n",
    "plt.xlabel('Actual Values')\n",
    "plt.ylabel('Predicted Values')\n",
    "plt.title('(Decision Tree Regression(Transfer_Estimated)) Actual vs Predicted')\n",
    "plt.legend()\n",
    "plt.show()"
   ]
  },
  {
   "cell_type": "markdown",
   "metadata": {},
   "source": [
    "### 岭回归模型"
   ]
  },
  {
   "cell_type": "code",
   "execution_count": 62,
   "metadata": {},
   "outputs": [
    {
     "data": {
      "image/png": "[encoded data removed]",
      "text/plain": [
       "<Figure size 640x480 with 1 Axes>"
      ]
     },
     "metadata": {},
     "output_type": "display_data"
    }
   ],
   "source": [
    "plt.figure()\n",
    "plt.scatter(y_test[:,0], y_pred_ridge[:,0], label='KOL_Estimated Predicted Points', color='green')\n",
    "plt.scatter(y_test[:,1], y_pred_ridge[:,1], label='Transfer_Estimated Predicted Points', marker='x', color='blue')\n",
    "plt.plot([np.min(y_test[:,0]), np.max(y_test[:,0])], [np.min(y_test[:,0]), np.max(y_test[:,0])], color='red', label='KOL_Estimated Ideal Line')\n",
    "plt.plot([np.min(y_test[:,1]), np.max(y_test[:,1])], [np.min(y_test[:,1]), np.max(y_test[:,1])], color='blue',linestyle='--', label='Transfer_Estimated Ideal Line')\n",
    "plt.xlabel('Actual Values')\n",
    "plt.ylabel('Predicted Values')\n",
    "plt.title('(Ridge Regression) Actual vs Predicted')\n",
    "plt.legend()\n",
    "plt.savefig('ridge.png')\n",
    "plt.show()"
   ]
  },
  {
   "cell_type": "markdown",
   "metadata": {},
   "source": [
    "### 拉索回归模型"
   ]
  },
  {
   "cell_type": "code",
   "execution_count": 63,
   "metadata": {},
   "outputs": [
    {
     "data": {
      "image/png": "[encoded data removed]",
      "text/plain": [
       "<Figure size 640x480 with 1 Axes>"
      ]
     },
     "metadata": {},
     "output_type": "display_data"
    }
   ],
   "source": [
    "plt.figure()\n",
    "plt.scatter(y_test[:,0], y_pred_lasso[:,0], label='KOL_Estimated Predicted Points', color='green')\n",
    "plt.scatter(y_test[:,1], y_pred_lasso[:,1], label='Transfer_Estimated Predicted Points', marker='x', color='blue')\n",
    "plt.plot([np.min(y_test[:,0]), np.max(y_test[:,0])], [np.min(y_test[:,0]), np.max(y_test[:,0])], color='red', label='KOL_Estimated Ideal Line')\n",
    "plt.plot([np.min(y_test[:,1]), np.max(y_test[:,1])], [np.min(y_test[:,1]), np.max(y_test[:,1])], color='blue',linestyle='--', label='Transfer_Estimated Ideal Line')\n",
    "plt.xlabel('Actual Values')\n",
    "plt.ylabel('Predicted Values')\n",
    "plt.title('(Lasso Regression) Actual vs Predicted')\n",
    "plt.legend()\n",
    "plt.savefig('lasso.png')\n",
    "plt.show()"
   ]
  },
  {
   "cell_type": "markdown",
   "metadata": {},
   "source": [
    "### SVM回归(KOL_Estimated)模型"
   ]
  },
  {
   "cell_type": "code",
   "execution_count": 64,
   "metadata": {},
   "outputs": [
    {
     "data": {
      "image/png": "[encoded data removed]",
      "text/plain": [
       "<Figure size 640x480 with 1 Axes>"
      ]
     },
     "metadata": {},
     "output_type": "display_data"
    }
   ],
   "source": [
    "plt.figure()\n",
    "plt.scatter(y_test_KOL, y_pred_svm_KOL, label='Predicted Points')\n",
    "plt.plot([np.min(y_test_KOL), np.max(y_test_KOL)], [np.min(y_test_KOL), np.max(y_test_KOL)], color='black', label='Ideal Line')\n",
    "plt.xlabel('Actual Values')\n",
    "plt.ylabel('Predicted Values')\n",
    "plt.title('(SVM Regression KOL_Estimated) Actual vs Predicted')\n",
    "plt.legend()\n",
    "plt.show()"
   ]
  },
  {
   "cell_type": "markdown",
   "metadata": {},
   "source": [
    "### SVM回归(Transfer_Estimated)模型"
   ]
  },
  {
   "cell_type": "code",
   "execution_count": 65,
   "metadata": {},
   "outputs": [
    {
     "data": {
      "image/png": "[encoded data removed]",
      "text/plain": [
       "<Figure size 640x480 with 1 Axes>"
      ]
     },
     "metadata": {},
     "output_type": "display_data"
    }
   ],
   "source": [
    "plt.figure()\n",
    "plt.scatter(y_test_Transfer, y_pred_svm_Transfer, label='Predicted Points')\n",
    "plt.plot([np.min(y_test_Transfer), np.max(y_test_Transfer)], [np.min(y_test_Transfer), np.max(y_test_Transfer)], color='blue', label='Ideal Line')\n",
    "plt.xlabel('Actual Values')\n",
    "plt.ylabel('Predicted Values')\n",
    "plt.title('(SVM Regression Transfer_Estimated) Actual vs Predicted')\n",
    "plt.legend()\n",
    "plt.show()"
   ]
  },
  {
   "cell_type": "markdown",
   "metadata": {},
   "source": [
    "# 输出报告"
   ]
  },
  {
   "cell_type": "markdown",
   "metadata": {},
   "source": [
    "### 导入库"
   ]
  },
  {
   "cell_type": "code",
   "execution_count": 66,
   "metadata": {},
   "outputs": [],
   "source": [
    "from reportlab.lib.pagesizes import letter\n",
    "from reportlab.pdfgen import canvas\n",
    "from reportlab.pdfbase.ttfonts import TTFont\n",
    "from reportlab.pdfbase import pdfmetrics"
   ]
  },
  {
   "cell_type": "markdown",
   "metadata": {},
   "source": [
    "### 函数设定"
   ]
  },
  {
   "cell_type": "code",
   "execution_count": 67,
   "metadata": {},
   "outputs": [],
   "source": [
    "import textwrap\n",
    "\n",
    "def draw_wrapped_text(c, text, height, max_line_width, line_height=15):\n",
    "    wrapped_text = textwrap.fill(text, width=max_line_width)\n",
    "    for line in wrapped_text.splitlines():\n",
    "        c.drawString(100, height, line)\n",
    "        height -= 15\n",
    "    return height\n",
    "        \n",
    "def add_model_report(c, num, h, origin, best, original_model, best_model, image_path, max_line_width=80, X=None):\n",
    "    c.setFont(\"SimHei\", 14)\n",
    "    c.drawString(100, h, f\"{num}.1 参数\")\n",
    "    h -= 25\n",
    "\n",
    "    c.setFont(\"SimHei\", 12)\n",
    "    c.drawString(100, h, \"原始模型参数: \")\n",
    "    h -= 15\n",
    "    h = draw_wrapped_text(c, f\"{original_model.get_params()}\", h, max_line_width)\n",
    "    h -= 30\n",
    "\n",
    "    c.drawString(100, h, \"调参后模型参数: \")\n",
    "    h -= 15\n",
    "    h = draw_wrapped_text(c, f\"{best_model.get_params()}\", h, max_line_width)\n",
    "    h -= 30\n",
    "\n",
    "    c.setFont(\"SimHei\", 14)\n",
    "    c.drawString(100, h, f\"{num}.2 模型评分\")\n",
    "    h -= 25\n",
    "\n",
    "    c.setFont(\"SimHei\", 12)\n",
    "    if origin.__contains__('KOL'):\n",
    "        c.drawString(100, h, f\"原始模型评分: {original_model.score(X_test, y_test_KOL)}\")\n",
    "    elif origin.__contains__('Transfer'):\n",
    "        c.drawString(100, h, f\"原始模型评分: {original_model.score(X_test, y_test_Transfer)}\")\n",
    "    else:\n",
    "        c.drawString(100, h, f\"原始模型评分: {original_model.score(X_test, y_test)}\")\n",
    "    h -= 20\n",
    "\n",
    "    if X: \n",
    "        if best.__contains__('KOL'):\n",
    "            c.drawString(100, h, f\"调参后模型评分: {best_model.score(X_test_reduced, y_test_KOL)}\")\n",
    "        elif best.__contains__('Transfer'):\n",
    "            c.drawString(100, h, f\"调参后模型评分: {best_model.score(X_test_reduced, y_test_Transfer)}\")\n",
    "        else:\n",
    "            c.drawString(100, h, f\"调参后模型评分: {best_model.score(X_test, y_test)}\")\n",
    "    else:\n",
    "        if best.__contains__('KOL'):\n",
    "            c.drawString(100, h, f\"调参后模型评分: {best_model.score(X_test, y_test_KOL)}\")\n",
    "        elif best.__contains__('Transfer'):\n",
    "            c.drawString(100, h, f\"调参后模型评分: {best_model.score(X_test, y_test_Transfer)}\")\n",
    "        else:\n",
    "            c.drawString(100, h, f\"调参后模型评分: {best_model.score(X_test, y_test)}\")\n",
    "    h -= 35\n",
    "\n",
    "    c.setFont(\"SimHei\", 14)\n",
    "    c.drawString(100, h, f\"{num}.3 模型预测结果可视化\")\n",
    "\n",
    "    h -= 290\n",
    "    c.drawImage(image_path, 100, h, width=400, height=280)\n",
    "    h -= 40\n",
    "\n",
    "    return h"
   ]
  },
  {
   "cell_type": "markdown",
   "metadata": {},
   "source": [
    "### 图片路径设定"
   ]
  },
  {
   "cell_type": "code",
   "execution_count": 72,
   "metadata": {},
   "outputs": [],
   "source": [
    "image_linear = \"./img/linear.png\"\n",
    "image_tree_KOL = \"./img/tree_KOL.png\"\n",
    "image_tree_Transfer = \"./img/tree_Transfer.png\"\n",
    "image_ridge = \"./img/ridge.png\"\n",
    "image_lasso = \"./img/lasso.png\"\n",
    "image_svm_KOL = \"./img/svm_KOL.png\"\n",
    "image_svm_Transfer = \"./img/svm_Transfer.png\"\n",
    "image_rating = \"./img/rating1.png\"\n",
    "image_er = './img/mean_error.png'\n",
    "image_1 = \"./img/account_category_distribution.png\"\n",
    "image_2 = \"./img/Transfer_Estimated_distribution.png\"\n",
    "image_3 = \"./img/KOL_Estimated_distribution.png\""
   ]
  },
  {
   "cell_type": "markdown",
   "metadata": {},
   "source": [
    "### 报告创建执行代码"
   ]
  },
  {
   "cell_type": "code",
   "execution_count": 73,
   "metadata": {},
   "outputs": [
    {
     "name": "stdout",
     "output_type": "stream",
     "text": [
      "Report generated successfully: model_report1.pdf\n"
     ]
    }
   ],
   "source": [
    "pdf_file = \"model_report1.pdf\"\n",
    "c = canvas.Canvas(pdf_file, pagesize=letter)\n",
    "width, height = letter\n",
    "\n",
    "pdfmetrics.registerFont(TTFont('SimHei', 'SimHei.ttf'))\n",
    "\n",
    "c.setFont(\"SimHei\", 20)\n",
    "c.drawString(100, height - 50, \"多模型报告1\")\n",
    "\n",
    "c.setFont('SimHei', 16)\n",
    "c.drawString(100, height - 100, \"关键信息分布可视化：\")\n",
    "\n",
    "c.setFont(\"SimHei\", 12)\n",
    "\n",
    "c.drawString(100, height - 125, \"Account Category 分布饼图:\")\n",
    "c.drawImage(image_1, 100, height - 400, width=400, height=260)\n",
    "\n",
    "c.drawString(100, height - 420, \"Transfer_Estimated 时序图:\")\n",
    "c.drawImage(image_2, 100, height - 700, width=450, height=270)\n",
    "\n",
    "c.showPage()\n",
    "height = letter[1] \n",
    "h = height - 50\n",
    "c.setFont(\"SimHei\", 12)\n",
    "c.drawString(100, h, \"KOL_Estimated 时序图:\")\n",
    "h -= 280\n",
    "c.drawImage(image_3, 100, h, width=450, height=270)\n",
    "h -= 60\n",
    "\n",
    "c.setFont(\"SimHei\", 16)\n",
    "c.drawString(100, h, \"数据处理：\")\n",
    "h -= 40\n",
    "c.setFont(\"SimHei\", 14)\n",
    "c.drawString(100, h, \"1. 缺失值处理：\")\n",
    "h -= 20\n",
    "c.setFont(\"SimHei\", 12)\n",
    "c.drawString(120, h, \"删去缺失值列 Note\")\n",
    "h -= 30\n",
    "c.setFont(\"SimHei\", 14)\n",
    "c.drawString(100, h, \"2. 数据整理：\")\n",
    "h -= 20\n",
    "c.setFont(\"SimHei\", 12)\n",
    "c.drawString(120, h, \"2.1 新建两列分别用列表储存x, Account_Corrected列的数据\")\n",
    "h -= 20\n",
    "c.drawString(120, h, \"2.2 对账户类型数据进行编码\")\n",
    "h -= 30\n",
    "c.setFont(\"SimHei\", 14)\n",
    "c.drawString(100, h, \"3. 确定特征向量与目标向量：\")\n",
    "h -= 20\n",
    "c.setFont(\"SimHei\", 12)\n",
    "c.drawString(120, h, \"3.1 特征向量：\")\n",
    "h-=20\n",
    "c.drawString(140, h, \"每个向量由46个特征组成：x(22)+Account_Corrected(22)+编码化账户类型(2)\")\n",
    "h-=20\n",
    "c.drawString(120, h, \"3.2 目标向量：\")\n",
    "h-=20\n",
    "c.drawString(140, h, \"每个向量由2个特征组成：KOL_Estimated(1)+Transfer_Estimated(1)\")\n",
    "h-=30\n",
    "c.setFont(\"SimHei\", 12)\n",
    "c.drawString(100, h, \"4. 数据集划分：\")\n",
    "h-=20\n",
    "c.drawString(120, h, \"训练集(16) + 测试集(4)\")\n",
    "\n",
    "\n",
    "\n",
    "c.showPage()\n",
    "height = letter[1] \n",
    "h = height - 50\n",
    "c.setFont(\"SimHei\", 18)\n",
    "c.drawString(100, h, \"训练模型：\")\n",
    "h -= 40\n",
    "\n",
    "\n",
    "c.setFont(\"SimHei\", 16)\n",
    "c.drawString(100, h, \"1. 线性回归模型\")\n",
    "h -= 25\n",
    "\n",
    "add_model_report(c, 1, h, 'model_linear', 'best_model_linear', model_linear, best_model_linear, image_linear)\n",
    "\n",
    "\n",
    "c.showPage()\n",
    "height = letter[1] \n",
    "h = height - 50\n",
    "c.setFont(\"SimHei\", 16)\n",
    "c.drawString(100, h, \"2. 决策树回归_KOL_Estimated模型\")\n",
    "h -= 25\n",
    "add_model_report(c, 2, h, 'model_tree_KOL', 'best_model_tree_KOL', model_tree_KOL, best_model_tree_KOL, image_tree_KOL, X = 1)\n",
    "\n",
    "\n",
    "c.showPage()\n",
    "height = letter[1] \n",
    "h = height - 50\n",
    "c.setFont(\"SimHei\", 16)\n",
    "c.drawString(100, h, \"3. 决策树回归_Transfer_Estimated模型\")\n",
    "h -= 25\n",
    "add_model_report(c, 3, h, 'model_tree_Transfer', 'best_model_tree_Transfer', model_tree_Transfer, best_model_tree_Transfer, image_tree_Transfer, X = 1)\n",
    "\n",
    "\n",
    "c.showPage()\n",
    "height = letter[1] \n",
    "h = height - 50\n",
    "c.setFont(\"SimHei\", 16)\n",
    "c.drawString(100, h, \"4. 岭回归模型\")\n",
    "h -= 25\n",
    "add_model_report(c, 4, h, 'model_ridge', 'best_model_ridge', model_ridge, best_model_ridge, image_ridge)\n",
    "\n",
    "\n",
    "c.showPage()\n",
    "height = letter[1] \n",
    "h = height - 50\n",
    "c.setFont(\"SimHei\", 16)\n",
    "c.drawString(100, h, \"5. 拉索回归模型\")\n",
    "h -= 25\n",
    "add_model_report(c, 5, h, 'model_lasso', 'best_model_lasso', model_lasso, best_model_lasso, image_lasso)\n",
    "\n",
    "\n",
    "c.showPage()\n",
    "height = letter[1] \n",
    "h = height - 50\n",
    "c.setFont(\"SimHei\", 16)\n",
    "c.drawString(100, h, \"6. SVM回归_KOL_Estimated模型\")\n",
    "h -= 25\n",
    "add_model_report(c, 6, h, 'model_svm_KOL', 'best_model_svm_KOL', model_svm_KOL, best_model_svm_KOL, image_svm_KOL)\n",
    "\n",
    "\n",
    "c.showPage()\n",
    "height = letter[1] \n",
    "h = height - 50\n",
    "c.setFont(\"SimHei\", 16)\n",
    "c.drawString(100, h, \"7. SVM回归_Transfer_Estimated模型\")\n",
    "h -= 25\n",
    "add_model_report(c, 7, h, 'model_svm_Transfer', 'best_model_svm_Transfer', model_svm_Transfer, best_model_svm_Transfer, image_svm_Transfer)\n",
    "\n",
    "c.showPage()\n",
    "height = letter[1] \n",
    "h = height - 50\n",
    "c.setFont(\"SimHei\", 18)\n",
    "c.drawString(100, h, \"平均均方误差与均方误差汇总\")\n",
    "h -= 240\n",
    "c.drawImage(image_er, 50, h, width=510, height=210)\n",
    "h -= 80\n",
    "\n",
    "c.drawString(100, h, \"模型评分汇总\")\n",
    "h-=230\n",
    "c.drawImage(image_rating, 100, h, width=414, height=200)\n",
    "h-=60\n",
    "\n",
    "c.drawString(100, h, \"模型选择结论：\")\n",
    "h-=20\n",
    "c.setFont(\"SimHei\", 14)\n",
    "c.drawString(100, h, \"决策树回归模型是最适合的模型。\")\n",
    "\n",
    "c.save()\n",
    "\n",
    "print(f\"Report generated successfully: {pdf_file}\")"
   ]
  }
 ],
 "metadata": {
  "kernelspec": {
   "display_name": "dd",
   "language": "python",
   "name": "python3"
  },
  "language_info": {
   "codemirror_mode": {
    "name": "ipython",
    "version": 3
   },
   "file_extension": ".py",
   "mimetype": "text/x-python",
   "name": "python",
   "nbconvert_exporter": "python",
   "pygments_lexer": "ipython3",
   "version": "3.8.19"
  }
 },
 "nbformat": 4,
 "nbformat_minor": 2
}
