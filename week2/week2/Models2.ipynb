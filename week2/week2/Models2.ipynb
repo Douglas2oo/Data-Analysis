{
 "cells": [
  {
   "cell_type": "markdown",
   "metadata": {},
   "source": [
    "# 导入数据"
   ]
  },
  {
   "cell_type": "code",
   "execution_count": 1,
   "metadata": {},
   "outputs": [
    {
     "data": {
      "text/html": [
       "<div>\n",
       "<style scoped>\n",
       "    .dataframe tbody tr th:only-of-type {\n",
       "        vertical-align: middle;\n",
       "    }\n",
       "\n",
       "    .dataframe tbody tr th {\n",
       "        vertical-align: top;\n",
       "    }\n",
       "\n",
       "    .dataframe thead th {\n",
       "        text-align: right;\n",
       "    }\n",
       "</style>\n",
       "<table border=\"1\" class=\"dataframe\">\n",
       "  <thead>\n",
       "    <tr style=\"text-align: right;\">\n",
       "      <th></th>\n",
       "      <th>x</th>\n",
       "      <th>Account_Corrected</th>\n",
       "      <th>KOL_Estimated</th>\n",
       "      <th>Acquisition time</th>\n",
       "      <th>Note</th>\n",
       "      <th>Transfer_Estimated</th>\n",
       "      <th>Account_Category</th>\n",
       "    </tr>\n",
       "  </thead>\n",
       "  <tbody>\n",
       "    <tr>\n",
       "      <th>0</th>\n",
       "      <td>0,189124,554546,853325,2137391,3024944,4656365...</td>\n",
       "      <td>0,0.5468192516090232,0.6632214700887411,0.7035...</td>\n",
       "      <td>0.099</td>\n",
       "      <td>2022-06-06 16:44:23</td>\n",
       "      <td>NaN</td>\n",
       "      <td>0.10</td>\n",
       "      <td>ACC1</td>\n",
       "    </tr>\n",
       "    <tr>\n",
       "      <th>1</th>\n",
       "      <td>0,188931,554039,851768,2136506,3024346,4656015...</td>\n",
       "      <td>0,0.5462612255755186,0.6626151123017676,0.7022...</td>\n",
       "      <td>0.100</td>\n",
       "      <td>2022-06-06 16:44:02</td>\n",
       "      <td>NaN</td>\n",
       "      <td>0.10</td>\n",
       "      <td>ACC1</td>\n",
       "    </tr>\n",
       "    <tr>\n",
       "      <th>2</th>\n",
       "      <td>0,211226,597503,913885,2536325,3329575,4711930...</td>\n",
       "      <td>0,0.6107233520884052,0.7145968378501208,0.7534...</td>\n",
       "      <td>0.079</td>\n",
       "      <td>2022-06-06 16:42:09</td>\n",
       "      <td>NaN</td>\n",
       "      <td>0.08</td>\n",
       "      <td>ACC1</td>\n",
       "    </tr>\n",
       "    <tr>\n",
       "      <th>3</th>\n",
       "      <td>0,211001,597052,912784,2535538,3327894,4710049...</td>\n",
       "      <td>0,0.6100728036037495,0.7140574544932666,0.7525...</td>\n",
       "      <td>0.079</td>\n",
       "      <td>2022-06-06 16:41:48</td>\n",
       "      <td>NaN</td>\n",
       "      <td>0.08</td>\n",
       "      <td>ACC1</td>\n",
       "    </tr>\n",
       "    <tr>\n",
       "      <th>4</th>\n",
       "      <td>0,236362,645322,977921,2995910,3664520,4764677...</td>\n",
       "      <td>0,0.6833997374675449,0.7717870213122204,0.8062...</td>\n",
       "      <td>0.060</td>\n",
       "      <td>2022-06-06 16:39:53</td>\n",
       "      <td>NaN</td>\n",
       "      <td>0.06</td>\n",
       "      <td>ACC1</td>\n",
       "    </tr>\n",
       "    <tr>\n",
       "      <th>5</th>\n",
       "      <td>0,236165,644704,976729,2994967,3664517,4765892...</td>\n",
       "      <td>0,0.6828301461276463,0.7710479106369746,0.8052...</td>\n",
       "      <td>0.060</td>\n",
       "      <td>2022-06-06 16:39:33</td>\n",
       "      <td>NaN</td>\n",
       "      <td>0.06</td>\n",
       "      <td>ACC1</td>\n",
       "    </tr>\n",
       "    <tr>\n",
       "      <th>6</th>\n",
       "      <td>0,266877,701724,1047614,3553258,4055496,482317...</td>\n",
       "      <td>0,0.7716285686198542,0.8392422321620782,0.8637...</td>\n",
       "      <td>0.039</td>\n",
       "      <td>2022-06-06 16:37:24</td>\n",
       "      <td>NaN</td>\n",
       "      <td>0.04</td>\n",
       "      <td>ACC1</td>\n",
       "    </tr>\n",
       "    <tr>\n",
       "      <th>7</th>\n",
       "      <td>0,266733,701070,1046157,3553995,4056467,482449...</td>\n",
       "      <td>0,0.7712122175896745,0.8384600664960413,0.8625...</td>\n",
       "      <td>0.039</td>\n",
       "      <td>2022-06-06 16:37:03</td>\n",
       "      <td>NaN</td>\n",
       "      <td>0.04</td>\n",
       "      <td>ACC1</td>\n",
       "    </tr>\n",
       "    <tr>\n",
       "      <th>8</th>\n",
       "      <td>0,303086,767582,1121372,4223540,4503913,488867...</td>\n",
       "      <td>0,0.8763206134238511,0.918006553926376,0.92453...</td>\n",
       "      <td>0.020</td>\n",
       "      <td>2022-06-06 16:35:14</td>\n",
       "      <td>NaN</td>\n",
       "      <td>0.02</td>\n",
       "      <td>ACC1</td>\n",
       "    </tr>\n",
       "    <tr>\n",
       "      <th>9</th>\n",
       "      <td>0,302572,766242,1119155,4222559,4502478,488552...</td>\n",
       "      <td>0,0.8748344715522376,0.916403951491377,0.92270...</td>\n",
       "      <td>0.020</td>\n",
       "      <td>2022-06-06 16:34:53</td>\n",
       "      <td>NaN</td>\n",
       "      <td>0.02</td>\n",
       "      <td>ACC1</td>\n",
       "    </tr>\n",
       "    <tr>\n",
       "      <th>10</th>\n",
       "      <td>0,179633,571724,767581,2859210,2114203,4104028...</td>\n",
       "      <td>0,0.5193776708629453,0.6837658765278541,0.6328...</td>\n",
       "      <td>0.100</td>\n",
       "      <td>2022-06-06 16:12:29</td>\n",
       "      <td>NaN</td>\n",
       "      <td>0.10</td>\n",
       "      <td>ACC2</td>\n",
       "    </tr>\n",
       "    <tr>\n",
       "      <th>11</th>\n",
       "      <td>0,179637,571360,766523,2855682,2114264,4104258...</td>\n",
       "      <td>0,0.5193892361693392,0.6833305427320784,0.6319...</td>\n",
       "      <td>0.099</td>\n",
       "      <td>2022-06-06 16:12:08</td>\n",
       "      <td>NaN</td>\n",
       "      <td>0.10</td>\n",
       "      <td>ACC2</td>\n",
       "    </tr>\n",
       "    <tr>\n",
       "      <th>12</th>\n",
       "      <td>0,203330,616198,842122,3209009,2517586,4243502...</td>\n",
       "      <td>0,0.5878934372668868,0.7369555337622886,0.6943...</td>\n",
       "      <td>0.079</td>\n",
       "      <td>2022-06-06 16:10:14</td>\n",
       "      <td>NaN</td>\n",
       "      <td>0.08</td>\n",
       "      <td>ACC2</td>\n",
       "    </tr>\n",
       "    <tr>\n",
       "      <th>13</th>\n",
       "      <td>0,203337,615993,840898,3207915,2517104,4242703...</td>\n",
       "      <td>0,0.5879136765530761,0.7367103595091731,0.6932...</td>\n",
       "      <td>0.079</td>\n",
       "      <td>2022-06-06 16:09:53</td>\n",
       "      <td>NaN</td>\n",
       "      <td>0.08</td>\n",
       "      <td>ACC2</td>\n",
       "    </tr>\n",
       "    <tr>\n",
       "      <th>14</th>\n",
       "      <td>0,231034,666236,919984,3593401,2989239,4391702...</td>\n",
       "      <td>0,0.6679947493508972,0.7967995790178678,0.7584...</td>\n",
       "      <td>0.060</td>\n",
       "      <td>2022-06-06 16:07:57</td>\n",
       "      <td>NaN</td>\n",
       "      <td>0.06</td>\n",
       "      <td>ACC2</td>\n",
       "    </tr>\n",
       "    <tr>\n",
       "      <th>15</th>\n",
       "      <td>0,230669,665490,918797,3592483,2989023,4392051...</td>\n",
       "      <td>0,0.6669394151424557,0.7959073839309206,0.7575...</td>\n",
       "      <td>0.060</td>\n",
       "      <td>2022-06-06 16:07:36</td>\n",
       "      <td>NaN</td>\n",
       "      <td>0.06</td>\n",
       "      <td>ACC2</td>\n",
       "    </tr>\n",
       "    <tr>\n",
       "      <th>16</th>\n",
       "      <td>0,263538,720869,1005390,4020530,3554773,455992...</td>\n",
       "      <td>0,0.7619744291075631,0.8621391154591337,0.8289...</td>\n",
       "      <td>0.040</td>\n",
       "      <td>2022-06-06 16:05:40</td>\n",
       "      <td>NaN</td>\n",
       "      <td>0.04</td>\n",
       "      <td>ACC2</td>\n",
       "    </tr>\n",
       "    <tr>\n",
       "      <th>17</th>\n",
       "      <td>0,263349,720304,1003617,4019089,3555644,456109...</td>\n",
       "      <td>0,0.7614279683804523,0.861463391298108,0.82745...</td>\n",
       "      <td>0.039</td>\n",
       "      <td>2022-06-06 16:05:19</td>\n",
       "      <td>NaN</td>\n",
       "      <td>0.04</td>\n",
       "      <td>ACC2</td>\n",
       "    </tr>\n",
       "    <tr>\n",
       "      <th>18</th>\n",
       "      <td>0,303119,783455,1098581,4514517,4243681,476016...</td>\n",
       "      <td>0,0.8764160272016006,0.9369902169493147,0.9057...</td>\n",
       "      <td>0.020</td>\n",
       "      <td>2022-06-06 16:02:57</td>\n",
       "      <td>NaN</td>\n",
       "      <td>0.02</td>\n",
       "      <td>ACC2</td>\n",
       "    </tr>\n",
       "    <tr>\n",
       "      <th>19</th>\n",
       "      <td>0,303208,783387,1096898,4517748,4247854,476219...</td>\n",
       "      <td>0,0.8766733552688645,0.9369088908555984,0.9043...</td>\n",
       "      <td>0.019</td>\n",
       "      <td>2022-06-06 16:02:32</td>\n",
       "      <td>NaN</td>\n",
       "      <td>0.02</td>\n",
       "      <td>ACC2</td>\n",
       "    </tr>\n",
       "  </tbody>\n",
       "</table>\n",
       "</div>"
      ],
      "text/plain": [
       "                                                    x  \\\n",
       "0   0,189124,554546,853325,2137391,3024944,4656365...   \n",
       "1   0,188931,554039,851768,2136506,3024346,4656015...   \n",
       "2   0,211226,597503,913885,2536325,3329575,4711930...   \n",
       "3   0,211001,597052,912784,2535538,3327894,4710049...   \n",
       "4   0,236362,645322,977921,2995910,3664520,4764677...   \n",
       "5   0,236165,644704,976729,2994967,3664517,4765892...   \n",
       "6   0,266877,701724,1047614,3553258,4055496,482317...   \n",
       "7   0,266733,701070,1046157,3553995,4056467,482449...   \n",
       "8   0,303086,767582,1121372,4223540,4503913,488867...   \n",
       "9   0,302572,766242,1119155,4222559,4502478,488552...   \n",
       "10  0,179633,571724,767581,2859210,2114203,4104028...   \n",
       "11  0,179637,571360,766523,2855682,2114264,4104258...   \n",
       "12  0,203330,616198,842122,3209009,2517586,4243502...   \n",
       "13  0,203337,615993,840898,3207915,2517104,4242703...   \n",
       "14  0,231034,666236,919984,3593401,2989239,4391702...   \n",
       "15  0,230669,665490,918797,3592483,2989023,4392051...   \n",
       "16  0,263538,720869,1005390,4020530,3554773,455992...   \n",
       "17  0,263349,720304,1003617,4019089,3555644,456109...   \n",
       "18  0,303119,783455,1098581,4514517,4243681,476016...   \n",
       "19  0,303208,783387,1096898,4517748,4247854,476219...   \n",
       "\n",
       "                                    Account_Corrected  KOL_Estimated  \\\n",
       "0   0,0.5468192516090232,0.6632214700887411,0.7035...          0.099   \n",
       "1   0,0.5462612255755186,0.6626151123017676,0.7022...          0.100   \n",
       "2   0,0.6107233520884052,0.7145968378501208,0.7534...          0.079   \n",
       "3   0,0.6100728036037495,0.7140574544932666,0.7525...          0.079   \n",
       "4   0,0.6833997374675449,0.7717870213122204,0.8062...          0.060   \n",
       "5   0,0.6828301461276463,0.7710479106369746,0.8052...          0.060   \n",
       "6   0,0.7716285686198542,0.8392422321620782,0.8637...          0.039   \n",
       "7   0,0.7712122175896745,0.8384600664960413,0.8625...          0.039   \n",
       "8   0,0.8763206134238511,0.918006553926376,0.92453...          0.020   \n",
       "9   0,0.8748344715522376,0.916403951491377,0.92270...          0.020   \n",
       "10  0,0.5193776708629453,0.6837658765278541,0.6328...          0.100   \n",
       "11  0,0.5193892361693392,0.6833305427320784,0.6319...          0.099   \n",
       "12  0,0.5878934372668868,0.7369555337622886,0.6943...          0.079   \n",
       "13  0,0.5879136765530761,0.7367103595091731,0.6932...          0.079   \n",
       "14  0,0.6679947493508972,0.7967995790178678,0.7584...          0.060   \n",
       "15  0,0.6669394151424557,0.7959073839309206,0.7575...          0.060   \n",
       "16  0,0.7619744291075631,0.8621391154591337,0.8289...          0.040   \n",
       "17  0,0.7614279683804523,0.861463391298108,0.82745...          0.039   \n",
       "18  0,0.8764160272016006,0.9369902169493147,0.9057...          0.020   \n",
       "19  0,0.8766733552688645,0.9369088908555984,0.9043...          0.019   \n",
       "\n",
       "       Acquisition time  Note  Transfer_Estimated Account_Category  \n",
       "0   2022-06-06 16:44:23   NaN                0.10             ACC1  \n",
       "1   2022-06-06 16:44:02   NaN                0.10             ACC1  \n",
       "2   2022-06-06 16:42:09   NaN                0.08             ACC1  \n",
       "3   2022-06-06 16:41:48   NaN                0.08             ACC1  \n",
       "4   2022-06-06 16:39:53   NaN                0.06             ACC1  \n",
       "5   2022-06-06 16:39:33   NaN                0.06             ACC1  \n",
       "6   2022-06-06 16:37:24   NaN                0.04             ACC1  \n",
       "7   2022-06-06 16:37:03   NaN                0.04             ACC1  \n",
       "8   2022-06-06 16:35:14   NaN                0.02             ACC1  \n",
       "9   2022-06-06 16:34:53   NaN                0.02             ACC1  \n",
       "10  2022-06-06 16:12:29   NaN                0.10             ACC2  \n",
       "11  2022-06-06 16:12:08   NaN                0.10             ACC2  \n",
       "12  2022-06-06 16:10:14   NaN                0.08             ACC2  \n",
       "13  2022-06-06 16:09:53   NaN                0.08             ACC2  \n",
       "14  2022-06-06 16:07:57   NaN                0.06             ACC2  \n",
       "15  2022-06-06 16:07:36   NaN                0.06             ACC2  \n",
       "16  2022-06-06 16:05:40   NaN                0.04             ACC2  \n",
       "17  2022-06-06 16:05:19   NaN                0.04             ACC2  \n",
       "18  2022-06-06 16:02:57   NaN                0.02             ACC2  \n",
       "19  2022-06-06 16:02:32   NaN                0.02             ACC2  "
      ]
     },
     "execution_count": 1,
     "metadata": {},
     "output_type": "execute_result"
    }
   ],
   "source": [
    "import pandas as pd\n",
    "\n",
    "data = pd.read_excel('./任务/Account_Level_Analysis.xlsx')\n",
    "\n",
    "data"
   ]
  },
  {
   "cell_type": "markdown",
   "metadata": {},
   "source": [
    "# 数据清洗，删除缺失值所在列"
   ]
  },
  {
   "cell_type": "code",
   "execution_count": 2,
   "metadata": {},
   "outputs": [
    {
     "data": {
      "text/html": [
       "<div>\n",
       "<style scoped>\n",
       "    .dataframe tbody tr th:only-of-type {\n",
       "        vertical-align: middle;\n",
       "    }\n",
       "\n",
       "    .dataframe tbody tr th {\n",
       "        vertical-align: top;\n",
       "    }\n",
       "\n",
       "    .dataframe thead th {\n",
       "        text-align: right;\n",
       "    }\n",
       "</style>\n",
       "<table border=\"1\" class=\"dataframe\">\n",
       "  <thead>\n",
       "    <tr style=\"text-align: right;\">\n",
       "      <th></th>\n",
       "      <th>x</th>\n",
       "      <th>Account_Corrected</th>\n",
       "      <th>KOL_Estimated</th>\n",
       "      <th>Acquisition time</th>\n",
       "      <th>Transfer_Estimated</th>\n",
       "      <th>Account_Category</th>\n",
       "    </tr>\n",
       "  </thead>\n",
       "  <tbody>\n",
       "    <tr>\n",
       "      <th>0</th>\n",
       "      <td>0,189124,554546,853325,2137391,3024944,4656365...</td>\n",
       "      <td>0,0.5468192516090232,0.6632214700887411,0.7035...</td>\n",
       "      <td>0.099</td>\n",
       "      <td>2022-06-06 16:44:23</td>\n",
       "      <td>0.10</td>\n",
       "      <td>ACC1</td>\n",
       "    </tr>\n",
       "    <tr>\n",
       "      <th>1</th>\n",
       "      <td>0,188931,554039,851768,2136506,3024346,4656015...</td>\n",
       "      <td>0,0.5462612255755186,0.6626151123017676,0.7022...</td>\n",
       "      <td>0.100</td>\n",
       "      <td>2022-06-06 16:44:02</td>\n",
       "      <td>0.10</td>\n",
       "      <td>ACC1</td>\n",
       "    </tr>\n",
       "    <tr>\n",
       "      <th>2</th>\n",
       "      <td>0,211226,597503,913885,2536325,3329575,4711930...</td>\n",
       "      <td>0,0.6107233520884052,0.7145968378501208,0.7534...</td>\n",
       "      <td>0.079</td>\n",
       "      <td>2022-06-06 16:42:09</td>\n",
       "      <td>0.08</td>\n",
       "      <td>ACC1</td>\n",
       "    </tr>\n",
       "    <tr>\n",
       "      <th>3</th>\n",
       "      <td>0,211001,597052,912784,2535538,3327894,4710049...</td>\n",
       "      <td>0,0.6100728036037495,0.7140574544932666,0.7525...</td>\n",
       "      <td>0.079</td>\n",
       "      <td>2022-06-06 16:41:48</td>\n",
       "      <td>0.08</td>\n",
       "      <td>ACC1</td>\n",
       "    </tr>\n",
       "    <tr>\n",
       "      <th>4</th>\n",
       "      <td>0,236362,645322,977921,2995910,3664520,4764677...</td>\n",
       "      <td>0,0.6833997374675449,0.7717870213122204,0.8062...</td>\n",
       "      <td>0.060</td>\n",
       "      <td>2022-06-06 16:39:53</td>\n",
       "      <td>0.06</td>\n",
       "      <td>ACC1</td>\n",
       "    </tr>\n",
       "    <tr>\n",
       "      <th>5</th>\n",
       "      <td>0,236165,644704,976729,2994967,3664517,4765892...</td>\n",
       "      <td>0,0.6828301461276463,0.7710479106369746,0.8052...</td>\n",
       "      <td>0.060</td>\n",
       "      <td>2022-06-06 16:39:33</td>\n",
       "      <td>0.06</td>\n",
       "      <td>ACC1</td>\n",
       "    </tr>\n",
       "    <tr>\n",
       "      <th>6</th>\n",
       "      <td>0,266877,701724,1047614,3553258,4055496,482317...</td>\n",
       "      <td>0,0.7716285686198542,0.8392422321620782,0.8637...</td>\n",
       "      <td>0.039</td>\n",
       "      <td>2022-06-06 16:37:24</td>\n",
       "      <td>0.04</td>\n",
       "      <td>ACC1</td>\n",
       "    </tr>\n",
       "    <tr>\n",
       "      <th>7</th>\n",
       "      <td>0,266733,701070,1046157,3553995,4056467,482449...</td>\n",
       "      <td>0,0.7712122175896745,0.8384600664960413,0.8625...</td>\n",
       "      <td>0.039</td>\n",
       "      <td>2022-06-06 16:37:03</td>\n",
       "      <td>0.04</td>\n",
       "      <td>ACC1</td>\n",
       "    </tr>\n",
       "    <tr>\n",
       "      <th>8</th>\n",
       "      <td>0,303086,767582,1121372,4223540,4503913,488867...</td>\n",
       "      <td>0,0.8763206134238511,0.918006553926376,0.92453...</td>\n",
       "      <td>0.020</td>\n",
       "      <td>2022-06-06 16:35:14</td>\n",
       "      <td>0.02</td>\n",
       "      <td>ACC1</td>\n",
       "    </tr>\n",
       "    <tr>\n",
       "      <th>9</th>\n",
       "      <td>0,302572,766242,1119155,4222559,4502478,488552...</td>\n",
       "      <td>0,0.8748344715522376,0.916403951491377,0.92270...</td>\n",
       "      <td>0.020</td>\n",
       "      <td>2022-06-06 16:34:53</td>\n",
       "      <td>0.02</td>\n",
       "      <td>ACC1</td>\n",
       "    </tr>\n",
       "    <tr>\n",
       "      <th>10</th>\n",
       "      <td>0,179633,571724,767581,2859210,2114203,4104028...</td>\n",
       "      <td>0,0.5193776708629453,0.6837658765278541,0.6328...</td>\n",
       "      <td>0.100</td>\n",
       "      <td>2022-06-06 16:12:29</td>\n",
       "      <td>0.10</td>\n",
       "      <td>ACC2</td>\n",
       "    </tr>\n",
       "    <tr>\n",
       "      <th>11</th>\n",
       "      <td>0,179637,571360,766523,2855682,2114264,4104258...</td>\n",
       "      <td>0,0.5193892361693392,0.6833305427320784,0.6319...</td>\n",
       "      <td>0.099</td>\n",
       "      <td>2022-06-06 16:12:08</td>\n",
       "      <td>0.10</td>\n",
       "      <td>ACC2</td>\n",
       "    </tr>\n",
       "    <tr>\n",
       "      <th>12</th>\n",
       "      <td>0,203330,616198,842122,3209009,2517586,4243502...</td>\n",
       "      <td>0,0.5878934372668868,0.7369555337622886,0.6943...</td>\n",
       "      <td>0.079</td>\n",
       "      <td>2022-06-06 16:10:14</td>\n",
       "      <td>0.08</td>\n",
       "      <td>ACC2</td>\n",
       "    </tr>\n",
       "    <tr>\n",
       "      <th>13</th>\n",
       "      <td>0,203337,615993,840898,3207915,2517104,4242703...</td>\n",
       "      <td>0,0.5879136765530761,0.7367103595091731,0.6932...</td>\n",
       "      <td>0.079</td>\n",
       "      <td>2022-06-06 16:09:53</td>\n",
       "      <td>0.08</td>\n",
       "      <td>ACC2</td>\n",
       "    </tr>\n",
       "    <tr>\n",
       "      <th>14</th>\n",
       "      <td>0,231034,666236,919984,3593401,2989239,4391702...</td>\n",
       "      <td>0,0.6679947493508972,0.7967995790178678,0.7584...</td>\n",
       "      <td>0.060</td>\n",
       "      <td>2022-06-06 16:07:57</td>\n",
       "      <td>0.06</td>\n",
       "      <td>ACC2</td>\n",
       "    </tr>\n",
       "    <tr>\n",
       "      <th>15</th>\n",
       "      <td>0,230669,665490,918797,3592483,2989023,4392051...</td>\n",
       "      <td>0,0.6669394151424557,0.7959073839309206,0.7575...</td>\n",
       "      <td>0.060</td>\n",
       "      <td>2022-06-06 16:07:36</td>\n",
       "      <td>0.06</td>\n",
       "      <td>ACC2</td>\n",
       "    </tr>\n",
       "    <tr>\n",
       "      <th>16</th>\n",
       "      <td>0,263538,720869,1005390,4020530,3554773,455992...</td>\n",
       "      <td>0,0.7619744291075631,0.8621391154591337,0.8289...</td>\n",
       "      <td>0.040</td>\n",
       "      <td>2022-06-06 16:05:40</td>\n",
       "      <td>0.04</td>\n",
       "      <td>ACC2</td>\n",
       "    </tr>\n",
       "    <tr>\n",
       "      <th>17</th>\n",
       "      <td>0,263349,720304,1003617,4019089,3555644,456109...</td>\n",
       "      <td>0,0.7614279683804523,0.861463391298108,0.82745...</td>\n",
       "      <td>0.039</td>\n",
       "      <td>2022-06-06 16:05:19</td>\n",
       "      <td>0.04</td>\n",
       "      <td>ACC2</td>\n",
       "    </tr>\n",
       "    <tr>\n",
       "      <th>18</th>\n",
       "      <td>0,303119,783455,1098581,4514517,4243681,476016...</td>\n",
       "      <td>0,0.8764160272016006,0.9369902169493147,0.9057...</td>\n",
       "      <td>0.020</td>\n",
       "      <td>2022-06-06 16:02:57</td>\n",
       "      <td>0.02</td>\n",
       "      <td>ACC2</td>\n",
       "    </tr>\n",
       "    <tr>\n",
       "      <th>19</th>\n",
       "      <td>0,303208,783387,1096898,4517748,4247854,476219...</td>\n",
       "      <td>0,0.8766733552688645,0.9369088908555984,0.9043...</td>\n",
       "      <td>0.019</td>\n",
       "      <td>2022-06-06 16:02:32</td>\n",
       "      <td>0.02</td>\n",
       "      <td>ACC2</td>\n",
       "    </tr>\n",
       "  </tbody>\n",
       "</table>\n",
       "</div>"
      ],
      "text/plain": [
       "                                                    x  \\\n",
       "0   0,189124,554546,853325,2137391,3024944,4656365...   \n",
       "1   0,188931,554039,851768,2136506,3024346,4656015...   \n",
       "2   0,211226,597503,913885,2536325,3329575,4711930...   \n",
       "3   0,211001,597052,912784,2535538,3327894,4710049...   \n",
       "4   0,236362,645322,977921,2995910,3664520,4764677...   \n",
       "5   0,236165,644704,976729,2994967,3664517,4765892...   \n",
       "6   0,266877,701724,1047614,3553258,4055496,482317...   \n",
       "7   0,266733,701070,1046157,3553995,4056467,482449...   \n",
       "8   0,303086,767582,1121372,4223540,4503913,488867...   \n",
       "9   0,302572,766242,1119155,4222559,4502478,488552...   \n",
       "10  0,179633,571724,767581,2859210,2114203,4104028...   \n",
       "11  0,179637,571360,766523,2855682,2114264,4104258...   \n",
       "12  0,203330,616198,842122,3209009,2517586,4243502...   \n",
       "13  0,203337,615993,840898,3207915,2517104,4242703...   \n",
       "14  0,231034,666236,919984,3593401,2989239,4391702...   \n",
       "15  0,230669,665490,918797,3592483,2989023,4392051...   \n",
       "16  0,263538,720869,1005390,4020530,3554773,455992...   \n",
       "17  0,263349,720304,1003617,4019089,3555644,456109...   \n",
       "18  0,303119,783455,1098581,4514517,4243681,476016...   \n",
       "19  0,303208,783387,1096898,4517748,4247854,476219...   \n",
       "\n",
       "                                    Account_Corrected  KOL_Estimated  \\\n",
       "0   0,0.5468192516090232,0.6632214700887411,0.7035...          0.099   \n",
       "1   0,0.5462612255755186,0.6626151123017676,0.7022...          0.100   \n",
       "2   0,0.6107233520884052,0.7145968378501208,0.7534...          0.079   \n",
       "3   0,0.6100728036037495,0.7140574544932666,0.7525...          0.079   \n",
       "4   0,0.6833997374675449,0.7717870213122204,0.8062...          0.060   \n",
       "5   0,0.6828301461276463,0.7710479106369746,0.8052...          0.060   \n",
       "6   0,0.7716285686198542,0.8392422321620782,0.8637...          0.039   \n",
       "7   0,0.7712122175896745,0.8384600664960413,0.8625...          0.039   \n",
       "8   0,0.8763206134238511,0.918006553926376,0.92453...          0.020   \n",
       "9   0,0.8748344715522376,0.916403951491377,0.92270...          0.020   \n",
       "10  0,0.5193776708629453,0.6837658765278541,0.6328...          0.100   \n",
       "11  0,0.5193892361693392,0.6833305427320784,0.6319...          0.099   \n",
       "12  0,0.5878934372668868,0.7369555337622886,0.6943...          0.079   \n",
       "13  0,0.5879136765530761,0.7367103595091731,0.6932...          0.079   \n",
       "14  0,0.6679947493508972,0.7967995790178678,0.7584...          0.060   \n",
       "15  0,0.6669394151424557,0.7959073839309206,0.7575...          0.060   \n",
       "16  0,0.7619744291075631,0.8621391154591337,0.8289...          0.040   \n",
       "17  0,0.7614279683804523,0.861463391298108,0.82745...          0.039   \n",
       "18  0,0.8764160272016006,0.9369902169493147,0.9057...          0.020   \n",
       "19  0,0.8766733552688645,0.9369088908555984,0.9043...          0.019   \n",
       "\n",
       "       Acquisition time  Transfer_Estimated Account_Category  \n",
       "0   2022-06-06 16:44:23                0.10             ACC1  \n",
       "1   2022-06-06 16:44:02                0.10             ACC1  \n",
       "2   2022-06-06 16:42:09                0.08             ACC1  \n",
       "3   2022-06-06 16:41:48                0.08             ACC1  \n",
       "4   2022-06-06 16:39:53                0.06             ACC1  \n",
       "5   2022-06-06 16:39:33                0.06             ACC1  \n",
       "6   2022-06-06 16:37:24                0.04             ACC1  \n",
       "7   2022-06-06 16:37:03                0.04             ACC1  \n",
       "8   2022-06-06 16:35:14                0.02             ACC1  \n",
       "9   2022-06-06 16:34:53                0.02             ACC1  \n",
       "10  2022-06-06 16:12:29                0.10             ACC2  \n",
       "11  2022-06-06 16:12:08                0.10             ACC2  \n",
       "12  2022-06-06 16:10:14                0.08             ACC2  \n",
       "13  2022-06-06 16:09:53                0.08             ACC2  \n",
       "14  2022-06-06 16:07:57                0.06             ACC2  \n",
       "15  2022-06-06 16:07:36                0.06             ACC2  \n",
       "16  2022-06-06 16:05:40                0.04             ACC2  \n",
       "17  2022-06-06 16:05:19                0.04             ACC2  \n",
       "18  2022-06-06 16:02:57                0.02             ACC2  \n",
       "19  2022-06-06 16:02:32                0.02             ACC2  "
      ]
     },
     "execution_count": 2,
     "metadata": {},
     "output_type": "execute_result"
    }
   ],
   "source": [
    "data.dropna(axis=1, how='all', inplace=True)\n",
    "\n",
    "data"
   ]
  },
  {
   "cell_type": "markdown",
   "metadata": {},
   "source": [
    "# 新建两列分别用列表储存x, Account_Corrected列的数据，对账户类型数据进行编码"
   ]
  },
  {
   "cell_type": "code",
   "execution_count": 3,
   "metadata": {},
   "outputs": [
    {
     "data": {
      "text/html": [
       "<div>\n",
       "<style scoped>\n",
       "    .dataframe tbody tr th:only-of-type {\n",
       "        vertical-align: middle;\n",
       "    }\n",
       "\n",
       "    .dataframe tbody tr th {\n",
       "        vertical-align: top;\n",
       "    }\n",
       "\n",
       "    .dataframe thead th {\n",
       "        text-align: right;\n",
       "    }\n",
       "</style>\n",
       "<table border=\"1\" class=\"dataframe\">\n",
       "  <thead>\n",
       "    <tr style=\"text-align: right;\">\n",
       "      <th></th>\n",
       "      <th>x_values</th>\n",
       "      <th>Account_Corrected_values</th>\n",
       "    </tr>\n",
       "  </thead>\n",
       "  <tbody>\n",
       "    <tr>\n",
       "      <th>0</th>\n",
       "      <td>[0.0, 189124.0, 554546.0, 853325.0, 2137391.0,...</td>\n",
       "      <td>[0.0, 0.5468192516090232, 0.6632214700887411, ...</td>\n",
       "    </tr>\n",
       "    <tr>\n",
       "      <th>1</th>\n",
       "      <td>[0.0, 188931.0, 554039.0, 851768.0, 2136506.0,...</td>\n",
       "      <td>[0.0, 0.5462612255755186, 0.6626151123017676, ...</td>\n",
       "    </tr>\n",
       "    <tr>\n",
       "      <th>2</th>\n",
       "      <td>[0.0, 211226.0, 597503.0, 913885.0, 2536325.0,...</td>\n",
       "      <td>[0.0, 0.6107233520884052, 0.7145968378501208, ...</td>\n",
       "    </tr>\n",
       "    <tr>\n",
       "      <th>3</th>\n",
       "      <td>[0.0, 211001.0, 597052.0, 912784.0, 2535538.0,...</td>\n",
       "      <td>[0.0, 0.6100728036037495, 0.7140574544932666, ...</td>\n",
       "    </tr>\n",
       "    <tr>\n",
       "      <th>4</th>\n",
       "      <td>[0.0, 236362.0, 645322.0, 977921.0, 2995910.0,...</td>\n",
       "      <td>[0.0, 0.6833997374675449, 0.7717870213122204, ...</td>\n",
       "    </tr>\n",
       "  </tbody>\n",
       "</table>\n",
       "</div>"
      ],
      "text/plain": [
       "                                            x_values  \\\n",
       "0  [0.0, 189124.0, 554546.0, 853325.0, 2137391.0,...   \n",
       "1  [0.0, 188931.0, 554039.0, 851768.0, 2136506.0,...   \n",
       "2  [0.0, 211226.0, 597503.0, 913885.0, 2536325.0,...   \n",
       "3  [0.0, 211001.0, 597052.0, 912784.0, 2535538.0,...   \n",
       "4  [0.0, 236362.0, 645322.0, 977921.0, 2995910.0,...   \n",
       "\n",
       "                            Account_Corrected_values  \n",
       "0  [0.0, 0.5468192516090232, 0.6632214700887411, ...  \n",
       "1  [0.0, 0.5462612255755186, 0.6626151123017676, ...  \n",
       "2  [0.0, 0.6107233520884052, 0.7145968378501208, ...  \n",
       "3  [0.0, 0.6100728036037495, 0.7140574544932666, ...  \n",
       "4  [0.0, 0.6833997374675449, 0.7717870213122204, ...  "
      ]
     },
     "execution_count": 3,
     "metadata": {},
     "output_type": "execute_result"
    }
   ],
   "source": [
    "import numpy as np\n",
    "\n",
    "def parse_data(column):\n",
    "    return column.apply(lambda x: np.array(x.split(','), dtype='float'))\n",
    "\n",
    "data['x_values'] = parse_data(data['x'])\n",
    "data['Account_Corrected_values'] = parse_data(data['Account_Corrected'])\n",
    "\n",
    "account_category_encoded = pd.get_dummies(data['Account_Category'], prefix='Account_Category')\n",
    "\n",
    "data[['x_values', 'Account_Corrected_values']].head()"
   ]
  },
  {
   "cell_type": "markdown",
   "metadata": {},
   "source": [
    "# 划分数据集"
   ]
  },
  {
   "cell_type": "code",
   "execution_count": 4,
   "metadata": {},
   "outputs": [
    {
     "name": "stdout",
     "output_type": "stream",
     "text": [
      "Training set size: (16, 46)\n",
      "Test set size: (4, 46)\n"
     ]
    }
   ],
   "source": [
    "from sklearn.model_selection import train_test_split\n",
    "\n",
    "X_values = np.array(data['x_values'].tolist())\n",
    "\n",
    "Account_Corrected_values = np.array(data['Account_Corrected_values'].tolist())\n",
    "\n",
    "features = np.concatenate([Account_Corrected_values, X_values, account_category_encoded.values], axis=1)\n",
    "target = data[['KOL_Estimated', 'Transfer_Estimated']].values\n",
    "\n",
    "X_train, X_test, y_train, y_test = train_test_split(features, target, test_size=0.2, random_state=42)\n",
    "\n",
    "print(f\"Training set size: {X_train.shape}\")\n",
    "print(f\"Test set size: {X_test.shape}\")"
   ]
  },
  {
   "cell_type": "markdown",
   "metadata": {},
   "source": [
    "# KNN回归"
   ]
  },
  {
   "cell_type": "markdown",
   "metadata": {},
   "source": [
    "### 创建并训练模型"
   ]
  },
  {
   "cell_type": "code",
   "execution_count": 5,
   "metadata": {},
   "outputs": [
    {
     "data": {
      "text/html": [
       "<style>#sk-container-id-1 {color: black;background-color: white;}#sk-container-id-1 pre{padding: 0;}#sk-container-id-1 div.sk-toggleable {background-color: white;}#sk-container-id-1 label.sk-toggleable__label {cursor: pointer;display: block;width: 100%;margin-bottom: 0;padding: 0.3em;box-sizing: border-box;text-align: center;}#sk-container-id-1 label.sk-toggleable__label-arrow:before {content: \"▸\";float: left;margin-right: 0.25em;color: #696969;}#sk-container-id-1 label.sk-toggleable__label-arrow:hover:before {color: black;}#sk-container-id-1 div.sk-estimator:hover label.sk-toggleable__label-arrow:before {color: black;}#sk-container-id-1 div.sk-toggleable__content {max-height: 0;max-width: 0;overflow: hidden;text-align: left;background-color: #f0f8ff;}#sk-container-id-1 div.sk-toggleable__content pre {margin: 0.2em;color: black;border-radius: 0.25em;background-color: #f0f8ff;}#sk-container-id-1 input.sk-toggleable__control:checked~div.sk-toggleable__content {max-height: 200px;max-width: 100%;overflow: auto;}#sk-container-id-1 input.sk-toggleable__control:checked~label.sk-toggleable__label-arrow:before {content: \"▾\";}#sk-container-id-1 div.sk-estimator input.sk-toggleable__control:checked~label.sk-toggleable__label {background-color: #d4ebff;}#sk-container-id-1 div.sk-label input.sk-toggleable__control:checked~label.sk-toggleable__label {background-color: #d4ebff;}#sk-container-id-1 input.sk-hidden--visually {border: 0;clip: rect(1px 1px 1px 1px);clip: rect(1px, 1px, 1px, 1px);height: 1px;margin: -1px;overflow: hidden;padding: 0;position: absolute;width: 1px;}#sk-container-id-1 div.sk-estimator {font-family: monospace;background-color: #f0f8ff;border: 1px dotted black;border-radius: 0.25em;box-sizing: border-box;margin-bottom: 0.5em;}#sk-container-id-1 div.sk-estimator:hover {background-color: #d4ebff;}#sk-container-id-1 div.sk-parallel-item::after {content: \"\";width: 100%;border-bottom: 1px solid gray;flex-grow: 1;}#sk-container-id-1 div.sk-label:hover label.sk-toggleable__label {background-color: #d4ebff;}#sk-container-id-1 div.sk-serial::before {content: \"\";position: absolute;border-left: 1px solid gray;box-sizing: border-box;top: 0;bottom: 0;left: 50%;z-index: 0;}#sk-container-id-1 div.sk-serial {display: flex;flex-direction: column;align-items: center;background-color: white;padding-right: 0.2em;padding-left: 0.2em;position: relative;}#sk-container-id-1 div.sk-item {position: relative;z-index: 1;}#sk-container-id-1 div.sk-parallel {display: flex;align-items: stretch;justify-content: center;background-color: white;position: relative;}#sk-container-id-1 div.sk-item::before, #sk-container-id-1 div.sk-parallel-item::before {content: \"\";position: absolute;border-left: 1px solid gray;box-sizing: border-box;top: 0;bottom: 0;left: 50%;z-index: -1;}#sk-container-id-1 div.sk-parallel-item {display: flex;flex-direction: column;z-index: 1;position: relative;background-color: white;}#sk-container-id-1 div.sk-parallel-item:first-child::after {align-self: flex-end;width: 50%;}#sk-container-id-1 div.sk-parallel-item:last-child::after {align-self: flex-start;width: 50%;}#sk-container-id-1 div.sk-parallel-item:only-child::after {width: 0;}#sk-container-id-1 div.sk-dashed-wrapped {border: 1px dashed gray;margin: 0 0.4em 0.5em 0.4em;box-sizing: border-box;padding-bottom: 0.4em;background-color: white;}#sk-container-id-1 div.sk-label label {font-family: monospace;font-weight: bold;display: inline-block;line-height: 1.2em;}#sk-container-id-1 div.sk-label-container {text-align: center;}#sk-container-id-1 div.sk-container {/* jupyter's `normalize.less` sets `[hidden] { display: none; }` but bootstrap.min.css set `[hidden] { display: none !important; }` so we also need the `!important` here to be able to override the default hidden behavior on the sphinx rendered scikit-learn.org. See: https://github.com/scikit-learn/scikit-learn/issues/21755 */display: inline-block !important;position: relative;}#sk-container-id-1 div.sk-text-repr-fallback {display: none;}</style><div id=\"sk-container-id-1\" class=\"sk-top-container\"><div class=\"sk-text-repr-fallback\"><pre>KNeighborsRegressor()</pre><b>In a Jupyter environment, please rerun this cell to show the HTML representation or trust the notebook. <br />On GitHub, the HTML representation is unable to render, please try loading this page with nbviewer.org.</b></div><div class=\"sk-container\" hidden><div class=\"sk-item\"><div class=\"sk-estimator sk-toggleable\"><input class=\"sk-toggleable__control sk-hidden--visually\" id=\"sk-estimator-id-1\" type=\"checkbox\" checked><label for=\"sk-estimator-id-1\" class=\"sk-toggleable__label sk-toggleable__label-arrow\">KNeighborsRegressor</label><div class=\"sk-toggleable__content\"><pre>KNeighborsRegressor()</pre></div></div></div></div></div>"
      ],
      "text/plain": [
       "KNeighborsRegressor()"
      ]
     },
     "execution_count": 5,
     "metadata": {},
     "output_type": "execute_result"
    }
   ],
   "source": [
    "from sklearn.neighbors import KNeighborsRegressor\n",
    "from sklearn.model_selection import train_test_split\n",
    "\n",
    "model_knn = KNeighborsRegressor(n_neighbors=5)\n",
    "\n",
    "model_knn.fit(X_train, y_train)"
   ]
  },
  {
   "cell_type": "markdown",
   "metadata": {},
   "source": [
    "### 模型评估"
   ]
  },
  {
   "cell_type": "code",
   "execution_count": 6,
   "metadata": {},
   "outputs": [
    {
     "name": "stdout",
     "output_type": "stream",
     "text": [
      "Average Mean Squared Error: 0.00020108200000000008\n"
     ]
    }
   ],
   "source": [
    "from sklearn.model_selection import cross_validate\n",
    "\n",
    "result_knn = cross_validate(model_knn, features, target, cv=5, scoring='neg_mean_squared_error')\n",
    "mse_scores_knn = -result_knn['test_score']\n",
    "print(\"Average Mean Squared Error:\", mse_scores_knn.mean())"
   ]
  },
  {
   "cell_type": "code",
   "execution_count": 7,
   "metadata": {},
   "outputs": [
    {
     "name": "stdout",
     "output_type": "stream",
     "text": [
      "Mean Squared Error for KOL_Estimated: 0.00039826\n",
      "Mean Squared Error for Transfer_Estimated: 0.000396\n"
     ]
    }
   ],
   "source": [
    "from sklearn.metrics import mean_squared_error\n",
    "\n",
    "y_pred = model_knn.predict(X_test)\n",
    "\n",
    "mse_knn = mean_squared_error(y_test, y_pred, multioutput='raw_values')\n",
    "print(f\"Mean Squared Error for KOL_Estimated: {mse_knn[0]}\")\n",
    "print(f\"Mean Squared Error for Transfer_Estimated: {mse_knn[1]}\")"
   ]
  },
  {
   "cell_type": "markdown",
   "metadata": {},
   "source": [
    "### 调整超参数，找到最优参数"
   ]
  },
  {
   "cell_type": "code",
   "execution_count": 8,
   "metadata": {},
   "outputs": [
    {
     "data": {
      "text/plain": [
       "{'algorithm': 'auto',\n",
       " 'leaf_size': 30,\n",
       " 'metric': 'minkowski',\n",
       " 'metric_params': None,\n",
       " 'n_jobs': None,\n",
       " 'n_neighbors': 5,\n",
       " 'p': 2,\n",
       " 'weights': 'uniform'}"
      ]
     },
     "execution_count": 8,
     "metadata": {},
     "output_type": "execute_result"
    }
   ],
   "source": [
    "model_knn.get_params()"
   ]
  },
  {
   "cell_type": "code",
   "execution_count": 9,
   "metadata": {},
   "outputs": [
    {
     "name": "stdout",
     "output_type": "stream",
     "text": [
      "Best parameters found:  {'algorithm': 'auto', 'leaf_size': 1, 'metric': 'minkowski', 'metric_params': None, 'n_jobs': None, 'n_neighbors': 5, 'p': 4, 'weights': 'distance'}\n"
     ]
    }
   ],
   "source": [
    "from sklearn.model_selection import GridSearchCV\n",
    "from scipy.stats import randint\n",
    "from sklearn.model_selection import RandomizedSearchCV\n",
    "\n",
    "\n",
    "param_grid = {\n",
    " 'algorithm': ['auto', 'ball_tree', 'kd_tree', 'brute'],\n",
    " 'leaf_size': [1, 10, 20, 30, 40],\n",
    " 'metric': ['minkowski', 'euclidean', 'manhattan'],\n",
    " 'metric_params': [None],\n",
    " 'n_jobs': [None, -1],\n",
    " 'n_neighbors': [3, 5, 7, 10],\n",
    " 'p': [1, 2, 3, 4],\n",
    " 'weights': ['uniform', 'distance'],\n",
    "}\n",
    "\n",
    "grid_search = KNeighborsRegressor()\n",
    "\n",
    "grid_search = GridSearchCV(\n",
    "    estimator=grid_search,\n",
    "    param_grid=param_grid,\n",
    "    scoring='neg_mean_squared_error',\n",
    "    cv=5,\n",
    "    n_jobs=-1,\n",
    "    error_score='raise',\n",
    "\n",
    ")\n",
    "\n",
    "grid_search.fit(X_train, y_train)\n",
    "\n",
    "print(\"Best parameters found: \", grid_search.best_params_)\n",
    "\n",
    "best_model_knn = grid_search.best_estimator_"
   ]
  },
  {
   "cell_type": "markdown",
   "metadata": {},
   "source": [
    "### 再次进行评估"
   ]
  },
  {
   "cell_type": "code",
   "execution_count": 10,
   "metadata": {},
   "outputs": [
    {
     "name": "stdout",
     "output_type": "stream",
     "text": [
      "Average Mean Squared Error: 0.00018701467468234853\n"
     ]
    }
   ],
   "source": [
    "result_knn_best = cross_validate(best_model_knn, features, target, cv=5, scoring='neg_mean_squared_error')\n",
    "mse_scores_knn_best = -result_knn_best['test_score']\n",
    "print(\"Average Mean Squared Error:\", mse_scores_knn_best.mean())"
   ]
  },
  {
   "cell_type": "code",
   "execution_count": 11,
   "metadata": {},
   "outputs": [
    {
     "name": "stdout",
     "output_type": "stream",
     "text": [
      "Mean Squared Error for KOL_Estimated: 0.00027090750185222127\n",
      "Mean Squared Error for Transfer_Estimated: 0.0002653939035421741\n"
     ]
    }
   ],
   "source": [
    "y_pred = best_model_knn.predict(X_test)\n",
    "\n",
    "mse_knn_best = mean_squared_error(y_test, y_pred, multioutput='raw_values')\n",
    "print(f\"Mean Squared Error for KOL_Estimated: {mse_knn_best[0]}\")\n",
    "print(f\"Mean Squared Error for Transfer_Estimated: {mse_knn_best[1]}\")"
   ]
  },
  {
   "cell_type": "markdown",
   "metadata": {},
   "source": [
    "# 随机森林回归"
   ]
  },
  {
   "cell_type": "markdown",
   "metadata": {},
   "source": [
    "### 创建并训练模型"
   ]
  },
  {
   "cell_type": "code",
   "execution_count": 12,
   "metadata": {},
   "outputs": [
    {
     "data": {
      "text/html": [
       "<style>#sk-container-id-2 {color: black;background-color: white;}#sk-container-id-2 pre{padding: 0;}#sk-container-id-2 div.sk-toggleable {background-color: white;}#sk-container-id-2 label.sk-toggleable__label {cursor: pointer;display: block;width: 100%;margin-bottom: 0;padding: 0.3em;box-sizing: border-box;text-align: center;}#sk-container-id-2 label.sk-toggleable__label-arrow:before {content: \"▸\";float: left;margin-right: 0.25em;color: #696969;}#sk-container-id-2 label.sk-toggleable__label-arrow:hover:before {color: black;}#sk-container-id-2 div.sk-estimator:hover label.sk-toggleable__label-arrow:before {color: black;}#sk-container-id-2 div.sk-toggleable__content {max-height: 0;max-width: 0;overflow: hidden;text-align: left;background-color: #f0f8ff;}#sk-container-id-2 div.sk-toggleable__content pre {margin: 0.2em;color: black;border-radius: 0.25em;background-color: #f0f8ff;}#sk-container-id-2 input.sk-toggleable__control:checked~div.sk-toggleable__content {max-height: 200px;max-width: 100%;overflow: auto;}#sk-container-id-2 input.sk-toggleable__control:checked~label.sk-toggleable__label-arrow:before {content: \"▾\";}#sk-container-id-2 div.sk-estimator input.sk-toggleable__control:checked~label.sk-toggleable__label {background-color: #d4ebff;}#sk-container-id-2 div.sk-label input.sk-toggleable__control:checked~label.sk-toggleable__label {background-color: #d4ebff;}#sk-container-id-2 input.sk-hidden--visually {border: 0;clip: rect(1px 1px 1px 1px);clip: rect(1px, 1px, 1px, 1px);height: 1px;margin: -1px;overflow: hidden;padding: 0;position: absolute;width: 1px;}#sk-container-id-2 div.sk-estimator {font-family: monospace;background-color: #f0f8ff;border: 1px dotted black;border-radius: 0.25em;box-sizing: border-box;margin-bottom: 0.5em;}#sk-container-id-2 div.sk-estimator:hover {background-color: #d4ebff;}#sk-container-id-2 div.sk-parallel-item::after {content: \"\";width: 100%;border-bottom: 1px solid gray;flex-grow: 1;}#sk-container-id-2 div.sk-label:hover label.sk-toggleable__label {background-color: #d4ebff;}#sk-container-id-2 div.sk-serial::before {content: \"\";position: absolute;border-left: 1px solid gray;box-sizing: border-box;top: 0;bottom: 0;left: 50%;z-index: 0;}#sk-container-id-2 div.sk-serial {display: flex;flex-direction: column;align-items: center;background-color: white;padding-right: 0.2em;padding-left: 0.2em;position: relative;}#sk-container-id-2 div.sk-item {position: relative;z-index: 1;}#sk-container-id-2 div.sk-parallel {display: flex;align-items: stretch;justify-content: center;background-color: white;position: relative;}#sk-container-id-2 div.sk-item::before, #sk-container-id-2 div.sk-parallel-item::before {content: \"\";position: absolute;border-left: 1px solid gray;box-sizing: border-box;top: 0;bottom: 0;left: 50%;z-index: -1;}#sk-container-id-2 div.sk-parallel-item {display: flex;flex-direction: column;z-index: 1;position: relative;background-color: white;}#sk-container-id-2 div.sk-parallel-item:first-child::after {align-self: flex-end;width: 50%;}#sk-container-id-2 div.sk-parallel-item:last-child::after {align-self: flex-start;width: 50%;}#sk-container-id-2 div.sk-parallel-item:only-child::after {width: 0;}#sk-container-id-2 div.sk-dashed-wrapped {border: 1px dashed gray;margin: 0 0.4em 0.5em 0.4em;box-sizing: border-box;padding-bottom: 0.4em;background-color: white;}#sk-container-id-2 div.sk-label label {font-family: monospace;font-weight: bold;display: inline-block;line-height: 1.2em;}#sk-container-id-2 div.sk-label-container {text-align: center;}#sk-container-id-2 div.sk-container {/* jupyter's `normalize.less` sets `[hidden] { display: none; }` but bootstrap.min.css set `[hidden] { display: none !important; }` so we also need the `!important` here to be able to override the default hidden behavior on the sphinx rendered scikit-learn.org. See: https://github.com/scikit-learn/scikit-learn/issues/21755 */display: inline-block !important;position: relative;}#sk-container-id-2 div.sk-text-repr-fallback {display: none;}</style><div id=\"sk-container-id-2\" class=\"sk-top-container\"><div class=\"sk-text-repr-fallback\"><pre>RandomForestRegressor(random_state=42)</pre><b>In a Jupyter environment, please rerun this cell to show the HTML representation or trust the notebook. <br />On GitHub, the HTML representation is unable to render, please try loading this page with nbviewer.org.</b></div><div class=\"sk-container\" hidden><div class=\"sk-item\"><div class=\"sk-estimator sk-toggleable\"><input class=\"sk-toggleable__control sk-hidden--visually\" id=\"sk-estimator-id-2\" type=\"checkbox\" checked><label for=\"sk-estimator-id-2\" class=\"sk-toggleable__label sk-toggleable__label-arrow\">RandomForestRegressor</label><div class=\"sk-toggleable__content\"><pre>RandomForestRegressor(random_state=42)</pre></div></div></div></div></div>"
      ],
      "text/plain": [
       "RandomForestRegressor(random_state=42)"
      ]
     },
     "execution_count": 12,
     "metadata": {},
     "output_type": "execute_result"
    }
   ],
   "source": [
    "from sklearn.ensemble import RandomForestRegressor\n",
    "\n",
    "model_forest = RandomForestRegressor(n_estimators=100, random_state=42)\n",
    "\n",
    "model_forest.fit(X_train, y_train)"
   ]
  },
  {
   "cell_type": "markdown",
   "metadata": {},
   "source": [
    "### 模型评估"
   ]
  },
  {
   "cell_type": "code",
   "execution_count": 13,
   "metadata": {},
   "outputs": [
    {
     "name": "stdout",
     "output_type": "stream",
     "text": [
      "Mean Squared Error for KOL_Estimated: 0.00012968185000000097\n",
      "Mean Squared Error for Transfer_Estimated: 0.00012431000000000052\n"
     ]
    }
   ],
   "source": [
    "y_pred = model_forest.predict(X_test)\n",
    "\n",
    "mse_forest = mean_squared_error(y_test, y_pred, multioutput='raw_values')\n",
    "print(f\"Mean Squared Error for KOL_Estimated: {mse_forest[0]}\")\n",
    "print(f\"Mean Squared Error for Transfer_Estimated: {mse_forest[1]}\")"
   ]
  },
  {
   "cell_type": "code",
   "execution_count": 14,
   "metadata": {},
   "outputs": [
    {
     "name": "stdout",
     "output_type": "stream",
     "text": [
      "Average Mean Squared Error: 0.00016936325000000075\n"
     ]
    }
   ],
   "source": [
    "result_forest = cross_validate(model_forest, features, target, cv=5, scoring='neg_mean_squared_error')\n",
    "mse_scores_forest = -result_forest['test_score']\n",
    "print(\"Average Mean Squared Error:\", mse_scores_forest.mean())"
   ]
  },
  {
   "cell_type": "markdown",
   "metadata": {},
   "source": [
    "### 调整超参数，找到最优参数"
   ]
  },
  {
   "cell_type": "code",
   "execution_count": 15,
   "metadata": {},
   "outputs": [
    {
     "data": {
      "text/plain": [
       "{'bootstrap': True,\n",
       " 'ccp_alpha': 0.0,\n",
       " 'criterion': 'squared_error',\n",
       " 'max_depth': None,\n",
       " 'max_features': 1.0,\n",
       " 'max_leaf_nodes': None,\n",
       " 'max_samples': None,\n",
       " 'min_impurity_decrease': 0.0,\n",
       " 'min_samples_leaf': 1,\n",
       " 'min_samples_split': 2,\n",
       " 'min_weight_fraction_leaf': 0.0,\n",
       " 'n_estimators': 100,\n",
       " 'n_jobs': None,\n",
       " 'oob_score': False,\n",
       " 'random_state': 42,\n",
       " 'verbose': 0,\n",
       " 'warm_start': False}"
      ]
     },
     "execution_count": 15,
     "metadata": {},
     "output_type": "execute_result"
    }
   ],
   "source": [
    "model_forest.get_params()"
   ]
  },
  {
   "cell_type": "code",
   "execution_count": 16,
   "metadata": {},
   "outputs": [
    {
     "name": "stdout",
     "output_type": "stream",
     "text": [
      "{'n_estimators': [50, 100, 150, 200, 250, 300, 350, 400, 450, 500, 550, 600, 650, 700, 750, 800, 850, 900, 950, 1000, 1050, 1100, 1150, 1200, 1250, 1300, 1350, 1400, 1450, 1500, 1550, 1600, 1650, 1700, 1750, 1800, 1850, 1900, 1950, 2000, 2050, 2100, 2150, 2200, 2250, 2300, 2350, 2400, 2450, 2500, 2550, 2600, 2650, 2700, 2750, 2800, 2850, 2900, 2950, 3000], 'max_features': ['auto', 'sqrt'], 'max_depth': [10, 20, 30, 40, 50, 60, 70, 80, 90, 100, 110, 120, 130, 140, 150, 160, 170, 180, 190, 200, 210, 220, 230, 240, 250, 260, 270, 280, 290, 300, 310, 320, 330, 340, 350, 360, 370, 380, 390, 400, 410, 420, 430, 440, 450, 460, 470, 480, 490, 500, None], 'min_samples_split': [2, 5, 10], 'min_samples_leaf': [1, 2, 4, 8]}\n"
     ]
    }
   ],
   "source": [
    "n_estimators_range=[int(x) for x in np.linspace(start=50,stop=3000,num=60)]\n",
    "max_features_range=['auto','sqrt']\n",
    "max_depth_range=[int(x) for x in np.linspace(10,500,num=50)]\n",
    "max_depth_range.append(None)\n",
    "min_samples_split_range=[2,5,10]\n",
    "min_samples_leaf_range=[1,2,4,8]\n",
    "bootstrap_range=[True,False]\n",
    "random_forest_seed=np.random.randint(low=1,high=230)\n",
    "\n",
    "random_forest_hp_range={'n_estimators':n_estimators_range,\n",
    "                        'max_features':max_features_range,\n",
    "                        'max_depth':max_depth_range,\n",
    "                        'min_samples_split':min_samples_split_range,\n",
    "                        'min_samples_leaf':min_samples_leaf_range\n",
    "                        # 'bootstrap':bootstrap_range\n",
    "                        }\n",
    "print(random_forest_hp_range)"
   ]
  },
  {
   "cell_type": "markdown",
   "metadata": {},
   "source": [
    "* 超参数随机匹配择优"
   ]
  },
  {
   "cell_type": "code",
   "execution_count": 17,
   "metadata": {},
   "outputs": [
    {
     "name": "stdout",
     "output_type": "stream",
     "text": [
      "Fitting 3 folds for each of 200 candidates, totalling 600 fits\n",
      "{'n_estimators': 1200, 'min_samples_split': 2, 'min_samples_leaf': 1, 'max_features': 'sqrt', 'max_depth': 390}\n"
     ]
    }
   ],
   "source": [
    "random_forest_model_test_base=RandomForestRegressor()\n",
    "random_forest_model_test_random=RandomizedSearchCV(estimator=random_forest_model_test_base,\n",
    "                                                   param_distributions=random_forest_hp_range,\n",
    "                                                   n_iter=200,\n",
    "                                                   n_jobs=-1,\n",
    "                                                   cv=3,\n",
    "                                                   verbose=1,\n",
    "                                                   random_state=random_forest_seed,scoring='neg_mean_squared_error'\n",
    "                                                   )\n",
    "random_forest_model_test_random.fit(X_train, y_train)\n",
    "\n",
    "best_hp_now=random_forest_model_test_random.best_params_\n",
    "print(best_hp_now)"
   ]
  },
  {
   "cell_type": "markdown",
   "metadata": {},
   "source": [
    "* 超参数遍历匹配择优"
   ]
  },
  {
   "cell_type": "code",
   "execution_count": 18,
   "metadata": {},
   "outputs": [
    {
     "name": "stdout",
     "output_type": "stream",
     "text": [
      "Fitting 3 folds for each of 64 candidates, totalling 192 fits\n",
      "Best parameters found:  {'max_depth': 80, 'max_features': 6, 'min_samples_split': 2, 'n_estimators': 1400}\n"
     ]
    }
   ],
   "source": [
    "random_forest_hp_range_2={'n_estimators':[best_hp_now['n_estimators']-100, best_hp_now['n_estimators'], best_hp_now['n_estimators'] + 100, best_hp_now['n_estimators'] + 200],\n",
    "                          'max_features':[6, 7],\n",
    "                          'max_depth':[50, 60, 80, 100],\n",
    "                          'min_samples_split':[best_hp_now['min_samples_split'], best_hp_now['min_samples_split'] + 1]\n",
    "                          }\n",
    "random_forest_model_test_2_base=RandomForestRegressor()\n",
    "random_forest_model_test_2_random=GridSearchCV(estimator=random_forest_model_test_2_base,\n",
    "                                               param_grid=random_forest_hp_range_2,\n",
    "                                               cv=3,\n",
    "                                               verbose=1,\n",
    "                                               n_jobs=-1,\n",
    "                                               scoring='neg_mean_squared_error',\n",
    "                                               error_score='raise'\n",
    "                                               )\n",
    "random_forest_model_test_2_random.fit(X_train, y_train)\n",
    "\n",
    "print(\"Best parameters found: \", random_forest_model_test_2_random.best_params_)\n",
    "\n",
    "best_model_forest = random_forest_model_test_2_random.best_estimator_"
   ]
  },
  {
   "cell_type": "markdown",
   "metadata": {},
   "source": [
    "### 再次进行评估"
   ]
  },
  {
   "cell_type": "code",
   "execution_count": 19,
   "metadata": {},
   "outputs": [
    {
     "name": "stdout",
     "output_type": "stream",
     "text": [
      "Mean Squared Error for KOL_Estimated: 0.00012123724630104648\n",
      "Mean Squared Error for Transfer_Estimated: 0.0001164871938775731\n"
     ]
    }
   ],
   "source": [
    "y_pred = best_model_forest.predict(X_test)\n",
    "\n",
    "mse_forest_best = mean_squared_error(y_test, y_pred, multioutput='raw_values')\n",
    "print(f\"Mean Squared Error for KOL_Estimated: {mse_forest_best[0]}\")\n",
    "print(f\"Mean Squared Error for Transfer_Estimated: {mse_forest_best[1]}\")"
   ]
  },
  {
   "cell_type": "code",
   "execution_count": 20,
   "metadata": {},
   "outputs": [
    {
     "name": "stdout",
     "output_type": "stream",
     "text": [
      "Mean Squared Error for each fold: [2.16912942e-04 1.69983697e-04 3.00545536e-04 1.05730529e-06\n",
      " 1.14616440e-04]\n",
      "Average Mean Squared Error: 0.0001606231840433753\n"
     ]
    }
   ],
   "source": [
    "result_forest_best = cross_validate(best_model_forest, features, target, cv=5, scoring='neg_mean_squared_error')\n",
    "mse_scores_forest_best = -result_forest_best['test_score']\n",
    "print(\"Mean Squared Error for each fold:\", mse_scores_forest_best)\n",
    "print(\"Average Mean Squared Error:\", mse_scores_forest_best.mean())"
   ]
  },
  {
   "cell_type": "markdown",
   "metadata": {},
   "source": [
    "# Adaboost 回归"
   ]
  },
  {
   "cell_type": "markdown",
   "metadata": {},
   "source": [
    "### 再次划分数据集"
   ]
  },
  {
   "cell_type": "code",
   "execution_count": 21,
   "metadata": {},
   "outputs": [],
   "source": [
    "y_KOL = target[:, 0]\n",
    "y_Transfer = target[:, 1]\n",
    "\n",
    "X_train, X_test, y_train_KOL, y_test_KOL = train_test_split(features, y_KOL, test_size=0.2, random_state=42)\n",
    "X_train, X_test, y_train_Transfer, y_test_Transfer = train_test_split(features, y_Transfer, test_size=0.2, random_state=42)\n"
   ]
  },
  {
   "cell_type": "markdown",
   "metadata": {},
   "source": [
    "### 创建并训练模型 (KOL_Estimated)"
   ]
  },
  {
   "cell_type": "code",
   "execution_count": 22,
   "metadata": {},
   "outputs": [
    {
     "data": {
      "text/html": [
       "<style>#sk-container-id-3 {color: black;background-color: white;}#sk-container-id-3 pre{padding: 0;}#sk-container-id-3 div.sk-toggleable {background-color: white;}#sk-container-id-3 label.sk-toggleable__label {cursor: pointer;display: block;width: 100%;margin-bottom: 0;padding: 0.3em;box-sizing: border-box;text-align: center;}#sk-container-id-3 label.sk-toggleable__label-arrow:before {content: \"▸\";float: left;margin-right: 0.25em;color: #696969;}#sk-container-id-3 label.sk-toggleable__label-arrow:hover:before {color: black;}#sk-container-id-3 div.sk-estimator:hover label.sk-toggleable__label-arrow:before {color: black;}#sk-container-id-3 div.sk-toggleable__content {max-height: 0;max-width: 0;overflow: hidden;text-align: left;background-color: #f0f8ff;}#sk-container-id-3 div.sk-toggleable__content pre {margin: 0.2em;color: black;border-radius: 0.25em;background-color: #f0f8ff;}#sk-container-id-3 input.sk-toggleable__control:checked~div.sk-toggleable__content {max-height: 200px;max-width: 100%;overflow: auto;}#sk-container-id-3 input.sk-toggleable__control:checked~label.sk-toggleable__label-arrow:before {content: \"▾\";}#sk-container-id-3 div.sk-estimator input.sk-toggleable__control:checked~label.sk-toggleable__label {background-color: #d4ebff;}#sk-container-id-3 div.sk-label input.sk-toggleable__control:checked~label.sk-toggleable__label {background-color: #d4ebff;}#sk-container-id-3 input.sk-hidden--visually {border: 0;clip: rect(1px 1px 1px 1px);clip: rect(1px, 1px, 1px, 1px);height: 1px;margin: -1px;overflow: hidden;padding: 0;position: absolute;width: 1px;}#sk-container-id-3 div.sk-estimator {font-family: monospace;background-color: #f0f8ff;border: 1px dotted black;border-radius: 0.25em;box-sizing: border-box;margin-bottom: 0.5em;}#sk-container-id-3 div.sk-estimator:hover {background-color: #d4ebff;}#sk-container-id-3 div.sk-parallel-item::after {content: \"\";width: 100%;border-bottom: 1px solid gray;flex-grow: 1;}#sk-container-id-3 div.sk-label:hover label.sk-toggleable__label {background-color: #d4ebff;}#sk-container-id-3 div.sk-serial::before {content: \"\";position: absolute;border-left: 1px solid gray;box-sizing: border-box;top: 0;bottom: 0;left: 50%;z-index: 0;}#sk-container-id-3 div.sk-serial {display: flex;flex-direction: column;align-items: center;background-color: white;padding-right: 0.2em;padding-left: 0.2em;position: relative;}#sk-container-id-3 div.sk-item {position: relative;z-index: 1;}#sk-container-id-3 div.sk-parallel {display: flex;align-items: stretch;justify-content: center;background-color: white;position: relative;}#sk-container-id-3 div.sk-item::before, #sk-container-id-3 div.sk-parallel-item::before {content: \"\";position: absolute;border-left: 1px solid gray;box-sizing: border-box;top: 0;bottom: 0;left: 50%;z-index: -1;}#sk-container-id-3 div.sk-parallel-item {display: flex;flex-direction: column;z-index: 1;position: relative;background-color: white;}#sk-container-id-3 div.sk-parallel-item:first-child::after {align-self: flex-end;width: 50%;}#sk-container-id-3 div.sk-parallel-item:last-child::after {align-self: flex-start;width: 50%;}#sk-container-id-3 div.sk-parallel-item:only-child::after {width: 0;}#sk-container-id-3 div.sk-dashed-wrapped {border: 1px dashed gray;margin: 0 0.4em 0.5em 0.4em;box-sizing: border-box;padding-bottom: 0.4em;background-color: white;}#sk-container-id-3 div.sk-label label {font-family: monospace;font-weight: bold;display: inline-block;line-height: 1.2em;}#sk-container-id-3 div.sk-label-container {text-align: center;}#sk-container-id-3 div.sk-container {/* jupyter's `normalize.less` sets `[hidden] { display: none; }` but bootstrap.min.css set `[hidden] { display: none !important; }` so we also need the `!important` here to be able to override the default hidden behavior on the sphinx rendered scikit-learn.org. See: https://github.com/scikit-learn/scikit-learn/issues/21755 */display: inline-block !important;position: relative;}#sk-container-id-3 div.sk-text-repr-fallback {display: none;}</style><div id=\"sk-container-id-3\" class=\"sk-top-container\"><div class=\"sk-text-repr-fallback\"><pre>AdaBoostRegressor(base_estimator=DecisionTreeRegressor(max_depth=4),\n",
       "                  n_estimators=100, random_state=42)</pre><b>In a Jupyter environment, please rerun this cell to show the HTML representation or trust the notebook. <br />On GitHub, the HTML representation is unable to render, please try loading this page with nbviewer.org.</b></div><div class=\"sk-container\" hidden><div class=\"sk-item sk-dashed-wrapped\"><div class=\"sk-label-container\"><div class=\"sk-label sk-toggleable\"><input class=\"sk-toggleable__control sk-hidden--visually\" id=\"sk-estimator-id-3\" type=\"checkbox\" ><label for=\"sk-estimator-id-3\" class=\"sk-toggleable__label sk-toggleable__label-arrow\">AdaBoostRegressor</label><div class=\"sk-toggleable__content\"><pre>AdaBoostRegressor(base_estimator=DecisionTreeRegressor(max_depth=4),\n",
       "                  n_estimators=100, random_state=42)</pre></div></div></div><div class=\"sk-parallel\"><div class=\"sk-parallel-item\"><div class=\"sk-item\"><div class=\"sk-label-container\"><div class=\"sk-label sk-toggleable\"><input class=\"sk-toggleable__control sk-hidden--visually\" id=\"sk-estimator-id-4\" type=\"checkbox\" ><label for=\"sk-estimator-id-4\" class=\"sk-toggleable__label sk-toggleable__label-arrow\">base_estimator: DecisionTreeRegressor</label><div class=\"sk-toggleable__content\"><pre>DecisionTreeRegressor(max_depth=4)</pre></div></div></div><div class=\"sk-serial\"><div class=\"sk-item\"><div class=\"sk-estimator sk-toggleable\"><input class=\"sk-toggleable__control sk-hidden--visually\" id=\"sk-estimator-id-5\" type=\"checkbox\" ><label for=\"sk-estimator-id-5\" class=\"sk-toggleable__label sk-toggleable__label-arrow\">DecisionTreeRegressor</label><div class=\"sk-toggleable__content\"><pre>DecisionTreeRegressor(max_depth=4)</pre></div></div></div></div></div></div></div></div></div></div>"
      ],
      "text/plain": [
       "AdaBoostRegressor(base_estimator=DecisionTreeRegressor(max_depth=4),\n",
       "                  n_estimators=100, random_state=42)"
      ]
     },
     "execution_count": 22,
     "metadata": {},
     "output_type": "execute_result"
    }
   ],
   "source": [
    "from sklearn.ensemble import AdaBoostRegressor\n",
    "from sklearn.tree import DecisionTreeRegressor\n",
    "\n",
    "base_estimator = DecisionTreeRegressor(max_depth=4)\n",
    "model_ada_KOL = AdaBoostRegressor(base_estimator=base_estimator, n_estimators=100, random_state=42)\n",
    "\n",
    "model_ada_KOL.fit(X_train, y_train_KOL)"
   ]
  },
  {
   "cell_type": "markdown",
   "metadata": {},
   "source": [
    "* 模型评估"
   ]
  },
  {
   "cell_type": "code",
   "execution_count": 23,
   "metadata": {},
   "outputs": [
    {
     "name": "stdout",
     "output_type": "stream",
     "text": [
      "Mean Squared Error for KOL_Estimated: 0.0002105000000000001\n"
     ]
    }
   ],
   "source": [
    "y_pred_KOL = model_ada_KOL.predict(X_test)\n",
    "\n",
    "mse_ada_KOL = mean_squared_error(y_test_KOL, y_pred_KOL)\n",
    "\n",
    "print(f\"Mean Squared Error for KOL_Estimated: {mse_ada_KOL}\")"
   ]
  },
  {
   "cell_type": "code",
   "execution_count": 24,
   "metadata": {},
   "outputs": [
    {
     "name": "stdout",
     "output_type": "stream",
     "text": [
      "Average Mean Squared Error for KOL_Estimated: 0.00023455000000000004\n"
     ]
    }
   ],
   "source": [
    "result_ada_KOL = cross_validate(model_ada_KOL, features, y_KOL, cv=5, scoring='neg_mean_squared_error')\n",
    "mse_scores_ada_KOL = -result_ada_KOL['test_score']\n",
    "print(\"Average Mean Squared Error for KOL_Estimated:\", mse_scores_ada_KOL.mean())"
   ]
  },
  {
   "cell_type": "markdown",
   "metadata": {},
   "source": [
    "* 调整超参数，找到最优参数"
   ]
  },
  {
   "cell_type": "code",
   "execution_count": 25,
   "metadata": {},
   "outputs": [
    {
     "data": {
      "text/plain": [
       "{'base_estimator__ccp_alpha': 0.0,\n",
       " 'base_estimator__criterion': 'squared_error',\n",
       " 'base_estimator__max_depth': 4,\n",
       " 'base_estimator__max_features': None,\n",
       " 'base_estimator__max_leaf_nodes': None,\n",
       " 'base_estimator__min_impurity_decrease': 0.0,\n",
       " 'base_estimator__min_samples_leaf': 1,\n",
       " 'base_estimator__min_samples_split': 2,\n",
       " 'base_estimator__min_weight_fraction_leaf': 0.0,\n",
       " 'base_estimator__random_state': None,\n",
       " 'base_estimator__splitter': 'best',\n",
       " 'base_estimator': DecisionTreeRegressor(max_depth=4),\n",
       " 'learning_rate': 1.0,\n",
       " 'loss': 'linear',\n",
       " 'n_estimators': 100,\n",
       " 'random_state': 42}"
      ]
     },
     "execution_count": 25,
     "metadata": {},
     "output_type": "execute_result"
    }
   ],
   "source": [
    "model_ada_KOL.get_params()"
   ]
  },
  {
   "cell_type": "code",
   "execution_count": 26,
   "metadata": {},
   "outputs": [
    {
     "name": "stdout",
     "output_type": "stream",
     "text": [
      "Fitting 5 folds for each of 1944 candidates, totalling 9720 fits\n",
      "Best parameters found:  AdaBoostRegressor(base_estimator=DecisionTreeRegressor(criterion='absolute_error',\n",
      "                                                       max_depth=3,\n",
      "                                                       min_samples_split=5),\n",
      "                  learning_rate=1, loss='exponential', n_estimators=150,\n",
      "                  random_state=42)\n"
     ]
    }
   ],
   "source": [
    "param_grid = {\n",
    "    'base_estimator__max_depth': [3,4,5],\n",
    "    'base_estimator__max_features': [None],\n",
    "    'base_estimator__min_samples_leaf': [1, 2],\n",
    "    'base_estimator__min_samples_split': [2, 5, 10],\n",
    "    'learning_rate': [0.01, 0.1, 1],\n",
    "    'loss': ['linear', 'square', 'exponential'],\n",
    "    'n_estimators': [50, 100, 150, 200],\n",
    "    'base_estimator__criterion': ['squared_error', 'absolute_error', 'poisson']\n",
    "}\n",
    "\n",
    "ada_regressor = AdaBoostRegressor(base_estimator=DecisionTreeRegressor(), random_state=42)\n",
    "\n",
    "grid_search = GridSearchCV(\n",
    "    estimator=ada_regressor,\n",
    "    param_grid=param_grid,\n",
    "    scoring='neg_mean_squared_error',\n",
    "    cv=5,\n",
    "    n_jobs=-1,\n",
    "    verbose= 1\n",
    ")\n",
    "\n",
    "grid_search.fit(X_train, y_train_KOL)\n",
    "\n",
    "print(\"Best parameters found: \", grid_search.best_estimator_)\n",
    "\n",
    "best_model_ada_KOL = grid_search.best_estimator_"
   ]
  },
  {
   "cell_type": "markdown",
   "metadata": {},
   "source": [
    "* 模型再评估"
   ]
  },
  {
   "cell_type": "code",
   "execution_count": 27,
   "metadata": {},
   "outputs": [
    {
     "name": "stdout",
     "output_type": "stream",
     "text": [
      "Mean Squared Error for KOL_Estimated: 0.0002105000000000001\n"
     ]
    }
   ],
   "source": [
    "y_pred_KOL = best_model_ada_KOL.predict(X_test)\n",
    "\n",
    "mse_ada_KOL_best = mean_squared_error(y_test_KOL, y_pred_KOL)\n",
    "\n",
    "print(f\"Mean Squared Error for KOL_Estimated: {mse_ada_KOL_best}\")"
   ]
  },
  {
   "cell_type": "code",
   "execution_count": 28,
   "metadata": {},
   "outputs": [
    {
     "name": "stdout",
     "output_type": "stream",
     "text": [
      "Average Mean Squared Error for KOL_Estimated: 0.00023660000000000006\n"
     ]
    }
   ],
   "source": [
    "result_ada_KOL_best = cross_validate(best_model_ada_KOL, features, y_KOL, cv=5, scoring='neg_mean_squared_error')\n",
    "mse_scores_ada_KOL_best = -result_ada_KOL_best['test_score']\n",
    "print(\"Average Mean Squared Error for KOL_Estimated:\", mse_scores_ada_KOL_best.mean())"
   ]
  },
  {
   "cell_type": "markdown",
   "metadata": {},
   "source": [
    "### 创建并训练模型 (Transfer_Estimated)"
   ]
  },
  {
   "cell_type": "code",
   "execution_count": 29,
   "metadata": {},
   "outputs": [
    {
     "data": {
      "text/html": [
       "<style>#sk-container-id-4 {color: black;background-color: white;}#sk-container-id-4 pre{padding: 0;}#sk-container-id-4 div.sk-toggleable {background-color: white;}#sk-container-id-4 label.sk-toggleable__label {cursor: pointer;display: block;width: 100%;margin-bottom: 0;padding: 0.3em;box-sizing: border-box;text-align: center;}#sk-container-id-4 label.sk-toggleable__label-arrow:before {content: \"▸\";float: left;margin-right: 0.25em;color: #696969;}#sk-container-id-4 label.sk-toggleable__label-arrow:hover:before {color: black;}#sk-container-id-4 div.sk-estimator:hover label.sk-toggleable__label-arrow:before {color: black;}#sk-container-id-4 div.sk-toggleable__content {max-height: 0;max-width: 0;overflow: hidden;text-align: left;background-color: #f0f8ff;}#sk-container-id-4 div.sk-toggleable__content pre {margin: 0.2em;color: black;border-radius: 0.25em;background-color: #f0f8ff;}#sk-container-id-4 input.sk-toggleable__control:checked~div.sk-toggleable__content {max-height: 200px;max-width: 100%;overflow: auto;}#sk-container-id-4 input.sk-toggleable__control:checked~label.sk-toggleable__label-arrow:before {content: \"▾\";}#sk-container-id-4 div.sk-estimator input.sk-toggleable__control:checked~label.sk-toggleable__label {background-color: #d4ebff;}#sk-container-id-4 div.sk-label input.sk-toggleable__control:checked~label.sk-toggleable__label {background-color: #d4ebff;}#sk-container-id-4 input.sk-hidden--visually {border: 0;clip: rect(1px 1px 1px 1px);clip: rect(1px, 1px, 1px, 1px);height: 1px;margin: -1px;overflow: hidden;padding: 0;position: absolute;width: 1px;}#sk-container-id-4 div.sk-estimator {font-family: monospace;background-color: #f0f8ff;border: 1px dotted black;border-radius: 0.25em;box-sizing: border-box;margin-bottom: 0.5em;}#sk-container-id-4 div.sk-estimator:hover {background-color: #d4ebff;}#sk-container-id-4 div.sk-parallel-item::after {content: \"\";width: 100%;border-bottom: 1px solid gray;flex-grow: 1;}#sk-container-id-4 div.sk-label:hover label.sk-toggleable__label {background-color: #d4ebff;}#sk-container-id-4 div.sk-serial::before {content: \"\";position: absolute;border-left: 1px solid gray;box-sizing: border-box;top: 0;bottom: 0;left: 50%;z-index: 0;}#sk-container-id-4 div.sk-serial {display: flex;flex-direction: column;align-items: center;background-color: white;padding-right: 0.2em;padding-left: 0.2em;position: relative;}#sk-container-id-4 div.sk-item {position: relative;z-index: 1;}#sk-container-id-4 div.sk-parallel {display: flex;align-items: stretch;justify-content: center;background-color: white;position: relative;}#sk-container-id-4 div.sk-item::before, #sk-container-id-4 div.sk-parallel-item::before {content: \"\";position: absolute;border-left: 1px solid gray;box-sizing: border-box;top: 0;bottom: 0;left: 50%;z-index: -1;}#sk-container-id-4 div.sk-parallel-item {display: flex;flex-direction: column;z-index: 1;position: relative;background-color: white;}#sk-container-id-4 div.sk-parallel-item:first-child::after {align-self: flex-end;width: 50%;}#sk-container-id-4 div.sk-parallel-item:last-child::after {align-self: flex-start;width: 50%;}#sk-container-id-4 div.sk-parallel-item:only-child::after {width: 0;}#sk-container-id-4 div.sk-dashed-wrapped {border: 1px dashed gray;margin: 0 0.4em 0.5em 0.4em;box-sizing: border-box;padding-bottom: 0.4em;background-color: white;}#sk-container-id-4 div.sk-label label {font-family: monospace;font-weight: bold;display: inline-block;line-height: 1.2em;}#sk-container-id-4 div.sk-label-container {text-align: center;}#sk-container-id-4 div.sk-container {/* jupyter's `normalize.less` sets `[hidden] { display: none; }` but bootstrap.min.css set `[hidden] { display: none !important; }` so we also need the `!important` here to be able to override the default hidden behavior on the sphinx rendered scikit-learn.org. See: https://github.com/scikit-learn/scikit-learn/issues/21755 */display: inline-block !important;position: relative;}#sk-container-id-4 div.sk-text-repr-fallback {display: none;}</style><div id=\"sk-container-id-4\" class=\"sk-top-container\"><div class=\"sk-text-repr-fallback\"><pre>AdaBoostRegressor(base_estimator=DecisionTreeRegressor(max_depth=4),\n",
       "                  n_estimators=100, random_state=42)</pre><b>In a Jupyter environment, please rerun this cell to show the HTML representation or trust the notebook. <br />On GitHub, the HTML representation is unable to render, please try loading this page with nbviewer.org.</b></div><div class=\"sk-container\" hidden><div class=\"sk-item sk-dashed-wrapped\"><div class=\"sk-label-container\"><div class=\"sk-label sk-toggleable\"><input class=\"sk-toggleable__control sk-hidden--visually\" id=\"sk-estimator-id-6\" type=\"checkbox\" ><label for=\"sk-estimator-id-6\" class=\"sk-toggleable__label sk-toggleable__label-arrow\">AdaBoostRegressor</label><div class=\"sk-toggleable__content\"><pre>AdaBoostRegressor(base_estimator=DecisionTreeRegressor(max_depth=4),\n",
       "                  n_estimators=100, random_state=42)</pre></div></div></div><div class=\"sk-parallel\"><div class=\"sk-parallel-item\"><div class=\"sk-item\"><div class=\"sk-label-container\"><div class=\"sk-label sk-toggleable\"><input class=\"sk-toggleable__control sk-hidden--visually\" id=\"sk-estimator-id-7\" type=\"checkbox\" ><label for=\"sk-estimator-id-7\" class=\"sk-toggleable__label sk-toggleable__label-arrow\">base_estimator: DecisionTreeRegressor</label><div class=\"sk-toggleable__content\"><pre>DecisionTreeRegressor(max_depth=4)</pre></div></div></div><div class=\"sk-serial\"><div class=\"sk-item\"><div class=\"sk-estimator sk-toggleable\"><input class=\"sk-toggleable__control sk-hidden--visually\" id=\"sk-estimator-id-8\" type=\"checkbox\" ><label for=\"sk-estimator-id-8\" class=\"sk-toggleable__label sk-toggleable__label-arrow\">DecisionTreeRegressor</label><div class=\"sk-toggleable__content\"><pre>DecisionTreeRegressor(max_depth=4)</pre></div></div></div></div></div></div></div></div></div></div>"
      ],
      "text/plain": [
       "AdaBoostRegressor(base_estimator=DecisionTreeRegressor(max_depth=4),\n",
       "                  n_estimators=100, random_state=42)"
      ]
     },
     "execution_count": 29,
     "metadata": {},
     "output_type": "execute_result"
    }
   ],
   "source": [
    "model_ada_Transfer = AdaBoostRegressor(base_estimator=base_estimator, n_estimators=100, random_state=42)\n",
    "\n",
    "model_ada_Transfer.fit(X_train, y_train_Transfer)"
   ]
  },
  {
   "cell_type": "markdown",
   "metadata": {},
   "source": [
    "* 模型评估"
   ]
  },
  {
   "cell_type": "code",
   "execution_count": 30,
   "metadata": {},
   "outputs": [
    {
     "name": "stdout",
     "output_type": "stream",
     "text": [
      "Mean Squared Error for Transfer_Estimated: 0.0002000000000000001\n"
     ]
    }
   ],
   "source": [
    "y_pred_Transfer = model_ada_Transfer.predict(X_test)\n",
    "\n",
    "mse_ada_Transfer = mean_squared_error(y_test_Transfer, y_pred_Transfer)\n",
    "\n",
    "print(f\"Mean Squared Error for Transfer_Estimated: {mse_ada_Transfer}\")"
   ]
  },
  {
   "cell_type": "code",
   "execution_count": 31,
   "metadata": {},
   "outputs": [
    {
     "name": "stdout",
     "output_type": "stream",
     "text": [
      "Average Mean Squared Error: 0.00056\n"
     ]
    }
   ],
   "source": [
    "result_ada_Transfer = cross_validate(model_ada_Transfer, features, y_Transfer, cv=5, scoring='neg_mean_squared_error')\n",
    "mse_scores_ada_Transfer = -result_ada_Transfer['test_score']\n",
    "print(\"Average Mean Squared Error:\", mse_scores_ada_Transfer.mean())"
   ]
  },
  {
   "cell_type": "markdown",
   "metadata": {},
   "source": [
    "调整超参数，找到最优参数"
   ]
  },
  {
   "cell_type": "code",
   "execution_count": 32,
   "metadata": {},
   "outputs": [
    {
     "name": "stdout",
     "output_type": "stream",
     "text": [
      "Fitting 5 folds for each of 2304 candidates, totalling 11520 fits\n",
      "Best parameters found:  AdaBoostRegressor(base_estimator=DecisionTreeRegressor(max_depth=3,\n",
      "                                                       max_features='sqrt'),\n",
      "                  learning_rate=1, random_state=42)\n"
     ]
    }
   ],
   "source": [
    "param_grid = {\n",
    "    'base_estimator__max_depth': [2,3,4,5],\n",
    "    'base_estimator__max_features': ['auto','sqrt'],\n",
    "    'base_estimator__min_samples_leaf': [1, 2],\n",
    "    'base_estimator__min_samples_split': [2, 5],\n",
    "    'learning_rate': [0.01, 0.1, 1],\n",
    "    'loss': ['linear', 'square'],\n",
    "    'n_estimators': [50, 100, 150, 200],\n",
    "    'base_estimator__criterion': ['squared_error', 'absolute_error', 'poisson']\n",
    "}\n",
    "\n",
    "ada_regressor = AdaBoostRegressor(base_estimator=DecisionTreeRegressor(), random_state=42)\n",
    "\n",
    "grid_search = GridSearchCV(\n",
    "    estimator=ada_regressor,\n",
    "    param_grid=param_grid,\n",
    "    scoring='neg_mean_squared_error',\n",
    "    cv=5,\n",
    "    n_jobs=-1,\n",
    "    verbose= 1\n",
    ")\n",
    "\n",
    "grid_search.fit(X_train, y_train_Transfer)\n",
    "\n",
    "print(\"Best parameters found: \", grid_search.best_estimator_)\n",
    "\n",
    "best_model_ada_Transfer = grid_search.best_estimator_"
   ]
  },
  {
   "cell_type": "markdown",
   "metadata": {},
   "source": [
    "* 模型再评估"
   ]
  },
  {
   "cell_type": "code",
   "execution_count": 33,
   "metadata": {},
   "outputs": [
    {
     "name": "stdout",
     "output_type": "stream",
     "text": [
      "Mean Squared Error for Transfer_Estimated: 0.0002000000000000001\n"
     ]
    }
   ],
   "source": [
    "y_pred_Transfer = best_model_ada_Transfer.predict(X_test)\n",
    "\n",
    "mse_ada_Transfer_best = mean_squared_error(y_test_Transfer, y_pred_Transfer)\n",
    "\n",
    "print(f\"Mean Squared Error for Transfer_Estimated: {mse_ada_Transfer_best}\")"
   ]
  },
  {
   "cell_type": "code",
   "execution_count": 34,
   "metadata": {},
   "outputs": [
    {
     "name": "stdout",
     "output_type": "stream",
     "text": [
      "Average Mean Squared Error for Transfer_Estimated: 0.00046\n"
     ]
    }
   ],
   "source": [
    "result_ada_Transfer_best = cross_validate(best_model_ada_Transfer, features, y_Transfer, cv=5, scoring='neg_mean_squared_error')\n",
    "mse_scores_ada_Transfer_best = -result_ada_Transfer_best['test_score']\n",
    "print(\"Average Mean Squared Error for Transfer_Estimated:\", mse_scores_ada_Transfer_best.mean())"
   ]
  },
  {
   "cell_type": "markdown",
   "metadata": {},
   "source": [
    "# GBRT回归"
   ]
  },
  {
   "cell_type": "markdown",
   "metadata": {},
   "source": [
    "### 创建并训练模型 (KOL_Estimated)"
   ]
  },
  {
   "cell_type": "code",
   "execution_count": 35,
   "metadata": {},
   "outputs": [
    {
     "data": {
      "text/html": [
       "<style>#sk-container-id-5 {color: black;background-color: white;}#sk-container-id-5 pre{padding: 0;}#sk-container-id-5 div.sk-toggleable {background-color: white;}#sk-container-id-5 label.sk-toggleable__label {cursor: pointer;display: block;width: 100%;margin-bottom: 0;padding: 0.3em;box-sizing: border-box;text-align: center;}#sk-container-id-5 label.sk-toggleable__label-arrow:before {content: \"▸\";float: left;margin-right: 0.25em;color: #696969;}#sk-container-id-5 label.sk-toggleable__label-arrow:hover:before {color: black;}#sk-container-id-5 div.sk-estimator:hover label.sk-toggleable__label-arrow:before {color: black;}#sk-container-id-5 div.sk-toggleable__content {max-height: 0;max-width: 0;overflow: hidden;text-align: left;background-color: #f0f8ff;}#sk-container-id-5 div.sk-toggleable__content pre {margin: 0.2em;color: black;border-radius: 0.25em;background-color: #f0f8ff;}#sk-container-id-5 input.sk-toggleable__control:checked~div.sk-toggleable__content {max-height: 200px;max-width: 100%;overflow: auto;}#sk-container-id-5 input.sk-toggleable__control:checked~label.sk-toggleable__label-arrow:before {content: \"▾\";}#sk-container-id-5 div.sk-estimator input.sk-toggleable__control:checked~label.sk-toggleable__label {background-color: #d4ebff;}#sk-container-id-5 div.sk-label input.sk-toggleable__control:checked~label.sk-toggleable__label {background-color: #d4ebff;}#sk-container-id-5 input.sk-hidden--visually {border: 0;clip: rect(1px 1px 1px 1px);clip: rect(1px, 1px, 1px, 1px);height: 1px;margin: -1px;overflow: hidden;padding: 0;position: absolute;width: 1px;}#sk-container-id-5 div.sk-estimator {font-family: monospace;background-color: #f0f8ff;border: 1px dotted black;border-radius: 0.25em;box-sizing: border-box;margin-bottom: 0.5em;}#sk-container-id-5 div.sk-estimator:hover {background-color: #d4ebff;}#sk-container-id-5 div.sk-parallel-item::after {content: \"\";width: 100%;border-bottom: 1px solid gray;flex-grow: 1;}#sk-container-id-5 div.sk-label:hover label.sk-toggleable__label {background-color: #d4ebff;}#sk-container-id-5 div.sk-serial::before {content: \"\";position: absolute;border-left: 1px solid gray;box-sizing: border-box;top: 0;bottom: 0;left: 50%;z-index: 0;}#sk-container-id-5 div.sk-serial {display: flex;flex-direction: column;align-items: center;background-color: white;padding-right: 0.2em;padding-left: 0.2em;position: relative;}#sk-container-id-5 div.sk-item {position: relative;z-index: 1;}#sk-container-id-5 div.sk-parallel {display: flex;align-items: stretch;justify-content: center;background-color: white;position: relative;}#sk-container-id-5 div.sk-item::before, #sk-container-id-5 div.sk-parallel-item::before {content: \"\";position: absolute;border-left: 1px solid gray;box-sizing: border-box;top: 0;bottom: 0;left: 50%;z-index: -1;}#sk-container-id-5 div.sk-parallel-item {display: flex;flex-direction: column;z-index: 1;position: relative;background-color: white;}#sk-container-id-5 div.sk-parallel-item:first-child::after {align-self: flex-end;width: 50%;}#sk-container-id-5 div.sk-parallel-item:last-child::after {align-self: flex-start;width: 50%;}#sk-container-id-5 div.sk-parallel-item:only-child::after {width: 0;}#sk-container-id-5 div.sk-dashed-wrapped {border: 1px dashed gray;margin: 0 0.4em 0.5em 0.4em;box-sizing: border-box;padding-bottom: 0.4em;background-color: white;}#sk-container-id-5 div.sk-label label {font-family: monospace;font-weight: bold;display: inline-block;line-height: 1.2em;}#sk-container-id-5 div.sk-label-container {text-align: center;}#sk-container-id-5 div.sk-container {/* jupyter's `normalize.less` sets `[hidden] { display: none; }` but bootstrap.min.css set `[hidden] { display: none !important; }` so we also need the `!important` here to be able to override the default hidden behavior on the sphinx rendered scikit-learn.org. See: https://github.com/scikit-learn/scikit-learn/issues/21755 */display: inline-block !important;position: relative;}#sk-container-id-5 div.sk-text-repr-fallback {display: none;}</style><div id=\"sk-container-id-5\" class=\"sk-top-container\"><div class=\"sk-text-repr-fallback\"><pre>GradientBoostingRegressor(random_state=42)</pre><b>In a Jupyter environment, please rerun this cell to show the HTML representation or trust the notebook. <br />On GitHub, the HTML representation is unable to render, please try loading this page with nbviewer.org.</b></div><div class=\"sk-container\" hidden><div class=\"sk-item\"><div class=\"sk-estimator sk-toggleable\"><input class=\"sk-toggleable__control sk-hidden--visually\" id=\"sk-estimator-id-9\" type=\"checkbox\" checked><label for=\"sk-estimator-id-9\" class=\"sk-toggleable__label sk-toggleable__label-arrow\">GradientBoostingRegressor</label><div class=\"sk-toggleable__content\"><pre>GradientBoostingRegressor(random_state=42)</pre></div></div></div></div></div>"
      ],
      "text/plain": [
       "GradientBoostingRegressor(random_state=42)"
      ]
     },
     "execution_count": 35,
     "metadata": {},
     "output_type": "execute_result"
    }
   ],
   "source": [
    "from sklearn.ensemble import GradientBoostingRegressor\n",
    "\n",
    "model_gbrt_KOL = GradientBoostingRegressor(n_estimators=100, random_state=42)\n",
    "\n",
    "model_gbrt_KOL.fit(X_train, y_train_KOL)"
   ]
  },
  {
   "cell_type": "markdown",
   "metadata": {},
   "source": [
    "* 模型评估"
   ]
  },
  {
   "cell_type": "code",
   "execution_count": 36,
   "metadata": {},
   "outputs": [
    {
     "name": "stdout",
     "output_type": "stream",
     "text": [
      "Mean Squared Error for KOL_Estimated: 9.300177214116574e-05\n"
     ]
    }
   ],
   "source": [
    "y_pred_KOL = model_gbrt_KOL.predict(X_test)\n",
    "\n",
    "mse_gbrt_KOL = mean_squared_error(y_test_KOL, y_pred_KOL)\n",
    "\n",
    "print(f\"Mean Squared Error for KOL_Estimated: {mse_gbrt_KOL}\")"
   ]
  },
  {
   "cell_type": "code",
   "execution_count": 37,
   "metadata": {},
   "outputs": [
    {
     "name": "stdout",
     "output_type": "stream",
     "text": [
      "Average Mean Squared Error for KOL_Estimated: 0.00014708803130337688\n"
     ]
    }
   ],
   "source": [
    "result_gbrt_KOL = cross_validate(model_gbrt_KOL, features, y_KOL, cv=5, scoring='neg_mean_squared_error')\n",
    "mse_scores_gbrt_KOL = -result_gbrt_KOL['test_score']\n",
    "print(\"Average Mean Squared Error for KOL_Estimated:\", mse_scores_gbrt_KOL.mean())"
   ]
  },
  {
   "cell_type": "markdown",
   "metadata": {},
   "source": [
    "* 调整超参数，找到最优参数"
   ]
  },
  {
   "cell_type": "code",
   "execution_count": 38,
   "metadata": {},
   "outputs": [
    {
     "data": {
      "text/plain": [
       "{'alpha': 0.9,\n",
       " 'ccp_alpha': 0.0,\n",
       " 'criterion': 'friedman_mse',\n",
       " 'init': None,\n",
       " 'learning_rate': 0.1,\n",
       " 'loss': 'squared_error',\n",
       " 'max_depth': 3,\n",
       " 'max_features': None,\n",
       " 'max_leaf_nodes': None,\n",
       " 'min_impurity_decrease': 0.0,\n",
       " 'min_samples_leaf': 1,\n",
       " 'min_samples_split': 2,\n",
       " 'min_weight_fraction_leaf': 0.0,\n",
       " 'n_estimators': 100,\n",
       " 'n_iter_no_change': None,\n",
       " 'random_state': 42,\n",
       " 'subsample': 1.0,\n",
       " 'tol': 0.0001,\n",
       " 'validation_fraction': 0.1,\n",
       " 'verbose': 0,\n",
       " 'warm_start': False}"
      ]
     },
     "execution_count": 38,
     "metadata": {},
     "output_type": "execute_result"
    }
   ],
   "source": [
    "model_gbrt_KOL.get_params()"
   ]
  },
  {
   "cell_type": "code",
   "execution_count": 39,
   "metadata": {},
   "outputs": [
    {
     "name": "stdout",
     "output_type": "stream",
     "text": [
      "Best parameters found:  {'alpha': 0.5, 'ccp_alpha': 0.0, 'criterion': 'squared_error', 'learning_rate': 0.1, 'loss': 'squared_error', 'max_depth': 3, 'max_features': 'sqrt', 'n_estimators': 200}\n"
     ]
    }
   ],
   "source": [
    "param_grid = {\n",
    "    'n_estimators': [100, 200, 300],\n",
    "    'learning_rate': [0.01, 0.1, 0.2],\n",
    "    'max_depth': [2, 3, 4, 5],\n",
    "    'max_features': ['auto', 'sqrt', 'log2'],\n",
    "    'alpha': [0.5, 0.9],\n",
    "    'ccp_alpha': [0.0, 0.01],\n",
    "    'criterion': ['friedman_mse', 'squared_error'],\n",
    "    'learning_rate': [0.001, 0.01, 0.1],\n",
    "    'loss': ['squared_error', 'absolute_error', 'huber']\n",
    "}\n",
    "\n",
    "gbrt = GradientBoostingRegressor(random_state=42)\n",
    "\n",
    "grid_search = GridSearchCV(\n",
    "    estimator=gbrt,\n",
    "    param_grid=param_grid,\n",
    "    scoring='neg_mean_squared_error',\n",
    "    cv=5,\n",
    "    n_jobs=-1\n",
    ")\n",
    "\n",
    "grid_search.fit(X_train, y_train_KOL)\n",
    "\n",
    "print(\"Best parameters found: \", grid_search.best_params_)\n",
    "\n",
    "best_model_gbrt_KOL = grid_search.best_estimator_"
   ]
  },
  {
   "cell_type": "code",
   "execution_count": 40,
   "metadata": {},
   "outputs": [
    {
     "data": {
      "text/plain": [
       "{'alpha': 0.5,\n",
       " 'ccp_alpha': 0.0,\n",
       " 'criterion': 'squared_error',\n",
       " 'init': None,\n",
       " 'learning_rate': 0.1,\n",
       " 'loss': 'squared_error',\n",
       " 'max_depth': 3,\n",
       " 'max_features': 'sqrt',\n",
       " 'max_leaf_nodes': None,\n",
       " 'min_impurity_decrease': 0.0,\n",
       " 'min_samples_leaf': 1,\n",
       " 'min_samples_split': 2,\n",
       " 'min_weight_fraction_leaf': 0.0,\n",
       " 'n_estimators': 200,\n",
       " 'n_iter_no_change': None,\n",
       " 'random_state': 42,\n",
       " 'subsample': 1.0,\n",
       " 'tol': 0.0001,\n",
       " 'validation_fraction': 0.1,\n",
       " 'verbose': 0,\n",
       " 'warm_start': False}"
      ]
     },
     "execution_count": 40,
     "metadata": {},
     "output_type": "execute_result"
    }
   ],
   "source": [
    "best_model_gbrt_KOL.get_params()"
   ]
  },
  {
   "cell_type": "markdown",
   "metadata": {},
   "source": [
    "* 模型再评估"
   ]
  },
  {
   "cell_type": "code",
   "execution_count": 41,
   "metadata": {},
   "outputs": [
    {
     "name": "stdout",
     "output_type": "stream",
     "text": [
      "Mean Squared Error for KOL_Estimated: 8.054630847210078e-05\n"
     ]
    }
   ],
   "source": [
    "y_pred_KOL = best_model_gbrt_KOL.predict(X_test)\n",
    "\n",
    "mse_gbrt_KOL_best = mean_squared_error(y_test_KOL, y_pred_KOL)\n",
    "\n",
    "print(f\"Mean Squared Error for KOL_Estimated: {mse_gbrt_KOL_best}\")"
   ]
  },
  {
   "cell_type": "code",
   "execution_count": 42,
   "metadata": {},
   "outputs": [
    {
     "name": "stdout",
     "output_type": "stream",
     "text": [
      "Average Mean Squared Error for KOL_Estimated: 0.0001349974906439627\n"
     ]
    }
   ],
   "source": [
    "result_gbrt_KOL_best = cross_validate(best_model_gbrt_KOL, features, y_KOL, cv=5, scoring='neg_mean_squared_error')\n",
    "mse_scores_gbrt_KOL_best = -result_gbrt_KOL_best['test_score']\n",
    "print(\"Average Mean Squared Error for KOL_Estimated:\", mse_scores_gbrt_KOL_best.mean())"
   ]
  },
  {
   "cell_type": "markdown",
   "metadata": {},
   "source": [
    "### 创建并训练模型 (Transfer_Estimated)"
   ]
  },
  {
   "cell_type": "code",
   "execution_count": 43,
   "metadata": {},
   "outputs": [
    {
     "data": {
      "text/html": [
       "<style>#sk-container-id-6 {color: black;background-color: white;}#sk-container-id-6 pre{padding: 0;}#sk-container-id-6 div.sk-toggleable {background-color: white;}#sk-container-id-6 label.sk-toggleable__label {cursor: pointer;display: block;width: 100%;margin-bottom: 0;padding: 0.3em;box-sizing: border-box;text-align: center;}#sk-container-id-6 label.sk-toggleable__label-arrow:before {content: \"▸\";float: left;margin-right: 0.25em;color: #696969;}#sk-container-id-6 label.sk-toggleable__label-arrow:hover:before {color: black;}#sk-container-id-6 div.sk-estimator:hover label.sk-toggleable__label-arrow:before {color: black;}#sk-container-id-6 div.sk-toggleable__content {max-height: 0;max-width: 0;overflow: hidden;text-align: left;background-color: #f0f8ff;}#sk-container-id-6 div.sk-toggleable__content pre {margin: 0.2em;color: black;border-radius: 0.25em;background-color: #f0f8ff;}#sk-container-id-6 input.sk-toggleable__control:checked~div.sk-toggleable__content {max-height: 200px;max-width: 100%;overflow: auto;}#sk-container-id-6 input.sk-toggleable__control:checked~label.sk-toggleable__label-arrow:before {content: \"▾\";}#sk-container-id-6 div.sk-estimator input.sk-toggleable__control:checked~label.sk-toggleable__label {background-color: #d4ebff;}#sk-container-id-6 div.sk-label input.sk-toggleable__control:checked~label.sk-toggleable__label {background-color: #d4ebff;}#sk-container-id-6 input.sk-hidden--visually {border: 0;clip: rect(1px 1px 1px 1px);clip: rect(1px, 1px, 1px, 1px);height: 1px;margin: -1px;overflow: hidden;padding: 0;position: absolute;width: 1px;}#sk-container-id-6 div.sk-estimator {font-family: monospace;background-color: #f0f8ff;border: 1px dotted black;border-radius: 0.25em;box-sizing: border-box;margin-bottom: 0.5em;}#sk-container-id-6 div.sk-estimator:hover {background-color: #d4ebff;}#sk-container-id-6 div.sk-parallel-item::after {content: \"\";width: 100%;border-bottom: 1px solid gray;flex-grow: 1;}#sk-container-id-6 div.sk-label:hover label.sk-toggleable__label {background-color: #d4ebff;}#sk-container-id-6 div.sk-serial::before {content: \"\";position: absolute;border-left: 1px solid gray;box-sizing: border-box;top: 0;bottom: 0;left: 50%;z-index: 0;}#sk-container-id-6 div.sk-serial {display: flex;flex-direction: column;align-items: center;background-color: white;padding-right: 0.2em;padding-left: 0.2em;position: relative;}#sk-container-id-6 div.sk-item {position: relative;z-index: 1;}#sk-container-id-6 div.sk-parallel {display: flex;align-items: stretch;justify-content: center;background-color: white;position: relative;}#sk-container-id-6 div.sk-item::before, #sk-container-id-6 div.sk-parallel-item::before {content: \"\";position: absolute;border-left: 1px solid gray;box-sizing: border-box;top: 0;bottom: 0;left: 50%;z-index: -1;}#sk-container-id-6 div.sk-parallel-item {display: flex;flex-direction: column;z-index: 1;position: relative;background-color: white;}#sk-container-id-6 div.sk-parallel-item:first-child::after {align-self: flex-end;width: 50%;}#sk-container-id-6 div.sk-parallel-item:last-child::after {align-self: flex-start;width: 50%;}#sk-container-id-6 div.sk-parallel-item:only-child::after {width: 0;}#sk-container-id-6 div.sk-dashed-wrapped {border: 1px dashed gray;margin: 0 0.4em 0.5em 0.4em;box-sizing: border-box;padding-bottom: 0.4em;background-color: white;}#sk-container-id-6 div.sk-label label {font-family: monospace;font-weight: bold;display: inline-block;line-height: 1.2em;}#sk-container-id-6 div.sk-label-container {text-align: center;}#sk-container-id-6 div.sk-container {/* jupyter's `normalize.less` sets `[hidden] { display: none; }` but bootstrap.min.css set `[hidden] { display: none !important; }` so we also need the `!important` here to be able to override the default hidden behavior on the sphinx rendered scikit-learn.org. See: https://github.com/scikit-learn/scikit-learn/issues/21755 */display: inline-block !important;position: relative;}#sk-container-id-6 div.sk-text-repr-fallback {display: none;}</style><div id=\"sk-container-id-6\" class=\"sk-top-container\"><div class=\"sk-text-repr-fallback\"><pre>GradientBoostingRegressor(random_state=42)</pre><b>In a Jupyter environment, please rerun this cell to show the HTML representation or trust the notebook. <br />On GitHub, the HTML representation is unable to render, please try loading this page with nbviewer.org.</b></div><div class=\"sk-container\" hidden><div class=\"sk-item\"><div class=\"sk-estimator sk-toggleable\"><input class=\"sk-toggleable__control sk-hidden--visually\" id=\"sk-estimator-id-10\" type=\"checkbox\" checked><label for=\"sk-estimator-id-10\" class=\"sk-toggleable__label sk-toggleable__label-arrow\">GradientBoostingRegressor</label><div class=\"sk-toggleable__content\"><pre>GradientBoostingRegressor(random_state=42)</pre></div></div></div></div></div>"
      ],
      "text/plain": [
       "GradientBoostingRegressor(random_state=42)"
      ]
     },
     "execution_count": 43,
     "metadata": {},
     "output_type": "execute_result"
    }
   ],
   "source": [
    "model_gbrt_Transfer = GradientBoostingRegressor(n_estimators=100, random_state=42)\n",
    "\n",
    "model_gbrt_Transfer.fit(X_train, y_train_Transfer)"
   ]
  },
  {
   "cell_type": "markdown",
   "metadata": {},
   "source": [
    "* 模型评估"
   ]
  },
  {
   "cell_type": "code",
   "execution_count": 44,
   "metadata": {},
   "outputs": [
    {
     "name": "stdout",
     "output_type": "stream",
     "text": [
      "Mean Squared Error for Transfer_Estimated: 0.00012015931100843848\n"
     ]
    }
   ],
   "source": [
    "y_pred_Transfer = model_gbrt_Transfer.predict(X_test)\n",
    "\n",
    "mse_gbrt_Transfer = mean_squared_error(y_test_Transfer, y_pred_Transfer)\n",
    "\n",
    "print(f\"Mean Squared Error for Transfer_Estimated: {mse_gbrt_Transfer}\")"
   ]
  },
  {
   "cell_type": "code",
   "execution_count": 45,
   "metadata": {},
   "outputs": [
    {
     "name": "stdout",
     "output_type": "stream",
     "text": [
      "Average Mean Squared Error: 0.00010680934423532438\n"
     ]
    }
   ],
   "source": [
    "result_gbrt_Transfer = cross_validate(model_gbrt_Transfer, features, y_Transfer, cv=5, scoring='neg_mean_squared_error')\n",
    "mse_scores_gbrt_Transfer = -result_gbrt_Transfer['test_score']\n",
    "print(\"Average Mean Squared Error:\", mse_scores_gbrt_Transfer.mean())"
   ]
  },
  {
   "cell_type": "markdown",
   "metadata": {},
   "source": [
    "* 调整超参数，找到最优参数"
   ]
  },
  {
   "cell_type": "code",
   "execution_count": 46,
   "metadata": {},
   "outputs": [
    {
     "name": "stdout",
     "output_type": "stream",
     "text": [
      "Best parameters found:  {'alpha': 0.4, 'ccp_alpha': 0.0, 'criterion': 'squared_error', 'learning_rate': 0.1, 'loss': 'squared_error', 'max_depth': 3, 'max_features': 'sqrt', 'n_estimators': 200}\n"
     ]
    }
   ],
   "source": [
    "param_grid = {\n",
    "    'n_estimators': [100, 200, 300],\n",
    "    'learning_rate': [0.01, 0.1, 0.2],\n",
    "    'max_depth': [2, 3, 4, 5],\n",
    "    'max_features': ['auto', 'sqrt', 'log2'],\n",
    "    'alpha': [0.4, 0.5, 0.9],\n",
    "    'ccp_alpha': [0.0, 0.01],\n",
    "    'criterion': ['friedman_mse', 'squared_error'],\n",
    "    'learning_rate': [0.001, 0.01, 0.1],\n",
    "    'loss': ['squared_error', 'absolute_error', 'huber']\n",
    "}\n",
    "\n",
    "gbrt = GradientBoostingRegressor(random_state=42)\n",
    "\n",
    "grid_search = GridSearchCV(\n",
    "    estimator=gbrt,\n",
    "    param_grid=param_grid,\n",
    "    scoring='neg_mean_squared_error',\n",
    "    cv=5,\n",
    "    n_jobs=-1\n",
    ")\n",
    "\n",
    "grid_search.fit(X_train, y_train_KOL)\n",
    "\n",
    "print(\"Best parameters found: \", grid_search.best_params_)\n",
    "\n",
    "best_model_gbrt_Transfer = grid_search.best_estimator_"
   ]
  },
  {
   "cell_type": "markdown",
   "metadata": {},
   "source": [
    "* 模型再评估"
   ]
  },
  {
   "cell_type": "code",
   "execution_count": 47,
   "metadata": {},
   "outputs": [
    {
     "name": "stdout",
     "output_type": "stream",
     "text": [
      "Mean Squared Error for Transfer_Estimated: 8.66514027269132e-05\n"
     ]
    }
   ],
   "source": [
    "y_pred_Transfer = best_model_gbrt_Transfer.predict(X_test)\n",
    "\n",
    "mse_gbrt_Transfer_best = mean_squared_error(y_test_Transfer, y_pred_Transfer)\n",
    "\n",
    "print(f\"Mean Squared Error for Transfer_Estimated: {mse_gbrt_Transfer_best}\")"
   ]
  },
  {
   "cell_type": "code",
   "execution_count": 48,
   "metadata": {},
   "outputs": [
    {
     "name": "stdout",
     "output_type": "stream",
     "text": [
      "Average Mean Squared Error for Transfer_Estimated: 0.00012591712384243063\n"
     ]
    }
   ],
   "source": [
    "result_gbrt_Transfer_best = cross_validate(best_model_gbrt_Transfer, features, y_Transfer, cv=5, scoring='neg_mean_squared_error')\n",
    "mse_scores_gbrt_Transfer_best = -result_gbrt_Transfer_best['test_score']\n",
    "print(\"Average Mean Squared Error for Transfer_Estimated:\", mse_scores_gbrt_Transfer_best.mean())"
   ]
  },
  {
   "cell_type": "markdown",
   "metadata": {},
   "source": [
    "# Bagging回归"
   ]
  },
  {
   "cell_type": "markdown",
   "metadata": {},
   "source": [
    "### 创建并训练模型"
   ]
  },
  {
   "cell_type": "code",
   "execution_count": 49,
   "metadata": {},
   "outputs": [
    {
     "data": {
      "text/html": [
       "<style>#sk-container-id-7 {color: black;background-color: white;}#sk-container-id-7 pre{padding: 0;}#sk-container-id-7 div.sk-toggleable {background-color: white;}#sk-container-id-7 label.sk-toggleable__label {cursor: pointer;display: block;width: 100%;margin-bottom: 0;padding: 0.3em;box-sizing: border-box;text-align: center;}#sk-container-id-7 label.sk-toggleable__label-arrow:before {content: \"▸\";float: left;margin-right: 0.25em;color: #696969;}#sk-container-id-7 label.sk-toggleable__label-arrow:hover:before {color: black;}#sk-container-id-7 div.sk-estimator:hover label.sk-toggleable__label-arrow:before {color: black;}#sk-container-id-7 div.sk-toggleable__content {max-height: 0;max-width: 0;overflow: hidden;text-align: left;background-color: #f0f8ff;}#sk-container-id-7 div.sk-toggleable__content pre {margin: 0.2em;color: black;border-radius: 0.25em;background-color: #f0f8ff;}#sk-container-id-7 input.sk-toggleable__control:checked~div.sk-toggleable__content {max-height: 200px;max-width: 100%;overflow: auto;}#sk-container-id-7 input.sk-toggleable__control:checked~label.sk-toggleable__label-arrow:before {content: \"▾\";}#sk-container-id-7 div.sk-estimator input.sk-toggleable__control:checked~label.sk-toggleable__label {background-color: #d4ebff;}#sk-container-id-7 div.sk-label input.sk-toggleable__control:checked~label.sk-toggleable__label {background-color: #d4ebff;}#sk-container-id-7 input.sk-hidden--visually {border: 0;clip: rect(1px 1px 1px 1px);clip: rect(1px, 1px, 1px, 1px);height: 1px;margin: -1px;overflow: hidden;padding: 0;position: absolute;width: 1px;}#sk-container-id-7 div.sk-estimator {font-family: monospace;background-color: #f0f8ff;border: 1px dotted black;border-radius: 0.25em;box-sizing: border-box;margin-bottom: 0.5em;}#sk-container-id-7 div.sk-estimator:hover {background-color: #d4ebff;}#sk-container-id-7 div.sk-parallel-item::after {content: \"\";width: 100%;border-bottom: 1px solid gray;flex-grow: 1;}#sk-container-id-7 div.sk-label:hover label.sk-toggleable__label {background-color: #d4ebff;}#sk-container-id-7 div.sk-serial::before {content: \"\";position: absolute;border-left: 1px solid gray;box-sizing: border-box;top: 0;bottom: 0;left: 50%;z-index: 0;}#sk-container-id-7 div.sk-serial {display: flex;flex-direction: column;align-items: center;background-color: white;padding-right: 0.2em;padding-left: 0.2em;position: relative;}#sk-container-id-7 div.sk-item {position: relative;z-index: 1;}#sk-container-id-7 div.sk-parallel {display: flex;align-items: stretch;justify-content: center;background-color: white;position: relative;}#sk-container-id-7 div.sk-item::before, #sk-container-id-7 div.sk-parallel-item::before {content: \"\";position: absolute;border-left: 1px solid gray;box-sizing: border-box;top: 0;bottom: 0;left: 50%;z-index: -1;}#sk-container-id-7 div.sk-parallel-item {display: flex;flex-direction: column;z-index: 1;position: relative;background-color: white;}#sk-container-id-7 div.sk-parallel-item:first-child::after {align-self: flex-end;width: 50%;}#sk-container-id-7 div.sk-parallel-item:last-child::after {align-self: flex-start;width: 50%;}#sk-container-id-7 div.sk-parallel-item:only-child::after {width: 0;}#sk-container-id-7 div.sk-dashed-wrapped {border: 1px dashed gray;margin: 0 0.4em 0.5em 0.4em;box-sizing: border-box;padding-bottom: 0.4em;background-color: white;}#sk-container-id-7 div.sk-label label {font-family: monospace;font-weight: bold;display: inline-block;line-height: 1.2em;}#sk-container-id-7 div.sk-label-container {text-align: center;}#sk-container-id-7 div.sk-container {/* jupyter's `normalize.less` sets `[hidden] { display: none; }` but bootstrap.min.css set `[hidden] { display: none !important; }` so we also need the `!important` here to be able to override the default hidden behavior on the sphinx rendered scikit-learn.org. See: https://github.com/scikit-learn/scikit-learn/issues/21755 */display: inline-block !important;position: relative;}#sk-container-id-7 div.sk-text-repr-fallback {display: none;}</style><div id=\"sk-container-id-7\" class=\"sk-top-container\"><div class=\"sk-text-repr-fallback\"><pre>BaggingRegressor(base_estimator=DecisionTreeRegressor(), random_state=42)</pre><b>In a Jupyter environment, please rerun this cell to show the HTML representation or trust the notebook. <br />On GitHub, the HTML representation is unable to render, please try loading this page with nbviewer.org.</b></div><div class=\"sk-container\" hidden><div class=\"sk-item sk-dashed-wrapped\"><div class=\"sk-label-container\"><div class=\"sk-label sk-toggleable\"><input class=\"sk-toggleable__control sk-hidden--visually\" id=\"sk-estimator-id-11\" type=\"checkbox\" ><label for=\"sk-estimator-id-11\" class=\"sk-toggleable__label sk-toggleable__label-arrow\">BaggingRegressor</label><div class=\"sk-toggleable__content\"><pre>BaggingRegressor(base_estimator=DecisionTreeRegressor(), random_state=42)</pre></div></div></div><div class=\"sk-parallel\"><div class=\"sk-parallel-item\"><div class=\"sk-item\"><div class=\"sk-label-container\"><div class=\"sk-label sk-toggleable\"><input class=\"sk-toggleable__control sk-hidden--visually\" id=\"sk-estimator-id-12\" type=\"checkbox\" ><label for=\"sk-estimator-id-12\" class=\"sk-toggleable__label sk-toggleable__label-arrow\">base_estimator: DecisionTreeRegressor</label><div class=\"sk-toggleable__content\"><pre>DecisionTreeRegressor()</pre></div></div></div><div class=\"sk-serial\"><div class=\"sk-item\"><div class=\"sk-estimator sk-toggleable\"><input class=\"sk-toggleable__control sk-hidden--visually\" id=\"sk-estimator-id-13\" type=\"checkbox\" ><label for=\"sk-estimator-id-13\" class=\"sk-toggleable__label sk-toggleable__label-arrow\">DecisionTreeRegressor</label><div class=\"sk-toggleable__content\"><pre>DecisionTreeRegressor()</pre></div></div></div></div></div></div></div></div></div></div>"
      ],
      "text/plain": [
       "BaggingRegressor(base_estimator=DecisionTreeRegressor(), random_state=42)"
      ]
     },
     "execution_count": 49,
     "metadata": {},
     "output_type": "execute_result"
    }
   ],
   "source": [
    "from sklearn.ensemble import BaggingRegressor\n",
    "from sklearn.tree import DecisionTreeRegressor\n",
    "\n",
    "base_regressor = DecisionTreeRegressor()\n",
    "model_bagg = BaggingRegressor(base_estimator=base_regressor, n_estimators=10, random_state=42)\n",
    "\n",
    "model_bagg.fit(X_train, y_train)"
   ]
  },
  {
   "cell_type": "markdown",
   "metadata": {},
   "source": [
    "### 模型评估"
   ]
  },
  {
   "cell_type": "code",
   "execution_count": 50,
   "metadata": {},
   "outputs": [
    {
     "name": "stdout",
     "output_type": "stream",
     "text": [
      "Mean Squared Error for KOL_Estimated: 0.00012175500000000027\n",
      "Mean Squared Error for Transfer_Estimated: 0.00011500000000000022\n"
     ]
    }
   ],
   "source": [
    "y_pred = model_bagg.predict(X_test)\n",
    "\n",
    "mse_bagg = mean_squared_error(y_test, y_pred, multioutput='raw_values')\n",
    "print(f\"Mean Squared Error for KOL_Estimated: {mse_bagg[0]}\")\n",
    "print(f\"Mean Squared Error for Transfer_Estimated: {mse_bagg[1]}\")"
   ]
  },
  {
   "cell_type": "code",
   "execution_count": 51,
   "metadata": {},
   "outputs": [
    {
     "name": "stdout",
     "output_type": "stream",
     "text": [
      "Average Mean Squared Error: 0.00023726324999999996\n"
     ]
    }
   ],
   "source": [
    "result_bagg = cross_validate(model_bagg, features, target, cv=5, scoring='neg_mean_squared_error')\n",
    "mse_scores_bagg = -result_bagg['test_score']\n",
    "print(\"Average Mean Squared Error:\", mse_scores_bagg.mean())"
   ]
  },
  {
   "cell_type": "markdown",
   "metadata": {},
   "source": [
    "### 调整超参数，找到最优参数"
   ]
  },
  {
   "cell_type": "code",
   "execution_count": 52,
   "metadata": {},
   "outputs": [
    {
     "data": {
      "text/plain": [
       "{'base_estimator__ccp_alpha': 0.0,\n",
       " 'base_estimator__criterion': 'squared_error',\n",
       " 'base_estimator__max_depth': None,\n",
       " 'base_estimator__max_features': None,\n",
       " 'base_estimator__max_leaf_nodes': None,\n",
       " 'base_estimator__min_impurity_decrease': 0.0,\n",
       " 'base_estimator__min_samples_leaf': 1,\n",
       " 'base_estimator__min_samples_split': 2,\n",
       " 'base_estimator__min_weight_fraction_leaf': 0.0,\n",
       " 'base_estimator__random_state': None,\n",
       " 'base_estimator__splitter': 'best',\n",
       " 'base_estimator': DecisionTreeRegressor(),\n",
       " 'bootstrap': True,\n",
       " 'bootstrap_features': False,\n",
       " 'max_features': 1.0,\n",
       " 'max_samples': 1.0,\n",
       " 'n_estimators': 10,\n",
       " 'n_jobs': None,\n",
       " 'oob_score': False,\n",
       " 'random_state': 42,\n",
       " 'verbose': 0,\n",
       " 'warm_start': False}"
      ]
     },
     "execution_count": 52,
     "metadata": {},
     "output_type": "execute_result"
    }
   ],
   "source": [
    "model_bagg.get_params()"
   ]
  },
  {
   "cell_type": "code",
   "execution_count": 53,
   "metadata": {},
   "outputs": [
    {
     "name": "stdout",
     "output_type": "stream",
     "text": [
      "Best parameters found:  {'base_estimator__criterion': 'absolute_error', 'bootstrap': False, 'bootstrap_features': True, 'max_features': 0.7, 'max_samples': 1.0, 'n_estimators': 250}\n"
     ]
    }
   ],
   "source": [
    "param_grid = {\n",
    "    'n_estimators': [100, 150, 200, 250],\n",
    "    'max_samples': [0.1, 1.0, 10],\n",
    "    'max_features': [.5, 0.7, 1],\n",
    "    'bootstrap': [True, False],\n",
    "    'bootstrap_features': [True, False],\n",
    "    'base_estimator__criterion': ['squared_error', 'absolute_error'],\n",
    "}\n",
    "\n",
    "bagging_regressor = BaggingRegressor(base_estimator=base_regressor, random_state=42)\n",
    "\n",
    "grid_search = GridSearchCV(\n",
    "    estimator=bagging_regressor,\n",
    "    param_grid=param_grid,\n",
    "    scoring='neg_mean_squared_error',\n",
    "    cv=5,\n",
    "    n_jobs=-1,\n",
    "    error_score='raise'\n",
    ")\n",
    "\n",
    "grid_search.fit(X_train, y_train)\n",
    "\n",
    "print(\"Best parameters found: \", grid_search.best_params_)\n",
    "\n",
    "best_model_bagg = grid_search.best_estimator_"
   ]
  },
  {
   "cell_type": "code",
   "execution_count": 54,
   "metadata": {},
   "outputs": [
    {
     "data": {
      "text/plain": [
       "{'base_estimator__ccp_alpha': 0.0,\n",
       " 'base_estimator__criterion': 'absolute_error',\n",
       " 'base_estimator__max_depth': None,\n",
       " 'base_estimator__max_features': None,\n",
       " 'base_estimator__max_leaf_nodes': None,\n",
       " 'base_estimator__min_impurity_decrease': 0.0,\n",
       " 'base_estimator__min_samples_leaf': 1,\n",
       " 'base_estimator__min_samples_split': 2,\n",
       " 'base_estimator__min_weight_fraction_leaf': 0.0,\n",
       " 'base_estimator__random_state': None,\n",
       " 'base_estimator__splitter': 'best',\n",
       " 'base_estimator': DecisionTreeRegressor(criterion='absolute_error'),\n",
       " 'bootstrap': False,\n",
       " 'bootstrap_features': True,\n",
       " 'max_features': 0.7,\n",
       " 'max_samples': 1.0,\n",
       " 'n_estimators': 250,\n",
       " 'n_jobs': None,\n",
       " 'oob_score': False,\n",
       " 'random_state': 42,\n",
       " 'verbose': 0,\n",
       " 'warm_start': False}"
      ]
     },
     "execution_count": 54,
     "metadata": {},
     "output_type": "execute_result"
    }
   ],
   "source": [
    "best_model_bagg.get_params()"
   ]
  },
  {
   "cell_type": "markdown",
   "metadata": {},
   "source": [
    "### 再次进行评估"
   ]
  },
  {
   "cell_type": "code",
   "execution_count": 55,
   "metadata": {},
   "outputs": [
    {
     "name": "stdout",
     "output_type": "stream",
     "text": [
      "Mean Squared Error for KOL_Estimated: 0.00010126018399999611\n",
      "Mean Squared Error for Transfer_Estimated: 9.531360000000292e-05\n"
     ]
    }
   ],
   "source": [
    "y_pred = best_model_bagg.predict(X_test)\n",
    "\n",
    "mse_bagg_best = mean_squared_error(y_test, y_pred, multioutput='raw_values')\n",
    "print(f\"Mean Squared Error for KOL_Estimated: {mse_bagg_best[0]}\")\n",
    "print(f\"Mean Squared Error for Transfer_Estimated: {mse_bagg_best[1]}\")"
   ]
  },
  {
   "cell_type": "code",
   "execution_count": 56,
   "metadata": {},
   "outputs": [
    {
     "name": "stdout",
     "output_type": "stream",
     "text": [
      "Average Mean Squared Error: 9.558398599999897e-05\n"
     ]
    }
   ],
   "source": [
    "result_bagg_best = cross_validate(best_model_bagg, features, target, cv=5, scoring='neg_mean_squared_error')\n",
    "mse_scores_bagg_best = -result_bagg_best['test_score']\n",
    "print(\"Average Mean Squared Error:\", mse_scores_bagg_best.mean())"
   ]
  },
  {
   "cell_type": "markdown",
   "metadata": {},
   "source": [
    "# ExtraTree 极端随机数回归"
   ]
  },
  {
   "cell_type": "markdown",
   "metadata": {},
   "source": [
    "### 创建并训练模型"
   ]
  },
  {
   "cell_type": "code",
   "execution_count": 57,
   "metadata": {},
   "outputs": [
    {
     "data": {
      "text/html": [
       "<style>#sk-container-id-8 {color: black;background-color: white;}#sk-container-id-8 pre{padding: 0;}#sk-container-id-8 div.sk-toggleable {background-color: white;}#sk-container-id-8 label.sk-toggleable__label {cursor: pointer;display: block;width: 100%;margin-bottom: 0;padding: 0.3em;box-sizing: border-box;text-align: center;}#sk-container-id-8 label.sk-toggleable__label-arrow:before {content: \"▸\";float: left;margin-right: 0.25em;color: #696969;}#sk-container-id-8 label.sk-toggleable__label-arrow:hover:before {color: black;}#sk-container-id-8 div.sk-estimator:hover label.sk-toggleable__label-arrow:before {color: black;}#sk-container-id-8 div.sk-toggleable__content {max-height: 0;max-width: 0;overflow: hidden;text-align: left;background-color: #f0f8ff;}#sk-container-id-8 div.sk-toggleable__content pre {margin: 0.2em;color: black;border-radius: 0.25em;background-color: #f0f8ff;}#sk-container-id-8 input.sk-toggleable__control:checked~div.sk-toggleable__content {max-height: 200px;max-width: 100%;overflow: auto;}#sk-container-id-8 input.sk-toggleable__control:checked~label.sk-toggleable__label-arrow:before {content: \"▾\";}#sk-container-id-8 div.sk-estimator input.sk-toggleable__control:checked~label.sk-toggleable__label {background-color: #d4ebff;}#sk-container-id-8 div.sk-label input.sk-toggleable__control:checked~label.sk-toggleable__label {background-color: #d4ebff;}#sk-container-id-8 input.sk-hidden--visually {border: 0;clip: rect(1px 1px 1px 1px);clip: rect(1px, 1px, 1px, 1px);height: 1px;margin: -1px;overflow: hidden;padding: 0;position: absolute;width: 1px;}#sk-container-id-8 div.sk-estimator {font-family: monospace;background-color: #f0f8ff;border: 1px dotted black;border-radius: 0.25em;box-sizing: border-box;margin-bottom: 0.5em;}#sk-container-id-8 div.sk-estimator:hover {background-color: #d4ebff;}#sk-container-id-8 div.sk-parallel-item::after {content: \"\";width: 100%;border-bottom: 1px solid gray;flex-grow: 1;}#sk-container-id-8 div.sk-label:hover label.sk-toggleable__label {background-color: #d4ebff;}#sk-container-id-8 div.sk-serial::before {content: \"\";position: absolute;border-left: 1px solid gray;box-sizing: border-box;top: 0;bottom: 0;left: 50%;z-index: 0;}#sk-container-id-8 div.sk-serial {display: flex;flex-direction: column;align-items: center;background-color: white;padding-right: 0.2em;padding-left: 0.2em;position: relative;}#sk-container-id-8 div.sk-item {position: relative;z-index: 1;}#sk-container-id-8 div.sk-parallel {display: flex;align-items: stretch;justify-content: center;background-color: white;position: relative;}#sk-container-id-8 div.sk-item::before, #sk-container-id-8 div.sk-parallel-item::before {content: \"\";position: absolute;border-left: 1px solid gray;box-sizing: border-box;top: 0;bottom: 0;left: 50%;z-index: -1;}#sk-container-id-8 div.sk-parallel-item {display: flex;flex-direction: column;z-index: 1;position: relative;background-color: white;}#sk-container-id-8 div.sk-parallel-item:first-child::after {align-self: flex-end;width: 50%;}#sk-container-id-8 div.sk-parallel-item:last-child::after {align-self: flex-start;width: 50%;}#sk-container-id-8 div.sk-parallel-item:only-child::after {width: 0;}#sk-container-id-8 div.sk-dashed-wrapped {border: 1px dashed gray;margin: 0 0.4em 0.5em 0.4em;box-sizing: border-box;padding-bottom: 0.4em;background-color: white;}#sk-container-id-8 div.sk-label label {font-family: monospace;font-weight: bold;display: inline-block;line-height: 1.2em;}#sk-container-id-8 div.sk-label-container {text-align: center;}#sk-container-id-8 div.sk-container {/* jupyter's `normalize.less` sets `[hidden] { display: none; }` but bootstrap.min.css set `[hidden] { display: none !important; }` so we also need the `!important` here to be able to override the default hidden behavior on the sphinx rendered scikit-learn.org. See: https://github.com/scikit-learn/scikit-learn/issues/21755 */display: inline-block !important;position: relative;}#sk-container-id-8 div.sk-text-repr-fallback {display: none;}</style><div id=\"sk-container-id-8\" class=\"sk-top-container\"><div class=\"sk-text-repr-fallback\"><pre>ExtraTreesRegressor(random_state=42)</pre><b>In a Jupyter environment, please rerun this cell to show the HTML representation or trust the notebook. <br />On GitHub, the HTML representation is unable to render, please try loading this page with nbviewer.org.</b></div><div class=\"sk-container\" hidden><div class=\"sk-item\"><div class=\"sk-estimator sk-toggleable\"><input class=\"sk-toggleable__control sk-hidden--visually\" id=\"sk-estimator-id-14\" type=\"checkbox\" checked><label for=\"sk-estimator-id-14\" class=\"sk-toggleable__label sk-toggleable__label-arrow\">ExtraTreesRegressor</label><div class=\"sk-toggleable__content\"><pre>ExtraTreesRegressor(random_state=42)</pre></div></div></div></div></div>"
      ],
      "text/plain": [
       "ExtraTreesRegressor(random_state=42)"
      ]
     },
     "execution_count": 57,
     "metadata": {},
     "output_type": "execute_result"
    }
   ],
   "source": [
    "from sklearn.ensemble import ExtraTreesRegressor\n",
    "\n",
    "model_et = ExtraTreesRegressor(n_estimators=100, random_state=42)\n",
    "\n",
    "model_et.fit(X_train, y_train)"
   ]
  },
  {
   "cell_type": "markdown",
   "metadata": {},
   "source": [
    "### 模型评估"
   ]
  },
  {
   "cell_type": "code",
   "execution_count": 58,
   "metadata": {},
   "outputs": [
    {
     "name": "stdout",
     "output_type": "stream",
     "text": [
      "Average Mean Squared Error: 0.00010430666000000051\n"
     ]
    }
   ],
   "source": [
    "result_et = cross_validate(model_et, features, target, cv=5, scoring='neg_mean_squared_error')\n",
    "mse_scores_et = -result_et['test_score']\n",
    "print(\"Average Mean Squared Error:\", mse_scores_et.mean())"
   ]
  },
  {
   "cell_type": "code",
   "execution_count": 59,
   "metadata": {},
   "outputs": [
    {
     "name": "stdout",
     "output_type": "stream",
     "text": [
      "Mean Squared Error for KOL_Estimated: 8.544372499999988e-05\n",
      "Mean Squared Error for Transfer_Estimated: 8.008000000000041e-05\n"
     ]
    }
   ],
   "source": [
    "y_pred = model_et.predict(X_test)\n",
    "\n",
    "mse_et = mean_squared_error(y_test, y_pred, multioutput='raw_values')\n",
    "print(f\"Mean Squared Error for KOL_Estimated: {mse_et[0]}\")\n",
    "print(f\"Mean Squared Error for Transfer_Estimated: {mse_et[1]}\")"
   ]
  },
  {
   "cell_type": "markdown",
   "metadata": {},
   "source": [
    "### 调整超参数，找到最优参数"
   ]
  },
  {
   "cell_type": "code",
   "execution_count": 60,
   "metadata": {},
   "outputs": [
    {
     "data": {
      "text/plain": [
       "{'bootstrap': False,\n",
       " 'ccp_alpha': 0.0,\n",
       " 'criterion': 'squared_error',\n",
       " 'max_depth': None,\n",
       " 'max_features': 1.0,\n",
       " 'max_leaf_nodes': None,\n",
       " 'max_samples': None,\n",
       " 'min_impurity_decrease': 0.0,\n",
       " 'min_samples_leaf': 1,\n",
       " 'min_samples_split': 2,\n",
       " 'min_weight_fraction_leaf': 0.0,\n",
       " 'n_estimators': 100,\n",
       " 'n_jobs': None,\n",
       " 'oob_score': False,\n",
       " 'random_state': 42,\n",
       " 'verbose': 0,\n",
       " 'warm_start': False}"
      ]
     },
     "execution_count": 60,
     "metadata": {},
     "output_type": "execute_result"
    }
   ],
   "source": [
    "model_et.get_params()"
   ]
  },
  {
   "cell_type": "code",
   "execution_count": 61,
   "metadata": {},
   "outputs": [
    {
     "name": "stdout",
     "output_type": "stream",
     "text": [
      "Best parameters found:  {'criterion': 'absolute_error', 'max_depth': None, 'max_leaf_nodes': None, 'min_samples_leaf': 1, 'min_samples_split': 2, 'n_estimators': 150}\n"
     ]
    }
   ],
   "source": [
    "param_grid = {\n",
    "    'n_estimators': [100, 150, 160],\n",
    "    'max_depth': [None, 10],\n",
    "    'min_samples_split': [2, 5],\n",
    "    'min_samples_leaf': [1, 2],\n",
    "    'criterion': ['squared_error', 'absolute_error'],\n",
    "    'max_leaf_nodes': [None, 10, 100],\n",
    "}\n",
    "\n",
    "grid_search = GridSearchCV(\n",
    "    estimator=ExtraTreesRegressor(random_state=42),\n",
    "    param_grid=param_grid,\n",
    "    scoring='neg_mean_squared_error',\n",
    "    cv=5,\n",
    "    n_jobs=-1,\n",
    "    error_score='raise'\n",
    ")\n",
    "\n",
    "grid_search.fit(X_train, y_train)\n",
    "\n",
    "print(\"Best parameters found: \", grid_search.best_params_)\n",
    "\n",
    "best_model_et = grid_search.best_estimator_"
   ]
  },
  {
   "cell_type": "code",
   "execution_count": 62,
   "metadata": {},
   "outputs": [
    {
     "data": {
      "text/plain": [
       "{'bootstrap': False,\n",
       " 'ccp_alpha': 0.0,\n",
       " 'criterion': 'absolute_error',\n",
       " 'max_depth': None,\n",
       " 'max_features': 1.0,\n",
       " 'max_leaf_nodes': None,\n",
       " 'max_samples': None,\n",
       " 'min_impurity_decrease': 0.0,\n",
       " 'min_samples_leaf': 1,\n",
       " 'min_samples_split': 2,\n",
       " 'min_weight_fraction_leaf': 0.0,\n",
       " 'n_estimators': 150,\n",
       " 'n_jobs': None,\n",
       " 'oob_score': False,\n",
       " 'random_state': 42,\n",
       " 'verbose': 0,\n",
       " 'warm_start': False}"
      ]
     },
     "execution_count": 62,
     "metadata": {},
     "output_type": "execute_result"
    }
   ],
   "source": [
    "best_model_et.get_params()"
   ]
  },
  {
   "cell_type": "markdown",
   "metadata": {},
   "source": [
    "### 再次进行评估"
   ]
  },
  {
   "cell_type": "code",
   "execution_count": 63,
   "metadata": {},
   "outputs": [
    {
     "name": "stdout",
     "output_type": "stream",
     "text": [
      "Average Mean Squared Error: 7.429037333333317e-05\n"
     ]
    }
   ],
   "source": [
    "result_et_best = cross_validate(best_model_et, features, target, cv=5, scoring='neg_mean_squared_error')\n",
    "mse_scores_et_best = -result_et_best['test_score']\n",
    "print(\"Average Mean Squared Error:\", mse_scores_et_best.mean())"
   ]
  },
  {
   "cell_type": "code",
   "execution_count": 64,
   "metadata": {},
   "outputs": [
    {
     "name": "stdout",
     "output_type": "stream",
     "text": [
      "Mean Squared Error for KOL_Estimated: 6.719499999999837e-05\n",
      "Mean Squared Error for Transfer_Estimated: 6.246222222222294e-05\n"
     ]
    }
   ],
   "source": [
    "y_pred = best_model_et.predict(X_test)\n",
    "\n",
    "mse_et_best = mean_squared_error(y_test, y_pred, multioutput='raw_values')\n",
    "print(f\"Mean Squared Error for KOL_Estimated: {mse_et_best[0]}\")\n",
    "print(f\"Mean Squared Error for Transfer_Estimated: {mse_et_best[1]}\")"
   ]
  },
  {
   "cell_type": "markdown",
   "metadata": {},
   "source": [
    "# 各模型评估汇总"
   ]
  },
  {
   "cell_type": "markdown",
   "metadata": {},
   "source": [
    "### 均方误差"
   ]
  },
  {
   "cell_type": "code",
   "execution_count": 65,
   "metadata": {},
   "outputs": [
    {
     "data": {
      "text/html": [
       "<div>\n",
       "<style scoped>\n",
       "    .dataframe tbody tr th:only-of-type {\n",
       "        vertical-align: middle;\n",
       "    }\n",
       "\n",
       "    .dataframe tbody tr th {\n",
       "        vertical-align: top;\n",
       "    }\n",
       "\n",
       "    .dataframe thead th {\n",
       "        text-align: right;\n",
       "    }\n",
       "</style>\n",
       "<table border=\"1\" class=\"dataframe\">\n",
       "  <thead>\n",
       "    <tr style=\"text-align: right;\">\n",
       "      <th></th>\n",
       "      <th>调参前平均均方误差</th>\n",
       "      <th>调参后平均均方误差</th>\n",
       "      <th>调参前均方误差KOL_Estimated</th>\n",
       "      <th>调参后均方误差KOL_Estimated</th>\n",
       "      <th>调参前均方误差Transfer_Estimated</th>\n",
       "      <th>调参后均方误差Transfer_Estimated</th>\n",
       "    </tr>\n",
       "  </thead>\n",
       "  <tbody>\n",
       "    <tr>\n",
       "      <th>KNN 回归</th>\n",
       "      <td>2.01082000e-04</td>\n",
       "      <td>1.87014675e-04</td>\n",
       "      <td>3.98260000e-04</td>\n",
       "      <td>2.70907502e-04</td>\n",
       "      <td>3.96000000e-04</td>\n",
       "      <td>2.65393904e-04</td>\n",
       "    </tr>\n",
       "    <tr>\n",
       "      <th>随机森林回归</th>\n",
       "      <td>1.69363250e-04</td>\n",
       "      <td>1.60623184e-04</td>\n",
       "      <td>1.29681850e-04</td>\n",
       "      <td>1.21237246e-04</td>\n",
       "      <td>1.24310000e-04</td>\n",
       "      <td>1.16487194e-04</td>\n",
       "    </tr>\n",
       "    <tr>\n",
       "      <th>Adaboost回归_KOL_Estimated</th>\n",
       "      <td>2.34550000e-04</td>\n",
       "      <td>2.36600000e-04</td>\n",
       "      <td>2.10500000e-04</td>\n",
       "      <td>2.10500000e-04</td>\n",
       "      <td>nan</td>\n",
       "      <td>nan</td>\n",
       "    </tr>\n",
       "    <tr>\n",
       "      <th>Adaboost回归_Transfer_Estimated</th>\n",
       "      <td>5.60000000e-04</td>\n",
       "      <td>4.60000000e-04</td>\n",
       "      <td>nan</td>\n",
       "      <td>nan</td>\n",
       "      <td>2.00000000e-04</td>\n",
       "      <td>2.00000000e-04</td>\n",
       "    </tr>\n",
       "    <tr>\n",
       "      <th>GBRT回归_KOL_Estimated</th>\n",
       "      <td>1.47088031e-04</td>\n",
       "      <td>1.34997491e-04</td>\n",
       "      <td>9.30017721e-05</td>\n",
       "      <td>8.05463085e-05</td>\n",
       "      <td>nan</td>\n",
       "      <td>nan</td>\n",
       "    </tr>\n",
       "    <tr>\n",
       "      <th>GBRT回归_Transfer_Estimated</th>\n",
       "      <td>1.06809344e-04</td>\n",
       "      <td>1.25917124e-04</td>\n",
       "      <td>nan</td>\n",
       "      <td>nan</td>\n",
       "      <td>1.20159311e-04</td>\n",
       "      <td>8.66514027e-05</td>\n",
       "    </tr>\n",
       "    <tr>\n",
       "      <th>Bagging回归</th>\n",
       "      <td>2.37263250e-04</td>\n",
       "      <td>9.55839860e-05</td>\n",
       "      <td>1.21755000e-04</td>\n",
       "      <td>1.01260184e-04</td>\n",
       "      <td>1.15000000e-04</td>\n",
       "      <td>9.53136000e-05</td>\n",
       "    </tr>\n",
       "    <tr>\n",
       "      <th>ExtraTree回归</th>\n",
       "      <td>1.04306660e-04</td>\n",
       "      <td>7.42903733e-05</td>\n",
       "      <td>8.54437250e-05</td>\n",
       "      <td>6.71950000e-05</td>\n",
       "      <td>8.00800000e-05</td>\n",
       "      <td>6.24622222e-05</td>\n",
       "    </tr>\n",
       "  </tbody>\n",
       "</table>\n",
       "</div>"
      ],
      "text/plain": [
       "                                    调参前平均均方误差       调参后平均均方误差  \\\n",
       "KNN 回归                         2.01082000e-04  1.87014675e-04   \n",
       "随机森林回归                         1.69363250e-04  1.60623184e-04   \n",
       "Adaboost回归_KOL_Estimated       2.34550000e-04  2.36600000e-04   \n",
       "Adaboost回归_Transfer_Estimated  5.60000000e-04  4.60000000e-04   \n",
       "GBRT回归_KOL_Estimated           1.47088031e-04  1.34997491e-04   \n",
       "GBRT回归_Transfer_Estimated      1.06809344e-04  1.25917124e-04   \n",
       "Bagging回归                      2.37263250e-04  9.55839860e-05   \n",
       "ExtraTree回归                    1.04306660e-04  7.42903733e-05   \n",
       "\n",
       "                              调参前均方误差KOL_Estimated 调参后均方误差KOL_Estimated  \\\n",
       "KNN 回归                              3.98260000e-04       2.70907502e-04   \n",
       "随机森林回归                              1.29681850e-04       1.21237246e-04   \n",
       "Adaboost回归_KOL_Estimated            2.10500000e-04       2.10500000e-04   \n",
       "Adaboost回归_Transfer_Estimated                  nan                  nan   \n",
       "GBRT回归_KOL_Estimated                9.30017721e-05       8.05463085e-05   \n",
       "GBRT回归_Transfer_Estimated                      nan                  nan   \n",
       "Bagging回归                           1.21755000e-04       1.01260184e-04   \n",
       "ExtraTree回归                         8.54437250e-05       6.71950000e-05   \n",
       "\n",
       "                              调参前均方误差Transfer_Estimated  \\\n",
       "KNN 回归                                   3.96000000e-04   \n",
       "随机森林回归                                   1.24310000e-04   \n",
       "Adaboost回归_KOL_Estimated                            nan   \n",
       "Adaboost回归_Transfer_Estimated            2.00000000e-04   \n",
       "GBRT回归_KOL_Estimated                                nan   \n",
       "GBRT回归_Transfer_Estimated                1.20159311e-04   \n",
       "Bagging回归                                1.15000000e-04   \n",
       "ExtraTree回归                              8.00800000e-05   \n",
       "\n",
       "                              调参后均方误差Transfer_Estimated  \n",
       "KNN 回归                                   2.65393904e-04  \n",
       "随机森林回归                                   1.16487194e-04  \n",
       "Adaboost回归_KOL_Estimated                            nan  \n",
       "Adaboost回归_Transfer_Estimated            2.00000000e-04  \n",
       "GBRT回归_KOL_Estimated                                nan  \n",
       "GBRT回归_Transfer_Estimated                8.66514027e-05  \n",
       "Bagging回归                                9.53136000e-05  \n",
       "ExtraTree回归                              6.24622222e-05  "
      ]
     },
     "execution_count": 65,
     "metadata": {},
     "output_type": "execute_result"
    }
   ],
   "source": [
    "import numpy as np\n",
    "\n",
    "total = pd.DataFrame({\n",
    "    '调参前平均均方误差':[mse_scores_knn.mean(), mse_scores_forest.mean(), mse_scores_ada_KOL.mean(), mse_scores_ada_Transfer.mean(), mse_scores_gbrt_KOL.mean(), mse_scores_gbrt_Transfer.mean(), mse_scores_bagg.mean(), mse_scores_et.mean()],\n",
    "    '调参后平均均方误差':[mse_scores_knn_best.mean(), mse_scores_forest_best.mean(), mse_scores_ada_KOL_best.mean(), mse_scores_ada_Transfer_best.mean(), mse_scores_gbrt_KOL_best.mean(), mse_scores_gbrt_Transfer_best.mean(), mse_scores_bagg_best.mean(), mse_scores_et_best.mean()],\n",
    "    '调参前均方误差KOL_Estimated': [mse_knn[0], mse_forest[0], mse_ada_KOL, np.nan, mse_gbrt_KOL, np.nan, mse_bagg[0], mse_et[0]],\n",
    "    '调参后均方误差KOL_Estimated': [mse_knn_best[0], mse_forest_best[0], mse_ada_KOL_best, np.nan, mse_gbrt_KOL_best, np.nan, mse_bagg_best[0], mse_et_best[0]],\n",
    "    '调参前均方误差Transfer_Estimated': [mse_knn[1], mse_forest[1], np.nan, mse_ada_Transfer, np.nan, mse_gbrt_Transfer, mse_bagg[1], mse_et[1]],\n",
    "    '调参后均方误差Transfer_Estimated': [mse_knn_best[1], mse_forest_best[1], np.nan, mse_ada_Transfer_best, np.nan, mse_gbrt_Transfer_best, mse_bagg_best[1], mse_et_best[1]]\n",
    "})\n",
    "\n",
    "total.index = ['KNN 回归', '随机森林回归', 'Adaboost回归_KOL_Estimated', 'Adaboost回归_Transfer_Estimated', 'GBRT回归_KOL_Estimated', 'GBRT回归_Transfer_Estimated', 'Bagging回归', 'ExtraTree回归']\n",
    "\n",
    "for column in total.columns:\n",
    "    total[column] = total[column].apply(lambda x: f\"{x:.8e}\")\n",
    "\n",
    "total"
   ]
  },
  {
   "cell_type": "markdown",
   "metadata": {},
   "source": [
    "### 模型评分"
   ]
  },
  {
   "cell_type": "code",
   "execution_count": 66,
   "metadata": {},
   "outputs": [
    {
     "data": {
      "text/html": [
       "<div>\n",
       "<style scoped>\n",
       "    .dataframe tbody tr th:only-of-type {\n",
       "        vertical-align: middle;\n",
       "    }\n",
       "\n",
       "    .dataframe tbody tr th {\n",
       "        vertical-align: top;\n",
       "    }\n",
       "\n",
       "    .dataframe thead th {\n",
       "        text-align: right;\n",
       "    }\n",
       "</style>\n",
       "<table border=\"1\" class=\"dataframe\">\n",
       "  <thead>\n",
       "    <tr style=\"text-align: right;\">\n",
       "      <th></th>\n",
       "      <th>训练前评分</th>\n",
       "      <th>训练后评分</th>\n",
       "    </tr>\n",
       "  </thead>\n",
       "  <tbody>\n",
       "    <tr>\n",
       "      <th>KNN 回归</th>\n",
       "      <td>4.13936053e-01</td>\n",
       "      <td>6.04288438e-01</td>\n",
       "    </tr>\n",
       "    <tr>\n",
       "      <th>随机森林回归</th>\n",
       "      <td>8.12599261e-01</td>\n",
       "      <td>8.24600918e-01</td>\n",
       "    </tr>\n",
       "    <tr>\n",
       "      <th>Adaboost回归_KOL_Estimated</th>\n",
       "      <td>6.90554943e-01</td>\n",
       "      <td>6.90554943e-01</td>\n",
       "    </tr>\n",
       "    <tr>\n",
       "      <th>Adaboost回归_Transfer_Estimated</th>\n",
       "      <td>7.03703704e-01</td>\n",
       "      <td>7.03703704e-01</td>\n",
       "    </tr>\n",
       "    <tr>\n",
       "      <th>GBRT回归_KOL_Estimated</th>\n",
       "      <td>8.63282952e-01</td>\n",
       "      <td>8.81593078e-01</td>\n",
       "    </tr>\n",
       "    <tr>\n",
       "      <th>GBRT回归_Transfer_Estimated</th>\n",
       "      <td>8.21986206e-01</td>\n",
       "      <td>8.71627552e-01</td>\n",
       "    </tr>\n",
       "    <tr>\n",
       "      <th>Bagging回归</th>\n",
       "      <td>8.25321981e-01</td>\n",
       "      <td>8.54968679e-01</td>\n",
       "    </tr>\n",
       "    <tr>\n",
       "      <th>ExtraTree回归</th>\n",
       "      <td>8.77878303e-01</td>\n",
       "      <td>9.04341757e-01</td>\n",
       "    </tr>\n",
       "  </tbody>\n",
       "</table>\n",
       "</div>"
      ],
      "text/plain": [
       "                                        训练前评分           训练后评分\n",
       "KNN 回归                         4.13936053e-01  6.04288438e-01\n",
       "随机森林回归                         8.12599261e-01  8.24600918e-01\n",
       "Adaboost回归_KOL_Estimated       6.90554943e-01  6.90554943e-01\n",
       "Adaboost回归_Transfer_Estimated  7.03703704e-01  7.03703704e-01\n",
       "GBRT回归_KOL_Estimated           8.63282952e-01  8.81593078e-01\n",
       "GBRT回归_Transfer_Estimated      8.21986206e-01  8.71627552e-01\n",
       "Bagging回归                      8.25321981e-01  8.54968679e-01\n",
       "ExtraTree回归                    8.77878303e-01  9.04341757e-01"
      ]
     },
     "execution_count": 66,
     "metadata": {},
     "output_type": "execute_result"
    }
   ],
   "source": [
    "scores = pd.DataFrame({\n",
    "    '训练前评分':[model_knn.score(X_test, y_test), model_forest.score(X_test, y_test), model_ada_KOL.score(X_test, y_test_KOL), model_ada_Transfer.score(X_test, y_test_Transfer), model_gbrt_KOL.score(X_test, y_test_KOL), model_gbrt_Transfer.score(X_test, y_test_Transfer), model_bagg.score(X_test, y_test), model_et.score(X_test, y_test)],\n",
    "    '训练后评分':[best_model_knn.score(X_test, y_test), best_model_forest.score(X_test, y_test), best_model_ada_KOL.score(X_test, y_test_KOL), best_model_ada_Transfer.score(X_test, y_test_Transfer), best_model_gbrt_KOL.score(X_test, y_test_KOL), best_model_gbrt_Transfer.score(X_test, y_test_Transfer), best_model_bagg.score(X_test, y_test), best_model_et.score(X_test, y_test)],\n",
    "})\n",
    "\n",
    "scores.index = ['KNN 回归', '随机森林回归', 'Adaboost回归_KOL_Estimated', 'Adaboost回归_Transfer_Estimated', 'GBRT回归_KOL_Estimated', 'GBRT回归_Transfer_Estimated', 'Bagging回归', 'ExtraTree回归']\n",
    "\n",
    "for column in scores.columns:\n",
    "    scores[column] = scores[column].apply(lambda x: f\"{x:.8e}\")\n",
    "\n",
    "scores"
   ]
  },
  {
   "cell_type": "markdown",
   "metadata": {},
   "source": [
    "# 结论\n",
    "### ExtraTree回归模型是最适合的模型"
   ]
  },
  {
   "cell_type": "markdown",
   "metadata": {},
   "source": [
    "# 可视化"
   ]
  },
  {
   "cell_type": "markdown",
   "metadata": {},
   "source": [
    "### 导入相关库"
   ]
  },
  {
   "cell_type": "code",
   "execution_count": 67,
   "metadata": {},
   "outputs": [],
   "source": [
    "import matplotlib.pyplot as plt\n",
    "import numpy as np"
   ]
  },
  {
   "cell_type": "markdown",
   "metadata": {},
   "source": [
    "### 设置相关变量 "
   ]
  },
  {
   "cell_type": "code",
   "execution_count": 68,
   "metadata": {},
   "outputs": [],
   "source": [
    "# 预测结果\n",
    "y_pred_knn = best_model_knn.predict(X_test)\n",
    "y_pred_forest = best_model_forest.predict(X_test)\n",
    "y_pred_ada_KOL = best_model_ada_KOL.predict(X_test)\n",
    "y_pred_ada_Transfer = best_model_ada_Transfer.predict(X_test)\n",
    "y_pred_gbrt_KOL = best_model_gbrt_KOL.predict(X_test)\n",
    "y_pred_gbrt_Transfer = best_model_gbrt_Transfer.predict(X_test)\n",
    "y_pred_bagg = best_model_bagg.predict(X_test)\n",
    "y_pred_et = best_model_et.predict(X_test)"
   ]
  },
  {
   "cell_type": "markdown",
   "metadata": {},
   "source": [
    "### KNN回归模型"
   ]
  },
  {
   "cell_type": "code",
   "execution_count": 69,
   "metadata": {},
   "outputs": [
    {
     "data": {
      "image/png": "[encoded data removed]",
      "text/plain": [
       "<Figure size 640x480 with 1 Axes>"
      ]
     },
     "metadata": {},
     "output_type": "display_data"
    }
   ],
   "source": [
    "plt.figure()\n",
    "plt.scatter(y_test[:,0], y_pred_knn[:,0], label='KOL_Estimated Predicted Points', color='green')\n",
    "plt.scatter(y_test[:,1], y_pred_knn[:,1], label='Transfer_Estimated Predicted Points', marker='x', color='blue')\n",
    "plt.plot([np.min(y_test[:,0]), np.max(y_test[:,0])], [np.min(y_test[:,0]), np.max(y_test[:,0])], color='red', label='KOL_Estimated Ideal Line')\n",
    "plt.plot([np.min(y_test[:,1]), np.max(y_test[:,1])], [np.min(y_test[:,1]), np.max(y_test[:,1])], color='blue',linestyle='--', label='Transfer_Estimated Ideal Line')\n",
    "plt.xlabel('Actual Values')\n",
    "plt.ylabel('Predicted Values')\n",
    "plt.title('(KNN Regression) Actual vs Predicted')\n",
    "plt.legend()\n",
    "plt.savefig('knn.png')\n",
    "plt.show()"
   ]
  },
  {
   "cell_type": "markdown",
   "metadata": {},
   "source": [
    "### 随机森林回归模型"
   ]
  },
  {
   "cell_type": "code",
   "execution_count": 70,
   "metadata": {},
   "outputs": [
    {
     "data": {
      "image/png": "[encoded data removed]",
      "text/plain": [
       "<Figure size 640x480 with 1 Axes>"
      ]
     },
     "metadata": {},
     "output_type": "display_data"
    }
   ],
   "source": [
    "plt.figure()\n",
    "plt.scatter(y_test[:,0], y_pred_forest[:,0], label='KOL_Estimated Predicted Points', color='green')\n",
    "plt.scatter(y_test[:,1], y_pred_forest[:,1], label='Transfer_Estimated Predicted Points', marker='x', color='blue')\n",
    "plt.plot([np.min(y_test[:,0]), np.max(y_test[:,0])], [np.min(y_test[:,0]), np.max(y_test[:,0])], color='red', label='KOL_Estimated Ideal Line')\n",
    "plt.plot([np.min(y_test[:,1]), np.max(y_test[:,1])], [np.min(y_test[:,1]), np.max(y_test[:,1])], color='blue',linestyle='--', label='Transfer_Estimated Ideal Line')\n",
    "plt.xlabel('Actual Values')\n",
    "plt.ylabel('Predicted Values')\n",
    "plt.title('(Random Forest Regression) Actual vs Predicted')\n",
    "plt.legend()\n",
    "plt.savefig('forest.png')\n",
    "plt.show()"
   ]
  },
  {
   "cell_type": "markdown",
   "metadata": {},
   "source": [
    "### Adaboost回归_KOL_Estimated"
   ]
  },
  {
   "cell_type": "code",
   "execution_count": 71,
   "metadata": {},
   "outputs": [
    {
     "data": {
      "image/png": "[encoded data removed]",
      "text/plain": [
       "<Figure size 640x480 with 1 Axes>"
      ]
     },
     "metadata": {},
     "output_type": "display_data"
    }
   ],
   "source": [
    "plt.figure()\n",
    "plt.scatter(y_test_KOL, y_pred_ada_KOL, label='Predicted Points')\n",
    "plt.plot([np.min(y_test_KOL), np.max(y_test_KOL)], [np.min(y_test_KOL), np.max(y_test_KOL)], color='green', label='Ideal Line')\n",
    "plt.xlabel('Actual Values')\n",
    "plt.ylabel('Predicted Values')\n",
    "plt.title('(Ada Regression(KOL_Estimated)) Actual vs Predicted')\n",
    "plt.legend()\n",
    "plt.show()"
   ]
  },
  {
   "cell_type": "markdown",
   "metadata": {},
   "source": [
    "### Adaboost回归_Transfer_Estimated\t"
   ]
  },
  {
   "cell_type": "code",
   "execution_count": 72,
   "metadata": {},
   "outputs": [
    {
     "data": {
      "image/png": "[encoded data removed]",
      "text/plain": [
       "<Figure size 640x480 with 1 Axes>"
      ]
     },
     "metadata": {},
     "output_type": "display_data"
    }
   ],
   "source": [
    "plt.figure()\n",
    "plt.scatter(y_test_Transfer, y_pred_ada_Transfer, label='Predicted Points')\n",
    "plt.plot([np.min(y_test_Transfer), np.max(y_test_Transfer)], [np.min(y_test_Transfer), np.max(y_test_Transfer)], color='green', label='Ideal Line')\n",
    "plt.xlabel('Actual Values')\n",
    "plt.ylabel('Predicted Values')\n",
    "plt.title('(Ada Regression(Transfer_Estimated)) Actual vs Predicted')\n",
    "plt.legend()\n",
    "plt.show()"
   ]
  },
  {
   "cell_type": "markdown",
   "metadata": {},
   "source": [
    "### GBRT回归_KOL_Estimated\t"
   ]
  },
  {
   "cell_type": "code",
   "execution_count": 73,
   "metadata": {},
   "outputs": [
    {
     "data": {
      "image/png": "[encoded data removed]",
      "text/plain": [
       "<Figure size 640x480 with 1 Axes>"
      ]
     },
     "metadata": {},
     "output_type": "display_data"
    }
   ],
   "source": [
    "plt.figure()\n",
    "plt.scatter(y_test_KOL, y_pred_gbrt_KOL, label='Predicted Points')\n",
    "plt.plot([np.min(y_test_KOL), np.max(y_test_KOL)], [np.min(y_test_KOL), np.max(y_test_KOL)], color='green', label='Ideal Line')\n",
    "plt.xlabel('Actual Values')\n",
    "plt.ylabel('Predicted Values')\n",
    "plt.title('(GBRT Regression(KOL_Estimated)) Actual vs Predicted')\n",
    "plt.legend()\n",
    "plt.show()"
   ]
  },
  {
   "cell_type": "markdown",
   "metadata": {},
   "source": [
    "### GBRT回归_Transfer_Estimated\t"
   ]
  },
  {
   "cell_type": "code",
   "execution_count": 74,
   "metadata": {},
   "outputs": [
    {
     "data": {
      "image/png": "[encoded data removed]",
      "text/plain": [
       "<Figure size 640x480 with 1 Axes>"
      ]
     },
     "metadata": {},
     "output_type": "display_data"
    }
   ],
   "source": [
    "plt.figure()\n",
    "plt.scatter(y_test_Transfer, y_pred_gbrt_Transfer, label='Predicted Points')\n",
    "plt.plot([np.min(y_test_Transfer), np.max(y_test_Transfer)], [np.min(y_test_Transfer), np.max(y_test_Transfer)], color='green', label='Ideal Line')\n",
    "plt.xlabel('Actual Values')\n",
    "plt.ylabel('Predicted Values')\n",
    "plt.title('(GBRT Regression(Transfer_Estimated)) Actual vs Predicted')\n",
    "plt.legend()\n",
    "plt.show()"
   ]
  },
  {
   "cell_type": "markdown",
   "metadata": {},
   "source": [
    "### Bagging回归模型"
   ]
  },
  {
   "cell_type": "code",
   "execution_count": 75,
   "metadata": {},
   "outputs": [
    {
     "data": {
      "image/png": "[encoded data removed]",
      "text/plain": [
       "<Figure size 640x480 with 1 Axes>"
      ]
     },
     "metadata": {},
     "output_type": "display_data"
    }
   ],
   "source": [
    "plt.figure()\n",
    "plt.scatter(y_test[:,0], y_pred_bagg[:,0], label='KOL_Estimated Predicted Points', color='green')\n",
    "plt.scatter(y_test[:,1], y_pred_bagg[:,1], label='Transfer_Estimated Predicted Points', marker='x', color='blue')\n",
    "plt.plot([np.min(y_test[:,0]), np.max(y_test[:,0])], [np.min(y_test[:,0]), np.max(y_test[:,0])], color='red', label='KOL_Estimated Ideal Line')\n",
    "plt.plot([np.min(y_test[:,1]), np.max(y_test[:,1])], [np.min(y_test[:,1]), np.max(y_test[:,1])], color='blue',linestyle='--', label='Transfer_Estimated Ideal Line')\n",
    "plt.xlabel('Actual Values')\n",
    "plt.ylabel('Predicted Values')\n",
    "plt.title('(Bagging Regression) Actual vs Predicted')\n",
    "plt.legend()\n",
    "plt.savefig('bagg.png')\n",
    "plt.show()"
   ]
  },
  {
   "cell_type": "markdown",
   "metadata": {},
   "source": [
    "# ExtraTree回归模型"
   ]
  },
  {
   "cell_type": "code",
   "execution_count": 76,
   "metadata": {},
   "outputs": [
    {
     "data": {
      "image/png": "[encoded data removed]",
      "text/plain": [
       "<Figure size 640x480 with 1 Axes>"
      ]
     },
     "metadata": {},
     "output_type": "display_data"
    }
   ],
   "source": [
    "plt.figure()\n",
    "plt.scatter(y_test[:,0], y_pred_et[:,0], label='KOL_Estimated Predicted Points', color='green')\n",
    "plt.scatter(y_test[:,1], y_pred_et[:,1], label='Transfer_Estimated Predicted Points', marker='x', color='blue')\n",
    "plt.plot([np.min(y_test[:,0]), np.max(y_test[:,0])], [np.min(y_test[:,0]), np.max(y_test[:,0])], color='red', label='KOL_Estimated Ideal Line')\n",
    "plt.plot([np.min(y_test[:,1]), np.max(y_test[:,1])], [np.min(y_test[:,1]), np.max(y_test[:,1])], color='blue',linestyle='--', label='Transfer_Estimated Ideal Line')\n",
    "plt.xlabel('Actual Values')\n",
    "plt.ylabel('Predicted Values')\n",
    "plt.title('(ExtraTree Regression) Actual vs Predicted')\n",
    "plt.legend()\n",
    "plt.savefig('et.png')\n",
    "plt.show()"
   ]
  },
  {
   "cell_type": "markdown",
   "metadata": {},
   "source": [
    "# 输出报告"
   ]
  },
  {
   "cell_type": "markdown",
   "metadata": {},
   "source": [
    "### 导入相关库"
   ]
  },
  {
   "cell_type": "code",
   "execution_count": 77,
   "metadata": {},
   "outputs": [],
   "source": [
    "from reportlab.lib.pagesizes import letter\n",
    "from reportlab.pdfgen import canvas\n",
    "from reportlab.pdfbase.ttfonts import TTFont\n",
    "from reportlab.pdfbase import pdfmetrics\n",
    "import textwrap"
   ]
  },
  {
   "cell_type": "markdown",
   "metadata": {},
   "source": [
    "### 设置函数"
   ]
  },
  {
   "cell_type": "code",
   "execution_count": 87,
   "metadata": {},
   "outputs": [],
   "source": [
    "\n",
    "def draw_wrapped_text(c, text, height, max_line_width, line_height=15):\n",
    "    wrapped_text = textwrap.fill(text, width=max_line_width)\n",
    "    for line in wrapped_text.splitlines():\n",
    "        c.drawString(100, height, line)\n",
    "        height -= 15\n",
    "    return height\n",
    "        \n",
    "\n",
    "def add_model_report(c, num, h, origin, best, original_model, best_model, image_path, max_line_width=80):\n",
    "    c.setFont(\"SimHei\", 14)\n",
    "    c.drawString(100, h, f\"{num}.1 参数\")\n",
    "    h -= 20\n",
    "\n",
    "    c.setFont(\"SimHei\", 12)\n",
    "    c.drawString(100, h, \"原始模型参数: \")\n",
    "    h -= 15\n",
    "    h = draw_wrapped_text(c, f\"{original_model.get_params()}\", h, max_line_width)\n",
    "    h -= 5\n",
    "\n",
    "    c.drawString(100, h, \"调参后模型参数: \")\n",
    "    h -= 15\n",
    "    h = draw_wrapped_text(c, f\"{best_model.get_params()}\", h, max_line_width)\n",
    "    h -= 5\n",
    "\n",
    "    c.setFont(\"SimHei\", 14)\n",
    "    c.drawString(100, h, f\"{num}.2 模型评分\")\n",
    "    h -= 20\n",
    "\n",
    "    c.setFont(\"SimHei\", 12)\n",
    "    if origin.__contains__('KOL'):\n",
    "        c.drawString(100, h, f\"原始模型评分: {original_model.score(X_test, y_test_KOL)}\")\n",
    "    elif origin.__contains__('Transfer'):\n",
    "        c.drawString(100, h, f\"原始模型评分: {original_model.score(X_test, y_test_Transfer)}\")\n",
    "    else:\n",
    "        c.drawString(100, h, f\"原始模型评分: {original_model.score(X_test, y_test)}\")\n",
    "    h-=15\n",
    " \n",
    "    if best.__contains__('KOL'):\n",
    "        c.drawString(100, h, f\"调参后模型评分: {best_model.score(X_test, y_test_KOL)}\")\n",
    "    elif best.__contains__('Transfer'):\n",
    "        c.drawString(100, h, f\"调参后模型评分: {best_model.score(X_test, y_test_Transfer)}\")\n",
    "    else:\n",
    "        c.drawString(100, h, f\"调参后模型评分: {best_model.score(X_test, y_test)}\")\n",
    "    h -= 25\n",
    "\n",
    "    c.setFont(\"SimHei\", 14)\n",
    "    c.drawString(100, h, f\"{num}.3 模型预测结果可视化\")\n",
    "\n",
    "    h -= 285\n",
    "    c.drawImage(image_path, 100, h, width=400, height=280)\n",
    "    h -= 40\n",
    "\n",
    "    return h"
   ]
  },
  {
   "cell_type": "markdown",
   "metadata": {},
   "source": [
    "### 设置图片路径"
   ]
  },
  {
   "cell_type": "code",
   "execution_count": 79,
   "metadata": {},
   "outputs": [],
   "source": [
    "image_knn = \"./img/knn.png\"\n",
    "image_forest = \"./img/forest.png\"\n",
    "image_ada_KOL = \"./img/ada_KOL.png\"\n",
    "image_ada_Transfer = \"./img/ada_Transfer.png\"\n",
    "image_gbrt_KOL = \"./img/gbrt_KOL.png\"\n",
    "image_gbrt_Transfer = \"./img/gbrt_Transfer.png\"\n",
    "image_bagg = \"./img/bagg.png\"\n",
    "image_et = \"./img/et.png\"\n",
    "image_rating = \"./img/rating2.png\"\n",
    "image_er = './img/mean_error2.png'"
   ]
  },
  {
   "cell_type": "markdown",
   "metadata": {},
   "source": [
    "### 生成报告代码"
   ]
  },
  {
   "cell_type": "code",
   "execution_count": 88,
   "metadata": {},
   "outputs": [
    {
     "name": "stdout",
     "output_type": "stream",
     "text": [
      "Report generated successfully: model_report2.pdf\n"
     ]
    }
   ],
   "source": [
    "pdf_file = \"model_report2.pdf\"\n",
    "c = canvas.Canvas(pdf_file, pagesize=letter)\n",
    "width, height = letter\n",
    "\n",
    "pdfmetrics.registerFont(TTFont('SimHei', 'SimHei.ttf'))\n",
    "\n",
    "# 设置标题\n",
    "c.setFont(\"SimHei\", 20)\n",
    "c.drawString(100, height - 50, \"多模型报告2\")\n",
    "\n",
    "c.setFont(\"SimHei\", 18)\n",
    "c.drawString(100, height - 100, \"训练模型：\")\n",
    "\n",
    "h = height - 200\n",
    "c.setFont(\"SimHei\", 16)\n",
    "c.drawString(100, h, \"1. KNN回归模型\")\n",
    "h -= 25\n",
    "\n",
    "add_model_report(c, 1, h, 'model_knn', 'best_model_knn', model_knn, best_model_knn, image_knn)\n",
    "\n",
    "\n",
    "c.showPage()\n",
    "height = letter[1] \n",
    "h = height - 50\n",
    "c.setFont(\"SimHei\", 16)\n",
    "c.drawString(100, h, \"2. 随机森林回归模型\")\n",
    "h -= 25\n",
    "add_model_report(c, 2, h, 'model_forest', 'best_model_forest', model_forest, best_model_forest, image_forest)\n",
    "\n",
    "\n",
    "c.showPage()\n",
    "height = letter[1] \n",
    "h = height - 50\n",
    "c.setFont(\"SimHei\", 16)\n",
    "c.drawString(100, h, \"3. Adaboost回归_KOL_Estimated模型\")\n",
    "h -= 25\n",
    "add_model_report(c, 3, h, 'model_ada_KOL', 'best_model_ada_KOL', model_ada_KOL, best_model_ada_KOL, image_ada_KOL)\n",
    "\n",
    "\n",
    "c.showPage()\n",
    "height = letter[1] \n",
    "h = height - 50\n",
    "c.setFont(\"SimHei\", 16)\n",
    "c.drawString(100, h, \"4. Adaboost回归_Transfer_Estimated模型\")\n",
    "h -= 25\n",
    "add_model_report(c, 4, h, 'model_ada_Transfer', 'best_model_ada_Transfer', model_ada_Transfer, best_model_ada_Transfer, image_ada_Transfer)\n",
    "\n",
    "\n",
    "c.showPage()\n",
    "height = letter[1] \n",
    "h = height - 50\n",
    "c.setFont(\"SimHei\", 16)\n",
    "c.drawString(100, h, \"5. GBRT回归_KOL_Estimated模型\")\n",
    "h -= 25\n",
    "add_model_report(c, 5, h, 'model_gbrt_KOL', 'best_model_gbrt_KOL', model_gbrt_KOL, best_model_gbrt_KOL, image_gbrt_KOL)\n",
    "\n",
    "\n",
    "c.showPage()\n",
    "height = letter[1] \n",
    "h = height - 50\n",
    "c.setFont(\"SimHei\", 16)\n",
    "c.drawString(100, h, \"6. GBRT回归_Transfer_Estimated模型\")\n",
    "h -= 25\n",
    "add_model_report(c, 6, h, 'model_gbrt_Transfer', 'best_model_gbrt_Transfer', model_gbrt_Transfer, best_model_gbrt_Transfer, image_gbrt_Transfer)\n",
    "\n",
    "\n",
    "c.showPage()\n",
    "height = letter[1] \n",
    "h = height - 50\n",
    "c.setFont(\"SimHei\", 16)\n",
    "c.drawString(100, h, \"7. Bagging回归模型\")\n",
    "h -= 25\n",
    "add_model_report(c, 7, h, 'model_bagg', 'best_model_bagg', model_bagg, best_model_bagg, image_bagg)\n",
    "\n",
    "c.showPage()\n",
    "height = letter[1] \n",
    "h = height - 50\n",
    "c.setFont(\"SimHei\", 16)\n",
    "c.drawString(100, h, \"8. ExtraTree回归模型\")\n",
    "h -= 25\n",
    "add_model_report(c, 8, h, 'model_et', 'best_model_et', model_et, best_model_et, image_et)\n",
    "\n",
    "c.showPage()\n",
    "height = letter[1] \n",
    "h = height - 50\n",
    "c.setFont(\"SimHei\", 18)\n",
    "c.drawString(100, h, \"平均均方误差与均方误差汇总\")\n",
    "h -= 240\n",
    "c.drawImage(image_er, 50, h, width=510, height=230)\n",
    "h -= 80\n",
    "\n",
    "c.drawString(100, h, \"模型评分汇总\")\n",
    "h-=230\n",
    "c.drawImage(image_rating, 100, h, width=414, height=200)\n",
    "h-=60\n",
    "\n",
    "c.drawString(100, h, \"模型选择结论：\")\n",
    "h-=20\n",
    "c.setFont(\"SimHei\", 14)\n",
    "c.drawString(100, h, \"ExtraTree回归模型是最适合的模型。\")\n",
    "\n",
    "\n",
    "c.save()\n",
    "\n",
    "print(f\"Report generated successfully: {pdf_file}\")"
   ]
  }
 ],
 "metadata": {
  "kernelspec": {
   "display_name": "dd",
   "language": "python",
   "name": "python3"
  },
  "language_info": {
   "codemirror_mode": {
    "name": "ipython",
    "version": 3
   },
   "file_extension": ".py",
   "mimetype": "text/x-python",
   "name": "python",
   "nbconvert_exporter": "python",
   "pygments_lexer": "ipython3",
   "version": "3.8.19"
  }
 },
 "nbformat": 4,
 "nbformat_minor": 2
}
